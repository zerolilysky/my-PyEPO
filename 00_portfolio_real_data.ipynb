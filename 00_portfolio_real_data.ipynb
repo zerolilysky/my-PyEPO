{
 "cells": [
  {
   "cell_type": "code",
   "execution_count": null,
   "id": "e189bd81",
   "metadata": {},
   "outputs": [],
   "source": [
    "#############################################################################\n",
    "# IMPORTS AND SETUP\n",
    "#############################################################################\n",
    "# Set random seed for reproducibility\n",
    "import random\n",
    "random.seed(42)\n",
    "import numpy as np\n",
    "np.random.seed(42)\n",
    "import torch\n",
    "torch.manual_seed(42)\n",
    "torch.cuda.manual_seed(42)\n",
    "torch.backends.cudnn.deterministic = True  # Makes training more deterministic\n",
    "torch.backends.cudnn.benchmark = False     # Can speed up training when input sizes don't change\n",
    "\n",
    "# Standard imports\n",
    "import pandas as pd\n",
    "import numpy as np\n",
    "import polars as pl\n",
    "from datetime import datetime, timedelta\n",
    "import time\n",
    "import os\n",
    "#from datasets import load_dataset\n",
    "import matplotlib.pyplot as plt\n",
    "\n",
    "from tqdm.auto import tqdm  # Progress bar\n",
    "\n",
    "\n",
    "# Check and set up GPU (support MPS on Mac)\n",
    "if torch.backends.mps.is_available():\n",
    "    device = torch.device(\"mps\")\n",
    "elif torch.cuda.is_available():\n",
    "    device = torch.device(\"cuda\")\n",
    "else:\n",
    "    device = torch.device(\"cpu\")\n",
    "\n",
    "print(f\"使用设备: {device}\")\n",
    "\n",
    "# Print extra info\n",
    "if device.type == \"cuda\":\n",
    "    print(f\"GPU: {torch.cuda.get_device_name(0)}\")\n",
    "    torch.cuda.empty_cache()\n",
    "elif device.type == \"mps\":\n",
    "    print(\"使用 Apple Silicon GPU 通过 Metal Performance Shaders (MPS)\")\n",
    "\n",
    "#############################################################################\n",
    "# 数据加载与处理\n",
    "#############################################################################\n",
    "\n",
    "import pandas as pd\n",
    "import os\n",
    "import glob\n",
    "from tqdm.auto import tqdm\n",
    "\n",
    "# 创建下载目录\n",
    "os.makedirs(\"crypto_data\", exist_ok=True)\n",
    "error_files = []\n",
    "# 数据路径\n",
    "data_path = \"perp_futures_klines\"\n",
    "\n",
    "# 检查数据文件夹是否存在\n",
    "if not os.path.exists(data_path):\n",
    "    print(f\"错误: 数据文件夹 {data_path} 不存在，请确保已下载数据\")\n",
    "else:\n",
    "    print(f\"数据文件夹存在: {data_path}\")\n",
    "    \n",
    "    # 查找所有 parquet 文件\n",
    "    parquet_files = glob.glob(f\"{data_path}/**/*.parquet\", recursive=True)\n",
    "    print(f\"找到 {len(parquet_files)} 个 parquet 文件\")\n",
    "    \n",
    "    if len(parquet_files) == 0:\n",
    "        print(\"未找到数据文件，请确保数据已正确下载\")\n",
    "    else:\n",
    "        # 读取所有 parquet 文件并合并\n",
    "        print(\"正在读取数据文件...\")\n",
    "        dfs = []\n",
    "        \n",
    "        for file in tqdm(parquet_files):\n",
    "            try:\n",
    "                df_temp = pd.read_parquet(file, engine='pyarrow' )\n",
    "                # 从文件名提取 symbol\n",
    "                file_name = os.path.basename(file)\n",
    "                symbol = file_name.split('_')[0]\n",
    "                df_temp['symbol'] = symbol\n",
    "                \n",
    "                dfs.append(df_temp)\n",
    "                \n",
    "               \n",
    "                \n",
    "                \n",
    "                \n",
    "            except Exception as e:\n",
    "                print(f\"读取文件 {file} 时出错: {e}\")\n",
    "                \n",
    "            \n",
    "            \n",
    "        # 合并所有数据\n",
    "        if dfs:\n",
    "            print(\"合并所有数据...\")\n",
    "            df = pd.concat(dfs, ignore_index=True)\n",
    "            \n",
    "            # 查看数据的前几行\n",
    "            print(\"数据预览:\")\n",
    "            print(df.head())\n",
    "            \n",
    "            # 检查数据类型和缺失值\n",
    "            print(\"\\n数据信息:\")\n",
    "            print(df.info())\n",
    "            print(\"\\n缺失值统计:\")\n",
    "            print(df.isnull().sum())\n",
    "            \n",
    "            # 确保 open_time 列是 datetime 类型\n",
    "            df['open_time'] = pd.to_datetime(df['open_time'])\n",
    "            \n",
    "            # 设置特征列\n",
    "            feature_columns = ['open', 'high', 'low', 'close', 'volume', 'count']\n",
    "            \n",
    "            # 计算30分钟收益率（horizon = 30min）\n",
    "            print(\"\\n计算30分钟收益率...\")\n",
    "            df = df.sort_values(['symbol', 'open_time'])  # 确保数据按 symbol 和时间排序\n",
    "            df['future_close'] = df.groupby('symbol')['close'].shift(-30)  # 30个时间单位后的收盘价\n",
    "            df['return_30min'] = df['future_close'] / df['close'] - 1  # 计算收益率\n",
    "            \n",
    "            # 删除缺失的目标变量行\n",
    "            df = df.dropna(subset=['return_30min'])\n",
    "            \n",
    "            # 查看处理后的数据\n",
    "            print(\"\\n处理后的数据预览:\")\n",
    "            print(df.head())\n",
    "            \n",
    "            # 数据已经包含所有 symbol，确保它们被正确标记\n",
    "            symbols = df['symbol'].unique()\n",
    "            print(f\"\\n数据集中包含的交易对: {symbols}\")\n",
    "            print(f\"总数据行数: {len(df)}\")\n",
    "            \n",
    "            # 可视化不同 symbol 的数据分布\n",
    "            plt.figure(figsize=(12, 6))\n",
    "            df['symbol'].value_counts().plot(kind='bar')\n",
    "            plt.title('各交易对数据量')\n",
    "            plt.ylabel('数据点数')\n",
    "            plt.xticks(rotation=45)\n",
    "            plt.tight_layout()\n",
    "            plt.show()\n",
    "            \n",
    "            # 准备特征矩阵 X 和目标变量 Y\n",
    "            X = df[feature_columns]\n",
    "            y = df['return_30min']\n",
    "            \n",
    "            # 查看特征和目标变量的统计信息\n",
    "            print(\"\\n特征统计信息:\")\n",
    "            print(X.describe())\n",
    "            \n",
    "            print(\"\\n目标变量统计信息:\")\n",
    "            print(y.describe())\n",
    "            \n",
    "            # 保存处理后的数据\n",
    "            print(\"\\n保存处理后的数据...\")\n",
    "            df.to_csv('processed_crypto_data.csv', index=False)\n",
    "            print(\"数据处理完成!\")\n",
    "        else:\n",
    "            print(\"没有成功读取任何数据文件\")"
   ]
  },
  {
   "cell_type": "code",
   "execution_count": null,
   "id": "fc6244d1",
   "metadata": {},
   "outputs": [],
   "source": [
    "import pandas as pd\n",
    "import numpy as np\n",
    "\n",
    "def align_time_series_fast(df, fill_method='ffill', fill_value=0):\n",
    "    \"\"\"\n",
    "    Fast align time series data for different symbols without lookahead.\n",
    "    Uses pivot/groupby method for better performance.\n",
    "    \n",
    "    Parameters:\n",
    "    - df: DataFrame with 'open_time' and 'symbol' columns\n",
    "    - fill_method: Method to fill missing values ('ffill' for forward fill)\n",
    "    - fill_value: Value to use when there are no previous values (default: 0)\n",
    "    \n",
    "    Returns:\n",
    "    - DataFrame with aligned time series\n",
    "    \"\"\"\n",
    "    # Make sure open_time is datetime\n",
    "    df['open_time'] = pd.to_datetime(df['open_time'])\n",
    "    \n",
    "    # Create a multi-index from all combinations of time and symbol\n",
    "    all_times = df['open_time'].unique()\n",
    "    all_symbols = df['symbol'].unique()\n",
    "    \n",
    "    # Create a complete index\n",
    "    idx = pd.MultiIndex.from_product([all_times, all_symbols], names=['open_time', 'symbol'])\n",
    "    \n",
    "    # Set multi-index and reindex to get all combinations\n",
    "    df_indexed = df.set_index(['open_time', 'symbol'])\n",
    "    aligned_df = df_indexed.reindex(idx)\n",
    "    \n",
    "    # Group by symbol and apply forward fill\n",
    "    if fill_method == 'ffill':\n",
    "        aligned_df = aligned_df.groupby(level='symbol').ffill()\n",
    "    \n",
    "    # Fill remaining NaN with fill_value\n",
    "    aligned_df = aligned_df.fillna(fill_value)\n",
    "    \n",
    "    # Reset index\n",
    "    aligned_df = aligned_df.reset_index()\n",
    "    \n",
    "    return aligned_df.sort_values(['symbol', 'open_time']).reset_index(drop=True)\n",
    "\n",
    "\n",
    "\n"
   ]
  },
  {
   "cell_type": "code",
   "execution_count": null,
   "id": "f5dcc1e3",
   "metadata": {},
   "outputs": [],
   "source": [
    "combined_df=pd.read_csv('processed_crypto_data.csv')\n",
    "\n",
    "align_df= align_time_series_fast(combined_df)"
   ]
  },
  {
   "cell_type": "code",
   "execution_count": null,
   "id": "148c3d99",
   "metadata": {},
   "outputs": [],
   "source": [
    "# 存储df为.parquet文件\n",
    "align_df.to_parquet(\"aligned_crypto_data.parquet\")"
   ]
  },
  {
   "cell_type": "code",
   "execution_count": 1,
   "id": "12f8ad90",
   "metadata": {},
   "outputs": [
    {
     "name": "stdout",
     "output_type": "stream",
     "text": [
      "Using device: mps\n",
      "Using Apple Silicon GPU via Metal Performance Shaders (MPS)\n"
     ]
    },
    {
     "name": "stderr",
     "output_type": "stream",
     "text": [
      "/Users/siluli/Documents/vscodefiles/paper project/zyh/pyEPO/my-PyEPO/.venv/lib/python3.11/site-packages/tqdm/auto.py:21: TqdmWarning: IProgress not found. Please update jupyter and ipywidgets. See https://ipywidgets.readthedocs.io/en/stable/user_install.html\n",
      "  from .autonotebook import tqdm as notebook_tqdm\n"
     ]
    }
   ],
   "source": [
    "#############################################################################\n",
    "# IMPORTS AND SETUP\n",
    "#############################################################################\n",
    "# Set random seed for reproducibility\n",
    "import random\n",
    "random.seed(42)\n",
    "import numpy as np\n",
    "np.random.seed(42)\n",
    "import torch\n",
    "torch.manual_seed(42)\n",
    "torch.cuda.manual_seed(42)\n",
    "torch.backends.cudnn.deterministic = True  # Makes training more deterministic\n",
    "torch.backends.cudnn.benchmark = False     # Can speed up training when input sizes don't change\n",
    "\n",
    "# Standard imports\n",
    "import pandas as pd\n",
    "import numpy as np\n",
    "import polars as pl\n",
    "from datetime import datetime, timedelta\n",
    "import time\n",
    "import os\n",
    "\n",
    "from tqdm.auto import tqdm  # Progress bar\n",
    "\n",
    "\n",
    "# Check and set up GPU (support MPS on Mac)\n",
    "if torch.backends.mps.is_available():\n",
    "    device = torch.device(\"mps\")\n",
    "elif torch.cuda.is_available():\n",
    "    device = torch.device(\"cuda\")\n",
    "else:\n",
    "    device = torch.device(\"cpu\")\n",
    "\n",
    "print(f\"Using device: {device}\")\n",
    "\n",
    "# Print extra info\n",
    "if device.type == \"cuda\":\n",
    "    print(f\"GPU: {torch.cuda.get_device_name(0)}\")\n",
    "    torch.cuda.empty_cache()\n",
    "elif device.type == \"mps\":\n",
    "    print(\"Using Apple Silicon GPU via Metal Performance Shaders (MPS)\")\n",
    "\n",
    "\n",
    "# ##### 强制使用CPU\n",
    "# # os.environ[\"CUDA_VISIBLE_DEVICES\"] = \"-1\"\n",
    "\n",
    "# device = torch.device(\"cpu\")\n",
    "# # Force JAX to use the CPU backend only (avoids CUDA OOM in JAX)\n",
    "# os.environ['JAX_PLATFORMS'] = 'cpu'"
   ]
  },
  {
   "cell_type": "code",
   "execution_count": 2,
   "id": "8f1cf200",
   "metadata": {},
   "outputs": [],
   "source": [
    "%load_ext autoreload\n",
    "%autoreload 2\n",
    "\n",
    "import sys\n",
    "import os\n",
    "# 添加项目根目录到搜索路径\n",
    "sys.path.append('/Documents/vscodefiles/paper project/zyh/pyEPO/my-PyEPO')\n",
    "\n",
    "import time\n",
    "import numpy as np\n",
    "import pandas as pd\n",
    "\n",
    "# PyEPO imports\n",
    "from pyepo.data.dataset import optDataset\n",
    "\n",
    "# Gurobi\n",
    "import gurobipy as gp\n",
    "from gurobipy import GRB\n",
    "from pyepo.model.grb import optGrbModel\n",
    "\n",
    "# Pyomo\n",
    "from pyomo import environ as pe\n",
    "from pyepo.model.omo import optOmoModel # 记得要把 omo 文件夹里的 __init__.py 文件也修改了\n",
    "from pyepo import EPO\n",
    "\n",
    "# COPTPy\n",
    "from coptpy import Envr, COPT\n",
    "from pyepo.model.copt import optCoptModel\n",
    "\n",
    "# MPAX\n",
    "from pyepo.model.mpax import optMpaxModel"
   ]
  },
  {
   "cell_type": "code",
   "execution_count": 4,
   "id": "3191e9a0",
   "metadata": {},
   "outputs": [
    {
     "data": {
      "text/html": [
       "<div>\n",
       "<style scoped>\n",
       "    .dataframe tbody tr th:only-of-type {\n",
       "        vertical-align: middle;\n",
       "    }\n",
       "\n",
       "    .dataframe tbody tr th {\n",
       "        vertical-align: top;\n",
       "    }\n",
       "\n",
       "    .dataframe thead th {\n",
       "        text-align: right;\n",
       "    }\n",
       "</style>\n",
       "<table border=\"1\" class=\"dataframe\">\n",
       "  <thead>\n",
       "    <tr style=\"text-align: right;\">\n",
       "      <th></th>\n",
       "      <th>open_time</th>\n",
       "      <th>symbol</th>\n",
       "      <th>open</th>\n",
       "      <th>high</th>\n",
       "      <th>low</th>\n",
       "      <th>close</th>\n",
       "      <th>volume</th>\n",
       "      <th>count</th>\n",
       "      <th>future_close</th>\n",
       "      <th>return_30min</th>\n",
       "    </tr>\n",
       "  </thead>\n",
       "  <tbody>\n",
       "    <tr>\n",
       "      <th>0</th>\n",
       "      <td>2025-01-01 00:00:00</td>\n",
       "      <td>1000000MOGUSDT</td>\n",
       "      <td>2.0176</td>\n",
       "      <td>2.0198</td>\n",
       "      <td>2.0150</td>\n",
       "      <td>2.0196</td>\n",
       "      <td>2646.2</td>\n",
       "      <td>125.0</td>\n",
       "      <td>2.0306</td>\n",
       "      <td>0.005447</td>\n",
       "    </tr>\n",
       "    <tr>\n",
       "      <th>1</th>\n",
       "      <td>2025-01-01 00:01:00</td>\n",
       "      <td>1000000MOGUSDT</td>\n",
       "      <td>2.0199</td>\n",
       "      <td>2.0212</td>\n",
       "      <td>2.0189</td>\n",
       "      <td>2.0210</td>\n",
       "      <td>1783.3</td>\n",
       "      <td>104.0</td>\n",
       "      <td>2.0349</td>\n",
       "      <td>0.006878</td>\n",
       "    </tr>\n",
       "    <tr>\n",
       "      <th>2</th>\n",
       "      <td>2025-01-01 00:02:00</td>\n",
       "      <td>1000000MOGUSDT</td>\n",
       "      <td>2.0209</td>\n",
       "      <td>2.0246</td>\n",
       "      <td>2.0209</td>\n",
       "      <td>2.0240</td>\n",
       "      <td>888.1</td>\n",
       "      <td>115.0</td>\n",
       "      <td>2.0371</td>\n",
       "      <td>0.006472</td>\n",
       "    </tr>\n",
       "    <tr>\n",
       "      <th>3</th>\n",
       "      <td>2025-01-01 00:03:00</td>\n",
       "      <td>1000000MOGUSDT</td>\n",
       "      <td>2.0241</td>\n",
       "      <td>2.0253</td>\n",
       "      <td>2.0174</td>\n",
       "      <td>2.0174</td>\n",
       "      <td>9439.2</td>\n",
       "      <td>115.0</td>\n",
       "      <td>2.0402</td>\n",
       "      <td>0.011302</td>\n",
       "    </tr>\n",
       "    <tr>\n",
       "      <th>4</th>\n",
       "      <td>2025-01-01 00:04:00</td>\n",
       "      <td>1000000MOGUSDT</td>\n",
       "      <td>2.0177</td>\n",
       "      <td>2.0187</td>\n",
       "      <td>2.0162</td>\n",
       "      <td>2.0162</td>\n",
       "      <td>4998.9</td>\n",
       "      <td>80.0</td>\n",
       "      <td>2.0392</td>\n",
       "      <td>0.011408</td>\n",
       "    </tr>\n",
       "  </tbody>\n",
       "</table>\n",
       "</div>"
      ],
      "text/plain": [
       "            open_time          symbol    open    high     low   close  volume  \\\n",
       "0 2025-01-01 00:00:00  1000000MOGUSDT  2.0176  2.0198  2.0150  2.0196  2646.2   \n",
       "1 2025-01-01 00:01:00  1000000MOGUSDT  2.0199  2.0212  2.0189  2.0210  1783.3   \n",
       "2 2025-01-01 00:02:00  1000000MOGUSDT  2.0209  2.0246  2.0209  2.0240   888.1   \n",
       "3 2025-01-01 00:03:00  1000000MOGUSDT  2.0241  2.0253  2.0174  2.0174  9439.2   \n",
       "4 2025-01-01 00:04:00  1000000MOGUSDT  2.0177  2.0187  2.0162  2.0162  4998.9   \n",
       "\n",
       "   count  future_close  return_30min  \n",
       "0  125.0        2.0306      0.005447  \n",
       "1  104.0        2.0349      0.006878  \n",
       "2  115.0        2.0371      0.006472  \n",
       "3  115.0        2.0402      0.011302  \n",
       "4   80.0        2.0392      0.011408  "
      ]
     },
     "execution_count": 4,
     "metadata": {},
     "output_type": "execute_result"
    }
   ],
   "source": [
    "import subprocess\n",
    "import sys\n",
    "\n",
    "import pandas as pd\n",
    "\n",
    "# 读取 parquet 文件\n",
    "df = pd.read_parquet(\"aligned_crypto_data.parquet\")\n",
    "\n",
    "# 查看数据\n",
    "df.head()"
   ]
  },
  {
   "cell_type": "markdown",
   "id": "1b7bfe9c",
   "metadata": {},
   "source": [
    "# Training and Testing\n"
   ]
  },
  {
   "cell_type": "markdown",
   "id": "cc8c968f",
   "metadata": {},
   "source": [
    "## 随机生成横截面xy数据"
   ]
  },
  {
   "cell_type": "code",
   "execution_count": 5,
   "id": "5fb8bffc",
   "metadata": {},
   "outputs": [
    {
     "name": "stdout",
     "output_type": "stream",
     "text": [
      "(43888350, 10)\n"
     ]
    }
   ],
   "source": [
    "print(df.shape)"
   ]
  },
  {
   "cell_type": "code",
   "execution_count": 7,
   "id": "e18452b1",
   "metadata": {},
   "outputs": [],
   "source": [
    "#  efficient version using vectorized operations across all columns at once\n",
    "def minmaxscaler_by_symbol(df, feature_range=(-1, 1), target_columns=None, group_by_column='symbol'):\n",
    "    \"\"\"\n",
    "    Ultra-efficient MinMaxScaler using vectorized groupby operations\n",
    "    \n",
    "    Parameters:\n",
    "    - df: DataFrame to scale\n",
    "    - feature_range: tuple of (min, max) to scale data to, default (-1, 1)\n",
    "    - target_columns: list of specific columns to scale\n",
    "    - group_by_column: column to group by for scaling\n",
    "    \n",
    "    Returns:\n",
    "    - Scaled DataFrame\n",
    "    \"\"\"\n",
    "    # Determine columns to scale\n",
    "    if target_columns is None:\n",
    "        numeric_columns = df.select_dtypes(include=[np.number]).columns.tolist()\n",
    "        target_columns = [col for col in numeric_columns if col not in ['open_time', group_by_column]]\n",
    "    \n",
    "    # Create a copy\n",
    "    scaled_df = df.copy()\n",
    "    \n",
    "    # Get feature range parameters\n",
    "    feature_min, feature_max = feature_range\n",
    "    feature_span = feature_max - feature_min\n",
    "    \n",
    "    # Get the subset of columns to scale\n",
    "    data_to_scale = df[target_columns]\n",
    "    \n",
    "    # Perform vectorized groupby operations\n",
    "    grouped = df.groupby(group_by_column)\n",
    "    \n",
    "    # Calculate min and max for all columns at once\n",
    "    group_mins = grouped[target_columns].transform('min')\n",
    "    group_maxs = grouped[target_columns].transform('max')\n",
    "    group_ranges = group_maxs - group_mins\n",
    "    \n",
    "    # Apply scaling formula vectorized across all columns\n",
    "    # Handle division by zero for constant values\n",
    "    scaled_values = np.where(\n",
    "        group_ranges == 0,\n",
    "        feature_min,\n",
    "        (data_to_scale - group_mins) / group_ranges * feature_span + feature_min\n",
    "    )\n",
    "    \n",
    "    # Assign scaled values back to the DataFrame\n",
    "    scaled_df[target_columns] = scaled_values\n",
    "    \n",
    "    return scaled_df"
   ]
  },
  {
   "cell_type": "code",
   "execution_count": 8,
   "id": "a97bc6fd",
   "metadata": {},
   "outputs": [
    {
     "name": "stdout",
     "output_type": "stream",
     "text": [
      "DataFrame type: <class 'pandas.core.frame.DataFrame'>\n",
      "Data shape: features (131010, 335, 6), costs (131010, 335)\n"
     ]
    }
   ],
   "source": [
    "import numpy as np\n",
    "import pandas as pd\n",
    "\n",
    "# 首先，检查数据类型\n",
    "y_col = 'return_30min'  \n",
    "x_cols = ['open', 'high', 'low', 'close', 'volume','count']\n",
    "df= minmaxscaler_by_symbol(df,target_columns=x_cols)\n",
    "print(f\"DataFrame type: {type(df)}\")\n",
    "\n",
    "# 使用 pandas 的语法\n",
    "# 2. Pivot costs matrix: shape (T, N)\n",
    "cost_pivot = df.pivot_table(\n",
    "    values=y_col,\n",
    "    index=\"open_time\",\n",
    "    columns=\"symbol\",\n",
    "    aggfunc=\"first\"  # 使用第一个值\n",
    ")\n",
    "\n",
    "# 检查一下重复值\n",
    "duplicates = df.groupby(['open_time', 'symbol']).size()\n",
    "if (duplicates > 1).any():\n",
    "    print(\"Warning: Found duplicate (time, symbol) pairs\")\n",
    "    print(\"Duplicates sample:\")\n",
    "    print(duplicates[duplicates > 1].head())\n",
    "\n",
    "# 排序并填充缺失值\n",
    "cost_pivot = cost_pivot.sort_index()\n",
    "cost_pivot = cost_pivot.fillna(0)\n",
    "\n",
    "# 提取时间和符号信息\n",
    "unique_times = cost_pivot.index.tolist()\n",
    "unique_symbols = cost_pivot.columns.tolist()\n",
    "\n",
    "# 转换为 numpy 数组\n",
    "costs = cost_pivot.values\n",
    "\n",
    "# 3. Pivot 每个特征并堆叠成 3D 张量 (T, N, k)\n",
    "feature_mats = []\n",
    "for x in x_cols:\n",
    "    mat = df.pivot_table(\n",
    "        values=x,\n",
    "        index=\"open_time\",\n",
    "        columns=\"symbol\",\n",
    "        aggfunc=\"first\"\n",
    "    )\n",
    "    # 排序，填充缺失值\n",
    "    mat = mat.sort_index().fillna(0)\n",
    "    \n",
    "    # 确保列的顺序与 cost_pivot 一致\n",
    "    mat = mat.reindex(columns=unique_symbols)\n",
    "    \n",
    "    feature_mats.append(mat.values)\n",
    "\n",
    "# 在第三维度堆叠创建 (T, N, k) 张量\n",
    "features = np.stack(feature_mats, axis=2)  # (T, N, k)\n",
    "\n",
    "print(f\"Data shape: features {features.shape}, costs {costs.shape}\")\n",
    "\n",
    "#############################################################################\n",
    "# TRAIN-TEST SPLIT\n",
    "#############################################################################\n",
    "from sklearn.model_selection import train_test_split\n"
   ]
  },
  {
   "cell_type": "code",
   "execution_count": 10,
   "id": "6959a09f",
   "metadata": {},
   "outputs": [
    {
     "name": "stdout",
     "output_type": "stream",
     "text": [
      "Data saved to ./data with name 'crypto_data'\n"
     ]
    }
   ],
   "source": [
    "import pickle\n",
    "\n",
    "def save_data(features, costs, unique_times, unique_symbols, x_cols, name='default', save_dir='./data'):\n",
    "    \"\"\"\n",
    "    Save processed data to disk with a simple name instead of timestamp\n",
    "    \"\"\"\n",
    "    # Create directory if it doesn't exist\n",
    "    os.makedirs(save_dir, exist_ok=True)\n",
    "    \n",
    "    # Save numpy arrays\n",
    "    np.save(f\"{save_dir}/features_{name}.npy\", features)\n",
    "    np.save(f\"{save_dir}/costs_{name}.npy\", costs)\n",
    "    \n",
    "    # Save metadata as pickle files\n",
    "    with open(f\"{save_dir}/times_{name}.pkl\", 'wb') as f:\n",
    "        pickle.dump(unique_times, f)\n",
    "    \n",
    "    with open(f\"{save_dir}/symbols_{name}.pkl\", 'wb') as f:\n",
    "        pickle.dump(unique_symbols, f)\n",
    "    \n",
    "    # Save feature dimensions information\n",
    "    feature_info = {\n",
    "        'shape': features.shape,\n",
    "        'feature_names': x_cols\n",
    "    }\n",
    "    with open(f\"{save_dir}/feature_info_{name}.pkl\", 'wb') as f:\n",
    "        pickle.dump(feature_info, f)\n",
    "    \n",
    "    print(f\"Data saved to {save_dir} with name '{name}'\")\n",
    "\n",
    "\n",
    "    \n",
    "    \n",
    "save_data(features, costs, unique_times, unique_symbols, x_cols, name='crypto_data')\n",
    "    \n",
    "    \n",
    "    "
   ]
  },
  {
   "cell_type": "code",
   "execution_count": 1,
   "id": "096b2aa8",
   "metadata": {},
   "outputs": [],
   "source": [
    "import time\n",
    "import numpy as np\n",
    "import pandas as pd\n",
    "\n",
    "# PyEPO imports\n",
    "from pyepo.data.dataset import optDataset\n",
    "\n",
    "# Gurobi\n",
    "import gurobipy as gp\n",
    "from gurobipy import GRB\n",
    "from pyepo.model.grb import optGrbModel\n",
    "\n",
    "# Pyomo\n",
    "from pyomo import environ as pe\n",
    "from pyepo.model.omo import optOmoModel # 记得要把 omo 文件夹里的 __init__.py 文件也修改了\n",
    "from pyepo import EPO\n",
    "\n",
    "# COPTPy\n",
    "from coptpy import Envr, COPT\n",
    "from pyepo.model.copt import optCoptModel\n",
    "\n",
    "# MPAX\n",
    "from pyepo.model.mpax import optMpaxModel"
   ]
  },
  {
   "cell_type": "code",
   "execution_count": 2,
   "id": "3c703681",
   "metadata": {},
   "outputs": [
    {
     "name": "stdout",
     "output_type": "stream",
     "text": [
      "Loaded data from ./data with name 'crypto_data'\n",
      "Features shape: (131010, 335, 6)\n",
      "Feature names: ['open', 'high', 'low', 'close', 'volume', 'count']\n"
     ]
    }
   ],
   "source": [
    "import numpy as np\n",
    "import pandas as pd\n",
    "import pickle\n",
    "from pathlib import Path\n",
    "from tqdm import tqdm\n",
    "from pkg.pyepo.data.dataset import optDataset\n",
    "from pkg.pyepo.model.grb import optGrbModel\n",
    "\n",
    "def load_data(name='default', load_dir='./data'):\n",
    "    \"\"\"\n",
    "    Load processed data from disk using a simple name instead of timestamp\n",
    "    \"\"\"\n",
    "    # Load numpy arrays\n",
    "    features = np.load(f\"{load_dir}/features_{name}.npy\")\n",
    "    costs = np.load(f\"{load_dir}/costs_{name}.npy\")\n",
    "    \n",
    "    # Load metadata\n",
    "    with open(f\"{load_dir}/times_{name}.pkl\", 'rb') as f:\n",
    "        unique_times = pickle.load(f)\n",
    "    \n",
    "    with open(f\"{load_dir}/symbols_{name}.pkl\", 'rb') as f:\n",
    "        unique_symbols = pickle.load(f)\n",
    "    \n",
    "    # Load feature information\n",
    "    with open(f\"{load_dir}/feature_info_{name}.pkl\", 'rb') as f:\n",
    "        feature_info = pickle.load(f)\n",
    "    \n",
    "    print(f\"Loaded data from {load_dir} with name '{name}'\")\n",
    "    print(f\"Features shape: {features.shape}\")\n",
    "    print(f\"Feature names: {feature_info['feature_names']}\")\n",
    "    \n",
    "    return features, costs, unique_times, unique_symbols, feature_info\n",
    "    \n",
    "# load the data using the same name\n",
    "features, costs, unique_times, unique_symbols, feature_info = load_data(name='crypto_data')    "
   ]
  },
  {
   "cell_type": "code",
   "execution_count": 3,
   "id": "cd8ae027",
   "metadata": {},
   "outputs": [],
   "source": [
    "import numpy as np\n",
    "import gurobipy as gp\n",
    "from gurobipy import GRB\n",
    "\n",
    "# 在导入任何 pyepo 模块之前，先修复 HAS_GUROBI\n",
    "import sys\n",
    "import importlib\n",
    "\n",
    "# 强制重新加载模块以确保修改生效\n",
    "if 'pyepo.model.grb.grbmodel' in sys.modules:\n",
    "    del sys.modules['pyepo.model.grb.grbmodel']\n",
    "if 'pyepo.model.grb' in sys.modules:\n",
    "    del sys.modules['pyepo.model.grb']\n",
    "\n",
    "# 导入并修复\n",
    "from pyepo.model.grb import grbmodel\n",
    "grbmodel.HAS_GUROBI = True\n",
    "\n",
    "# 现在导入基类\n",
    "from pyepo.model.grb.grbmodel import optGrbModel\n"
   ]
  },
  {
   "cell_type": "code",
   "execution_count": 4,
   "id": "9efbd7d7",
   "metadata": {},
   "outputs": [],
   "source": [
    "#############################################################################\n",
    "# OPTIMIZATION PROBLEM PARAMETERS\n",
    "#############################################################################\n",
    "# Market neutral optimization model parameters from opt_time_compare.py\n",
    "\n",
    "\n",
    "# 导入 grbmodel 模块\n",
    "from pyepo.model.grb import grbmodel\n",
    "\n",
    "# 强制设置 HAS_GUROBI 为 True\n",
    "grbmodel.HAS_GUROBI = True\n",
    "\n",
    "\n",
    "N = features.shape[1]  # Number of assets, updated from data\n",
    "A = np.ones((1, N))\n",
    "b = np.array([1.0])\n",
    "l = np.zeros(N)\n",
    "u = np.zeros(N) + 1e6\n",
    "\n",
    "# Generate random positive definite covariance matrix\n",
    "M = np.random.randn(N, N)\n",
    "cov_matrix = M.T @ M + np.eye(N) * 1e-3\n",
    "\n",
    "# Risk and constraint parameters\n",
    "risk_f     = np.random.randn(N)\n",
    "risk_abs   = 1.5\n",
    "single_abs = 0.1\n",
    "l1_abs     = 1.0\n",
    "sigma_abs  = 2.5\n",
    "\n",
    "\n",
    "#############################################################################\n",
    "# MARKET NEUTRAL OPTIMIZATION MODEL\n",
    "#############################################################################\n",
    "class MarketNeutralGrbModel(optGrbModel):\n",
    "    def __init__(\n",
    "        self,\n",
    "        N,\n",
    "        A,\n",
    "        b,\n",
    "        l,\n",
    "        u,\n",
    "        minimize=False,\n",
    "        risk_f=None,\n",
    "        risk_abs=None,\n",
    "        single_abs=None,\n",
    "        l1_abs=None,\n",
    "        cov_matrix=None,\n",
    "        sigma_abs=None\n",
    "    ):\n",
    "        # 保存所有参数\n",
    "        self.N = N\n",
    "        self.A = A\n",
    "        self.b = b\n",
    "        self.l = l\n",
    "        self.u = u\n",
    "        self.minimize = minimize\n",
    "        self.risk_f = risk_f\n",
    "        self.risk_abs = risk_abs\n",
    "        self.single_abs = single_abs\n",
    "        self.l1_abs = l1_abs\n",
    "        self.cov_matrix = cov_matrix\n",
    "        self.sigma_abs = sigma_abs\n",
    "\n",
    "        super().__init__()\n",
    "\n",
    "    def _getModel(self):\n",
    "        # 新建 Gurobi 模型\n",
    "        m = gp.Model()\n",
    "\n",
    "        # 添加原始变量 x[i]\n",
    "        x = m.addVars(\n",
    "            self.N,\n",
    "            lb={i: float(self.l[i]) for i in range(self.N)},\n",
    "            ub={i: float(self.u[i]) for i in range(self.N)},\n",
    "            name=\"x\"\n",
    "        )\n",
    "\n",
    "        # 用于 L1 约束的辅助变量 t[i]\n",
    "        t = m.addVars(self.N, lb=0.0, name=\"t\")\n",
    "\n",
    "        # 设置优化方向\n",
    "        m.modelSense = GRB.MINIMIZE if self.minimize else GRB.MAXIMIZE\n",
    "\n",
    "        # ——— 1) 市场中性约束 sum A[0,i] * x[i] == b[0]\n",
    "        m.addConstr(\n",
    "            gp.quicksum(self.A[0, i] * x[i] for i in range(self.N)) == float(self.b[0]),\n",
    "            name=\"eq_sum\"\n",
    "        )\n",
    "\n",
    "        # ——— 2) 风险约束 |risk_f' x| <= risk_abs\n",
    "        expr_r = gp.quicksum(self.risk_f[i] * x[i] for i in range(self.N))\n",
    "        m.addConstr(expr_r <= float(self.risk_abs), name=\"risk_ub\")\n",
    "        m.addConstr(expr_r >= -float(self.risk_abs), name=\"risk_lb\")\n",
    "\n",
    "        # ——— 3) 单项绝对值约束 |x_i| <= single_abs\n",
    "        for i in range(self.N):\n",
    "            m.addConstr(x[i] <=  float(self.single_abs),  name=f\"single_ub_{i}\")\n",
    "            m.addConstr(x[i] >= -float(self.single_abs), name=f\"single_lb_{i}\")\n",
    "\n",
    "        # ——— 4) L1 约束 ∑|x_i| <= l1_abs\n",
    "        #   实现方式： t[i] >=  x[i], t[i] >= -x[i], 然后 ∑ t[i] <= l1_abs\n",
    "        for i in range(self.N):\n",
    "            m.addConstr(t[i] >=  x[i], name=f\"t_pos_{i}\")\n",
    "            m.addConstr(t[i] >= -x[i], name=f\"t_neg_{i}\")\n",
    "        m.addConstr(t.sum() <= float(self.l1_abs), name=\"l1_norm\")\n",
    "\n",
    "        # ——— 5) 二次型约束 x' * cov_matrix * x <= sigma_abs\n",
    "        #     向量化写法： x_vec @ cov_matrix @ x_vec\n",
    "        x_vec = np.array([x[i] for i in range(self.N)])\n",
    "        expr_q = x_vec @ self.cov_matrix @ x_vec\n",
    "        m.addQConstr(expr_q <= float(self.sigma_abs), name=\"sigma_qc\")\n",
    "\n",
    "        return m, x\n",
    "    \n",
    "\n",
    "\n",
    "# Optionally, you can test the model here\n",
    "# c_test = np.random.rand(N)\n",
    "# market_neutral_model.setObj(c_test)\n",
    "# sol = market_neutral_model.solve()\n",
    "# print(f\"Test solution objective value: {market_neutral_model.getObjVal()}\")\n",
    "\n",
    "\n",
    "\n",
    "\n",
    "\n",
    "\n",
    "\n"
   ]
  },
  {
   "cell_type": "code",
   "execution_count": 5,
   "id": "6f5cccb5",
   "metadata": {},
   "outputs": [],
   "source": [
    "import numpy as np\n",
    "import gc\n",
    "from multiprocessing import get_context, shared_memory, Process\n",
    "from model_factory import build_market_neutral_model\n",
    "from pyepo.data.dataset import optDataset\n",
    "\n",
    "from batch_runner import run_batch_shared\n",
    "\n",
    "def process_and_combine_shared(features, costs, batch_size=1000, lookback=5, padding_method='zero'):\n",
    "    ctx = get_context('spawn')\n",
    "    total_samples = len(features)\n",
    "    all_feats, all_sols, all_objs = [], [], []\n",
    "\n",
    "    N = features.shape[1]\n",
    "    A = np.ones((1, N))\n",
    "    b = np.array([1.0])\n",
    "    l = np.zeros(N)\n",
    "    u = np.zeros(N) + 1e6\n",
    "    M = np.random.randn(N, N)\n",
    "    cov_matrix = M.T @ M + np.eye(N) * 1e-3\n",
    "    risk_f     = np.random.randn(N)\n",
    "    risk_abs   = 1.5\n",
    "    single_abs = 0.1\n",
    "    l1_abs     = 1.0\n",
    "    sigma_abs  = 2.5\n",
    "\n",
    "    for i in range(0, total_samples, batch_size):\n",
    "        start, end = i, min(i + batch_size, total_samples)\n",
    "        print(f\"\\n 共享内存子进程处理样本 {start} 到 {end - 1}...\")\n",
    "\n",
    "        feats_batch = features[start:end]\n",
    "        costs_batch = costs[start:end]\n",
    "\n",
    "        \n",
    "\n",
    "        shapes = {\n",
    "            'feats': (feats_batch.shape[0], feats_batch.shape[1], lookback, feats_batch.shape[2]),\n",
    "            'sols': (feats_batch.shape[0], feats_batch.shape[1]),\n",
    "            'objs': (feats_batch.shape[0],1)\n",
    "        }\n",
    "        dtypes = {'feats': feats_batch.dtype, 'sols': np.float32, 'objs': np.float32}\n",
    "\n",
    "        shms = {key: shared_memory.SharedMemory(create=True, size=np.zeros(shapes[key], dtype=dtypes[key]).nbytes)\n",
    "                for key in shapes}\n",
    "\n",
    "        shm_names = {k: v.name for k, v in shms.items()}\n",
    "\n",
    "        p = ctx.Process(\n",
    "            target=run_batch_shared,\n",
    "            args=(shm_names, shapes, dtypes, feats_batch, costs_batch, lookback, padding_method,\n",
    "                  N, A, b, l, u, risk_f, risk_abs, single_abs, l1_abs, cov_matrix, sigma_abs)\n",
    "        )\n",
    "        p.start()\n",
    "        p.join()\n",
    "\n",
    "        feats_np = np.ndarray(shapes['feats'], dtype=dtypes['feats'], buffer=shms['feats'].buf).copy()\n",
    "        sols_np = np.ndarray(shapes['sols'], dtype=dtypes['sols'], buffer=shms['sols'].buf).copy()\n",
    "        objs_np = np.ndarray(shapes['objs'], dtype=dtypes['objs'], buffer=shms['objs'].buf).copy()\n",
    "\n",
    "        all_feats.append(feats_np)\n",
    "        all_sols.append(sols_np)\n",
    "        all_objs.append(objs_np)\n",
    "\n",
    "        for shm in shms.values():\n",
    "            shm.close()\n",
    "            shm.unlink()\n",
    "\n",
    "        del feats_batch, costs_batch\n",
    "        gc.collect()\n",
    "\n",
    "    print(\"\\n 合并所有批次...\")\n",
    "    return {\n",
    "        'feats': np.concatenate(all_feats, axis=0),\n",
    "        'costs': costs,\n",
    "        'sols': np.concatenate(all_sols, axis=0),\n",
    "        'objs': np.concatenate(all_objs, axis=0),\n",
    "        'lookback': lookback,\n",
    "        'padding_method': padding_method\n",
    "    }"
   ]
  },
  {
   "cell_type": "code",
   "execution_count": 6,
   "id": "863c6726",
   "metadata": {},
   "outputs": [
    {
     "name": "stdout",
     "output_type": "stream",
     "text": [
      "\n",
      " 共享内存子进程处理样本 0 到 499...\n",
      "Set parameter Username\n",
      "Academic license - for non-commercial use only - expires 2026-05-06\n",
      "\n",
      "Optimizing for optDataset...\n"
     ]
    },
    {
     "name": "stderr",
     "output_type": "stream",
     "text": [
      "100%|██████████| 500/500 [00:29<00:00, 16.89it/s]\n"
     ]
    },
    {
     "name": "stdout",
     "output_type": "stream",
     "text": [
      "\n",
      " 共享内存子进程处理样本 500 到 999...\n",
      "Set parameter Username\n",
      "Academic license - for non-commercial use only - expires 2026-05-06\n",
      "\n",
      "Optimizing for optDataset...\n"
     ]
    },
    {
     "name": "stderr",
     "output_type": "stream",
     "text": [
      "100%|██████████| 500/500 [00:29<00:00, 16.67it/s]\n"
     ]
    },
    {
     "name": "stdout",
     "output_type": "stream",
     "text": [
      "\n",
      " 共享内存子进程处理样本 1000 到 1499...\n",
      "Set parameter Username\n",
      "Academic license - for non-commercial use only - expires 2026-05-06\n",
      "\n",
      "Optimizing for optDataset...\n"
     ]
    },
    {
     "name": "stderr",
     "output_type": "stream",
     "text": [
      "100%|██████████| 500/500 [00:29<00:00, 16.83it/s]\n"
     ]
    },
    {
     "name": "stdout",
     "output_type": "stream",
     "text": [
      "\n",
      " 共享内存子进程处理样本 1500 到 1999...\n",
      "Set parameter Username\n",
      "Academic license - for non-commercial use only - expires 2026-05-06\n",
      "\n",
      "Optimizing for optDataset...\n"
     ]
    },
    {
     "name": "stderr",
     "output_type": "stream",
     "text": [
      "100%|██████████| 500/500 [00:29<00:00, 16.83it/s]\n"
     ]
    },
    {
     "name": "stdout",
     "output_type": "stream",
     "text": [
      "\n",
      " 共享内存子进程处理样本 2000 到 2499...\n",
      "Set parameter Username\n",
      "Academic license - for non-commercial use only - expires 2026-05-06\n",
      "\n",
      "Optimizing for optDataset...\n"
     ]
    },
    {
     "name": "stderr",
     "output_type": "stream",
     "text": [
      "100%|██████████| 500/500 [00:29<00:00, 16.85it/s]\n"
     ]
    },
    {
     "name": "stdout",
     "output_type": "stream",
     "text": [
      "\n",
      " 共享内存子进程处理样本 2500 到 2999...\n",
      "Set parameter Username\n",
      "Academic license - for non-commercial use only - expires 2026-05-06\n",
      "\n",
      "Optimizing for optDataset...\n"
     ]
    },
    {
     "name": "stderr",
     "output_type": "stream",
     "text": [
      "100%|██████████| 500/500 [00:29<00:00, 16.93it/s]\n"
     ]
    },
    {
     "name": "stdout",
     "output_type": "stream",
     "text": [
      "\n",
      " 共享内存子进程处理样本 3000 到 3499...\n",
      "Set parameter Username\n",
      "Academic license - for non-commercial use only - expires 2026-05-06\n",
      "\n",
      "Optimizing for optDataset...\n"
     ]
    },
    {
     "name": "stderr",
     "output_type": "stream",
     "text": [
      "100%|██████████| 500/500 [00:29<00:00, 16.83it/s]\n"
     ]
    },
    {
     "name": "stdout",
     "output_type": "stream",
     "text": [
      "\n",
      " 共享内存子进程处理样本 3500 到 3999...\n",
      "Set parameter Username\n",
      "Academic license - for non-commercial use only - expires 2026-05-06\n",
      "\n",
      "Optimizing for optDataset...\n"
     ]
    },
    {
     "name": "stderr",
     "output_type": "stream",
     "text": [
      "100%|██████████| 500/500 [00:30<00:00, 16.52it/s]\n"
     ]
    },
    {
     "name": "stdout",
     "output_type": "stream",
     "text": [
      "\n",
      " 共享内存子进程处理样本 4000 到 4499...\n",
      "Set parameter Username\n",
      "Academic license - for non-commercial use only - expires 2026-05-06\n",
      "\n",
      "Optimizing for optDataset...\n"
     ]
    },
    {
     "name": "stderr",
     "output_type": "stream",
     "text": [
      "100%|██████████| 500/500 [00:29<00:00, 16.89it/s]\n"
     ]
    },
    {
     "name": "stdout",
     "output_type": "stream",
     "text": [
      "\n",
      " 共享内存子进程处理样本 4500 到 4999...\n",
      "Set parameter Username\n",
      "Academic license - for non-commercial use only - expires 2026-05-06\n",
      "\n",
      "Optimizing for optDataset...\n"
     ]
    },
    {
     "name": "stderr",
     "output_type": "stream",
     "text": [
      "100%|██████████| 500/500 [00:29<00:00, 16.93it/s]\n"
     ]
    },
    {
     "name": "stdout",
     "output_type": "stream",
     "text": [
      "\n",
      " 共享内存子进程处理样本 5000 到 5499...\n",
      "Set parameter Username\n",
      "Academic license - for non-commercial use only - expires 2026-05-06\n",
      "\n",
      "Optimizing for optDataset...\n"
     ]
    },
    {
     "name": "stderr",
     "output_type": "stream",
     "text": [
      "100%|██████████| 500/500 [00:29<00:00, 16.89it/s]\n"
     ]
    },
    {
     "name": "stdout",
     "output_type": "stream",
     "text": [
      "\n",
      " 共享内存子进程处理样本 5500 到 5999...\n",
      "Set parameter Username\n",
      "Academic license - for non-commercial use only - expires 2026-05-06\n",
      "\n",
      "Optimizing for optDataset...\n"
     ]
    },
    {
     "name": "stderr",
     "output_type": "stream",
     "text": [
      "100%|██████████| 500/500 [00:29<00:00, 16.91it/s]\n"
     ]
    },
    {
     "name": "stdout",
     "output_type": "stream",
     "text": [
      "\n",
      " 共享内存子进程处理样本 6000 到 6499...\n",
      "Set parameter Username\n",
      "Academic license - for non-commercial use only - expires 2026-05-06\n",
      "\n",
      "Optimizing for optDataset...\n"
     ]
    },
    {
     "name": "stderr",
     "output_type": "stream",
     "text": [
      "100%|██████████| 500/500 [00:29<00:00, 16.92it/s]\n"
     ]
    },
    {
     "name": "stdout",
     "output_type": "stream",
     "text": [
      "\n",
      " 共享内存子进程处理样本 6500 到 6999...\n",
      "Set parameter Username\n",
      "Academic license - for non-commercial use only - expires 2026-05-06\n",
      "\n",
      "Optimizing for optDataset...\n"
     ]
    },
    {
     "name": "stderr",
     "output_type": "stream",
     "text": [
      "100%|██████████| 500/500 [00:29<00:00, 16.95it/s]\n"
     ]
    },
    {
     "name": "stdout",
     "output_type": "stream",
     "text": [
      "\n",
      " 共享内存子进程处理样本 7000 到 7499...\n",
      "Set parameter Username\n",
      "Academic license - for non-commercial use only - expires 2026-05-06\n",
      "\n",
      "Optimizing for optDataset...\n"
     ]
    },
    {
     "name": "stderr",
     "output_type": "stream",
     "text": [
      "100%|██████████| 500/500 [00:29<00:00, 16.83it/s]\n"
     ]
    },
    {
     "name": "stdout",
     "output_type": "stream",
     "text": [
      "\n",
      " 共享内存子进程处理样本 7500 到 7999...\n",
      "Set parameter Username\n",
      "Academic license - for non-commercial use only - expires 2026-05-06\n",
      "\n",
      "Optimizing for optDataset...\n"
     ]
    },
    {
     "name": "stderr",
     "output_type": "stream",
     "text": [
      "100%|██████████| 500/500 [00:29<00:00, 16.93it/s]\n"
     ]
    },
    {
     "name": "stdout",
     "output_type": "stream",
     "text": [
      "\n",
      " 共享内存子进程处理样本 8000 到 8499...\n",
      "Set parameter Username\n",
      "Academic license - for non-commercial use only - expires 2026-05-06\n",
      "\n",
      "Optimizing for optDataset...\n"
     ]
    },
    {
     "name": "stderr",
     "output_type": "stream",
     "text": [
      "100%|██████████| 500/500 [00:29<00:00, 16.82it/s]\n"
     ]
    },
    {
     "name": "stdout",
     "output_type": "stream",
     "text": [
      "\n",
      " 共享内存子进程处理样本 8500 到 8999...\n",
      "Set parameter Username\n",
      "Academic license - for non-commercial use only - expires 2026-05-06\n",
      "\n",
      "Optimizing for optDataset...\n"
     ]
    },
    {
     "name": "stderr",
     "output_type": "stream",
     "text": [
      "100%|██████████| 500/500 [00:29<00:00, 16.99it/s]\n"
     ]
    },
    {
     "name": "stdout",
     "output_type": "stream",
     "text": [
      "\n",
      " 共享内存子进程处理样本 9000 到 9499...\n",
      "Set parameter Username\n",
      "Academic license - for non-commercial use only - expires 2026-05-06\n",
      "\n",
      "Optimizing for optDataset...\n"
     ]
    },
    {
     "name": "stderr",
     "output_type": "stream",
     "text": [
      "100%|██████████| 500/500 [00:29<00:00, 17.08it/s]\n"
     ]
    },
    {
     "name": "stdout",
     "output_type": "stream",
     "text": [
      "\n",
      " 共享内存子进程处理样本 9500 到 9999...\n",
      "Set parameter Username\n",
      "Academic license - for non-commercial use only - expires 2026-05-06\n",
      "\n",
      "Optimizing for optDataset...\n"
     ]
    },
    {
     "name": "stderr",
     "output_type": "stream",
     "text": [
      "100%|██████████| 500/500 [00:29<00:00, 16.99it/s]\n"
     ]
    },
    {
     "name": "stdout",
     "output_type": "stream",
     "text": [
      "\n",
      " 共享内存子进程处理样本 10000 到 10499...\n",
      "Set parameter Username\n",
      "Academic license - for non-commercial use only - expires 2026-05-06\n",
      "\n",
      "Optimizing for optDataset...\n"
     ]
    },
    {
     "name": "stderr",
     "output_type": "stream",
     "text": [
      "100%|██████████| 500/500 [01:00<00:00,  8.25it/s]\n"
     ]
    },
    {
     "name": "stdout",
     "output_type": "stream",
     "text": [
      "\n",
      " 共享内存子进程处理样本 10500 到 10999...\n",
      "Set parameter Username\n",
      "Academic license - for non-commercial use only - expires 2026-05-06\n",
      "\n",
      "Optimizing for optDataset...\n"
     ]
    },
    {
     "name": "stderr",
     "output_type": "stream",
     "text": [
      "100%|██████████| 500/500 [00:28<00:00, 17.53it/s]\n"
     ]
    },
    {
     "name": "stdout",
     "output_type": "stream",
     "text": [
      "\n",
      " 共享内存子进程处理样本 11000 到 11499...\n",
      "Set parameter Username\n",
      "Academic license - for non-commercial use only - expires 2026-05-06\n",
      "\n",
      "Optimizing for optDataset...\n"
     ]
    },
    {
     "name": "stderr",
     "output_type": "stream",
     "text": [
      "100%|██████████| 500/500 [00:28<00:00, 17.59it/s]\n"
     ]
    },
    {
     "name": "stdout",
     "output_type": "stream",
     "text": [
      "\n",
      " 共享内存子进程处理样本 11500 到 11999...\n",
      "Set parameter Username\n",
      "Academic license - for non-commercial use only - expires 2026-05-06\n",
      "\n",
      "Optimizing for optDataset...\n"
     ]
    },
    {
     "name": "stderr",
     "output_type": "stream",
     "text": [
      "100%|██████████| 500/500 [00:29<00:00, 17.17it/s]\n"
     ]
    },
    {
     "name": "stdout",
     "output_type": "stream",
     "text": [
      "\n",
      " 共享内存子进程处理样本 12000 到 12499...\n",
      "Set parameter Username\n",
      "Academic license - for non-commercial use only - expires 2026-05-06\n",
      "\n",
      "Optimizing for optDataset...\n"
     ]
    },
    {
     "name": "stderr",
     "output_type": "stream",
     "text": [
      "100%|██████████| 500/500 [00:28<00:00, 17.36it/s]\n"
     ]
    },
    {
     "name": "stdout",
     "output_type": "stream",
     "text": [
      "\n",
      " 共享内存子进程处理样本 12500 到 12999...\n",
      "Set parameter Username\n",
      "Academic license - for non-commercial use only - expires 2026-05-06\n",
      "\n",
      "Optimizing for optDataset...\n"
     ]
    },
    {
     "name": "stderr",
     "output_type": "stream",
     "text": [
      "100%|██████████| 500/500 [00:29<00:00, 16.81it/s]\n"
     ]
    },
    {
     "name": "stdout",
     "output_type": "stream",
     "text": [
      "\n",
      " 共享内存子进程处理样本 13000 到 13499...\n",
      "Set parameter Username\n",
      "Academic license - for non-commercial use only - expires 2026-05-06\n",
      "\n",
      "Optimizing for optDataset...\n"
     ]
    },
    {
     "name": "stderr",
     "output_type": "stream",
     "text": [
      "100%|██████████| 500/500 [00:30<00:00, 16.64it/s]\n"
     ]
    },
    {
     "name": "stdout",
     "output_type": "stream",
     "text": [
      "\n",
      " 共享内存子进程处理样本 13500 到 13999...\n",
      "Set parameter Username\n",
      "Academic license - for non-commercial use only - expires 2026-05-06\n",
      "\n",
      "Optimizing for optDataset...\n"
     ]
    },
    {
     "name": "stderr",
     "output_type": "stream",
     "text": [
      "100%|██████████| 500/500 [00:29<00:00, 17.15it/s]\n"
     ]
    },
    {
     "name": "stdout",
     "output_type": "stream",
     "text": [
      "\n",
      " 共享内存子进程处理样本 14000 到 14499...\n",
      "Set parameter Username\n",
      "Academic license - for non-commercial use only - expires 2026-05-06\n",
      "\n",
      "Optimizing for optDataset...\n"
     ]
    },
    {
     "name": "stderr",
     "output_type": "stream",
     "text": [
      "100%|██████████| 500/500 [00:29<00:00, 17.02it/s]\n"
     ]
    },
    {
     "name": "stdout",
     "output_type": "stream",
     "text": [
      "\n",
      " 共享内存子进程处理样本 14500 到 14999...\n",
      "Set parameter Username\n",
      "Academic license - for non-commercial use only - expires 2026-05-06\n",
      "\n",
      "Optimizing for optDataset...\n"
     ]
    },
    {
     "name": "stderr",
     "output_type": "stream",
     "text": [
      "100%|██████████| 500/500 [00:28<00:00, 17.74it/s]\n"
     ]
    },
    {
     "name": "stdout",
     "output_type": "stream",
     "text": [
      "\n",
      " 共享内存子进程处理样本 15000 到 15499...\n",
      "Set parameter Username\n",
      "Academic license - for non-commercial use only - expires 2026-05-06\n",
      "\n",
      "Optimizing for optDataset...\n"
     ]
    },
    {
     "name": "stderr",
     "output_type": "stream",
     "text": [
      "100%|██████████| 500/500 [00:27<00:00, 17.86it/s]\n"
     ]
    },
    {
     "name": "stdout",
     "output_type": "stream",
     "text": [
      "\n",
      " 共享内存子进程处理样本 15500 到 15999...\n",
      "Set parameter Username\n",
      "Academic license - for non-commercial use only - expires 2026-05-06\n",
      "\n",
      "Optimizing for optDataset...\n"
     ]
    },
    {
     "name": "stderr",
     "output_type": "stream",
     "text": [
      "100%|██████████| 500/500 [00:28<00:00, 17.77it/s]\n"
     ]
    },
    {
     "name": "stdout",
     "output_type": "stream",
     "text": [
      "\n",
      " 共享内存子进程处理样本 16000 到 16499...\n",
      "Set parameter Username\n",
      "Academic license - for non-commercial use only - expires 2026-05-06\n",
      "\n",
      "Optimizing for optDataset...\n"
     ]
    },
    {
     "name": "stderr",
     "output_type": "stream",
     "text": [
      "100%|██████████| 500/500 [00:28<00:00, 17.75it/s]\n"
     ]
    },
    {
     "name": "stdout",
     "output_type": "stream",
     "text": [
      "\n",
      " 共享内存子进程处理样本 16500 到 16999...\n",
      "Set parameter Username\n",
      "Academic license - for non-commercial use only - expires 2026-05-06\n",
      "\n",
      "Optimizing for optDataset...\n"
     ]
    },
    {
     "name": "stderr",
     "output_type": "stream",
     "text": [
      "100%|██████████| 500/500 [00:54<00:00,  9.23it/s]\n"
     ]
    },
    {
     "name": "stdout",
     "output_type": "stream",
     "text": [
      "\n",
      " 共享内存子进程处理样本 17000 到 17499...\n",
      "Set parameter Username\n",
      "Academic license - for non-commercial use only - expires 2026-05-06\n",
      "\n",
      "Optimizing for optDataset...\n"
     ]
    },
    {
     "name": "stderr",
     "output_type": "stream",
     "text": [
      "100%|██████████| 500/500 [00:28<00:00, 17.52it/s]\n"
     ]
    },
    {
     "name": "stdout",
     "output_type": "stream",
     "text": [
      "\n",
      " 共享内存子进程处理样本 17500 到 17999...\n",
      "Set parameter Username\n",
      "Academic license - for non-commercial use only - expires 2026-05-06\n",
      "\n",
      "Optimizing for optDataset...\n"
     ]
    },
    {
     "name": "stderr",
     "output_type": "stream",
     "text": [
      "100%|██████████| 500/500 [00:28<00:00, 17.59it/s]\n"
     ]
    },
    {
     "name": "stdout",
     "output_type": "stream",
     "text": [
      "\n",
      " 共享内存子进程处理样本 18000 到 18499...\n",
      "Set parameter Username\n",
      "Academic license - for non-commercial use only - expires 2026-05-06\n",
      "\n",
      "Optimizing for optDataset...\n"
     ]
    },
    {
     "name": "stderr",
     "output_type": "stream",
     "text": [
      "100%|██████████| 500/500 [00:28<00:00, 17.59it/s]\n"
     ]
    },
    {
     "name": "stdout",
     "output_type": "stream",
     "text": [
      "\n",
      " 共享内存子进程处理样本 18500 到 18999...\n",
      "Set parameter Username\n",
      "Academic license - for non-commercial use only - expires 2026-05-06\n",
      "\n",
      "Optimizing for optDataset...\n"
     ]
    },
    {
     "name": "stderr",
     "output_type": "stream",
     "text": [
      "100%|██████████| 500/500 [00:28<00:00, 17.35it/s]\n"
     ]
    },
    {
     "name": "stdout",
     "output_type": "stream",
     "text": [
      "\n",
      " 共享内存子进程处理样本 19000 到 19499...\n",
      "Set parameter Username\n",
      "Academic license - for non-commercial use only - expires 2026-05-06\n",
      "\n",
      "Optimizing for optDataset...\n"
     ]
    },
    {
     "name": "stderr",
     "output_type": "stream",
     "text": [
      "100%|██████████| 500/500 [00:28<00:00, 17.64it/s]\n"
     ]
    },
    {
     "name": "stdout",
     "output_type": "stream",
     "text": [
      "\n",
      " 共享内存子进程处理样本 19500 到 19999...\n",
      "Set parameter Username\n",
      "Academic license - for non-commercial use only - expires 2026-05-06\n",
      "\n",
      "Optimizing for optDataset...\n"
     ]
    },
    {
     "name": "stderr",
     "output_type": "stream",
     "text": [
      "100%|██████████| 500/500 [00:28<00:00, 17.79it/s]\n"
     ]
    },
    {
     "name": "stdout",
     "output_type": "stream",
     "text": [
      "\n",
      " 共享内存子进程处理样本 20000 到 20499...\n",
      "Set parameter Username\n",
      "Academic license - for non-commercial use only - expires 2026-05-06\n",
      "\n",
      "Optimizing for optDataset...\n"
     ]
    },
    {
     "name": "stderr",
     "output_type": "stream",
     "text": [
      "100%|██████████| 500/500 [00:28<00:00, 17.65it/s]\n"
     ]
    },
    {
     "name": "stdout",
     "output_type": "stream",
     "text": [
      "\n",
      " 共享内存子进程处理样本 20500 到 20999...\n",
      "Set parameter Username\n",
      "Academic license - for non-commercial use only - expires 2026-05-06\n",
      "\n",
      "Optimizing for optDataset...\n"
     ]
    },
    {
     "name": "stderr",
     "output_type": "stream",
     "text": [
      "100%|██████████| 500/500 [00:28<00:00, 17.59it/s]\n"
     ]
    },
    {
     "name": "stdout",
     "output_type": "stream",
     "text": [
      "\n",
      " 共享内存子进程处理样本 21000 到 21499...\n",
      "Set parameter Username\n",
      "Academic license - for non-commercial use only - expires 2026-05-06\n",
      "\n",
      "Optimizing for optDataset...\n"
     ]
    },
    {
     "name": "stderr",
     "output_type": "stream",
     "text": [
      "100%|██████████| 500/500 [00:43<00:00, 11.42it/s]\n"
     ]
    },
    {
     "name": "stdout",
     "output_type": "stream",
     "text": [
      "\n",
      " 共享内存子进程处理样本 21500 到 21999...\n",
      "Set parameter Username\n",
      "Academic license - for non-commercial use only - expires 2026-05-06\n",
      "\n",
      "Optimizing for optDataset...\n"
     ]
    },
    {
     "name": "stderr",
     "output_type": "stream",
     "text": [
      "100%|██████████| 500/500 [00:28<00:00, 17.72it/s]\n"
     ]
    },
    {
     "name": "stdout",
     "output_type": "stream",
     "text": [
      "\n",
      " 共享内存子进程处理样本 22000 到 22499...\n",
      "Set parameter Username\n",
      "Academic license - for non-commercial use only - expires 2026-05-06\n",
      "\n",
      "Optimizing for optDataset...\n"
     ]
    },
    {
     "name": "stderr",
     "output_type": "stream",
     "text": [
      "100%|██████████| 500/500 [00:28<00:00, 17.61it/s]\n"
     ]
    },
    {
     "name": "stdout",
     "output_type": "stream",
     "text": [
      "\n",
      " 共享内存子进程处理样本 22500 到 22999...\n",
      "Set parameter Username\n",
      "Academic license - for non-commercial use only - expires 2026-05-06\n",
      "\n",
      "Optimizing for optDataset...\n"
     ]
    },
    {
     "name": "stderr",
     "output_type": "stream",
     "text": [
      "100%|██████████| 500/500 [00:28<00:00, 17.71it/s]\n"
     ]
    },
    {
     "name": "stdout",
     "output_type": "stream",
     "text": [
      "\n",
      " 共享内存子进程处理样本 23000 到 23499...\n",
      "Set parameter Username\n",
      "Academic license - for non-commercial use only - expires 2026-05-06\n",
      "\n",
      "Optimizing for optDataset...\n"
     ]
    },
    {
     "name": "stderr",
     "output_type": "stream",
     "text": [
      "100%|██████████| 500/500 [00:28<00:00, 17.67it/s]\n"
     ]
    },
    {
     "name": "stdout",
     "output_type": "stream",
     "text": [
      "\n",
      " 共享内存子进程处理样本 23500 到 23999...\n",
      "Set parameter Username\n",
      "Academic license - for non-commercial use only - expires 2026-05-06\n",
      "\n",
      "Optimizing for optDataset...\n"
     ]
    },
    {
     "name": "stderr",
     "output_type": "stream",
     "text": [
      "100%|██████████| 500/500 [00:28<00:00, 17.53it/s]\n"
     ]
    },
    {
     "name": "stdout",
     "output_type": "stream",
     "text": [
      "\n",
      " 共享内存子进程处理样本 24000 到 24499...\n",
      "Set parameter Username\n",
      "Academic license - for non-commercial use only - expires 2026-05-06\n",
      "\n",
      "Optimizing for optDataset...\n"
     ]
    },
    {
     "name": "stderr",
     "output_type": "stream",
     "text": [
      "100%|██████████| 500/500 [00:28<00:00, 17.46it/s]\n"
     ]
    },
    {
     "name": "stdout",
     "output_type": "stream",
     "text": [
      "\n",
      " 共享内存子进程处理样本 24500 到 24999...\n",
      "Set parameter Username\n",
      "Academic license - for non-commercial use only - expires 2026-05-06\n",
      "\n",
      "Optimizing for optDataset...\n"
     ]
    },
    {
     "name": "stderr",
     "output_type": "stream",
     "text": [
      "100%|██████████| 500/500 [00:28<00:00, 17.58it/s]\n"
     ]
    },
    {
     "name": "stdout",
     "output_type": "stream",
     "text": [
      "\n",
      " 共享内存子进程处理样本 25000 到 25499...\n",
      "Set parameter Username\n",
      "Academic license - for non-commercial use only - expires 2026-05-06\n",
      "\n",
      "Optimizing for optDataset...\n"
     ]
    },
    {
     "name": "stderr",
     "output_type": "stream",
     "text": [
      "100%|██████████| 500/500 [00:28<00:00, 17.42it/s]\n"
     ]
    },
    {
     "name": "stdout",
     "output_type": "stream",
     "text": [
      "\n",
      " 共享内存子进程处理样本 25500 到 25999...\n",
      "Set parameter Username\n",
      "Academic license - for non-commercial use only - expires 2026-05-06\n",
      "\n",
      "Optimizing for optDataset...\n"
     ]
    },
    {
     "name": "stderr",
     "output_type": "stream",
     "text": [
      "100%|██████████| 500/500 [00:28<00:00, 17.54it/s]\n"
     ]
    },
    {
     "name": "stdout",
     "output_type": "stream",
     "text": [
      "\n",
      " 共享内存子进程处理样本 26000 到 26499...\n",
      "Set parameter Username\n",
      "Academic license - for non-commercial use only - expires 2026-05-06\n",
      "\n",
      "Optimizing for optDataset...\n"
     ]
    },
    {
     "name": "stderr",
     "output_type": "stream",
     "text": [
      "100%|██████████| 500/500 [00:28<00:00, 17.45it/s]\n"
     ]
    },
    {
     "name": "stdout",
     "output_type": "stream",
     "text": [
      "\n",
      " 共享内存子进程处理样本 26500 到 26999...\n",
      "Set parameter Username\n",
      "Academic license - for non-commercial use only - expires 2026-05-06\n",
      "\n",
      "Optimizing for optDataset...\n"
     ]
    },
    {
     "name": "stderr",
     "output_type": "stream",
     "text": [
      "100%|██████████| 500/500 [00:28<00:00, 17.35it/s]\n"
     ]
    },
    {
     "name": "stdout",
     "output_type": "stream",
     "text": [
      "\n",
      " 共享内存子进程处理样本 27000 到 27499...\n",
      "Set parameter Username\n",
      "Academic license - for non-commercial use only - expires 2026-05-06\n",
      "\n",
      "Optimizing for optDataset...\n"
     ]
    },
    {
     "name": "stderr",
     "output_type": "stream",
     "text": [
      "100%|██████████| 500/500 [00:29<00:00, 17.05it/s]\n"
     ]
    },
    {
     "name": "stdout",
     "output_type": "stream",
     "text": [
      "\n",
      " 共享内存子进程处理样本 27500 到 27999...\n",
      "Set parameter Username\n",
      "Academic license - for non-commercial use only - expires 2026-05-06\n",
      "\n",
      "Optimizing for optDataset...\n"
     ]
    },
    {
     "name": "stderr",
     "output_type": "stream",
     "text": [
      "100%|██████████| 500/500 [00:28<00:00, 17.40it/s]\n"
     ]
    },
    {
     "name": "stdout",
     "output_type": "stream",
     "text": [
      "\n",
      " 共享内存子进程处理样本 28000 到 28499...\n",
      "Set parameter Username\n",
      "Academic license - for non-commercial use only - expires 2026-05-06\n",
      "\n",
      "Optimizing for optDataset...\n"
     ]
    },
    {
     "name": "stderr",
     "output_type": "stream",
     "text": [
      "100%|██████████| 500/500 [00:50<00:00,  9.93it/s]\n"
     ]
    },
    {
     "name": "stdout",
     "output_type": "stream",
     "text": [
      "\n",
      " 共享内存子进程处理样本 28500 到 28999...\n",
      "Set parameter Username\n",
      "Academic license - for non-commercial use only - expires 2026-05-06\n",
      "\n",
      "Optimizing for optDataset...\n"
     ]
    },
    {
     "name": "stderr",
     "output_type": "stream",
     "text": [
      "100%|██████████| 500/500 [00:28<00:00, 17.55it/s]\n"
     ]
    },
    {
     "name": "stdout",
     "output_type": "stream",
     "text": [
      "\n",
      " 共享内存子进程处理样本 29000 到 29499...\n",
      "Set parameter Username\n",
      "Academic license - for non-commercial use only - expires 2026-05-06\n",
      "\n",
      "Optimizing for optDataset...\n"
     ]
    },
    {
     "name": "stderr",
     "output_type": "stream",
     "text": [
      "100%|██████████| 500/500 [00:28<00:00, 17.51it/s]\n"
     ]
    },
    {
     "name": "stdout",
     "output_type": "stream",
     "text": [
      "\n",
      " 共享内存子进程处理样本 29500 到 29999...\n",
      "Set parameter Username\n",
      "Academic license - for non-commercial use only - expires 2026-05-06\n",
      "\n",
      "Optimizing for optDataset...\n"
     ]
    },
    {
     "name": "stderr",
     "output_type": "stream",
     "text": [
      "100%|██████████| 500/500 [00:28<00:00, 17.58it/s]\n"
     ]
    },
    {
     "name": "stdout",
     "output_type": "stream",
     "text": [
      "\n",
      " 共享内存子进程处理样本 30000 到 30499...\n",
      "Set parameter Username\n",
      "Academic license - for non-commercial use only - expires 2026-05-06\n",
      "\n",
      "Optimizing for optDataset...\n"
     ]
    },
    {
     "name": "stderr",
     "output_type": "stream",
     "text": [
      "100%|██████████| 500/500 [00:28<00:00, 17.66it/s]\n"
     ]
    },
    {
     "name": "stdout",
     "output_type": "stream",
     "text": [
      "\n",
      " 共享内存子进程处理样本 30500 到 30999...\n",
      "Set parameter Username\n",
      "Academic license - for non-commercial use only - expires 2026-05-06\n",
      "\n",
      "Optimizing for optDataset...\n"
     ]
    },
    {
     "name": "stderr",
     "output_type": "stream",
     "text": [
      "100%|██████████| 500/500 [00:28<00:00, 17.54it/s]\n"
     ]
    },
    {
     "name": "stdout",
     "output_type": "stream",
     "text": [
      "\n",
      " 共享内存子进程处理样本 31000 到 31499...\n",
      "Set parameter Username\n",
      "Academic license - for non-commercial use only - expires 2026-05-06\n",
      "\n",
      "Optimizing for optDataset...\n"
     ]
    },
    {
     "name": "stderr",
     "output_type": "stream",
     "text": [
      "100%|██████████| 500/500 [00:28<00:00, 17.37it/s]\n"
     ]
    },
    {
     "name": "stdout",
     "output_type": "stream",
     "text": [
      "\n",
      " 共享内存子进程处理样本 31500 到 31999...\n",
      "Set parameter Username\n",
      "Academic license - for non-commercial use only - expires 2026-05-06\n",
      "\n",
      "Optimizing for optDataset...\n"
     ]
    },
    {
     "name": "stderr",
     "output_type": "stream",
     "text": [
      "100%|██████████| 500/500 [00:50<00:00,  9.88it/s]\n"
     ]
    },
    {
     "name": "stdout",
     "output_type": "stream",
     "text": [
      "\n",
      " 共享内存子进程处理样本 32000 到 32499...\n",
      "Set parameter Username\n",
      "Academic license - for non-commercial use only - expires 2026-05-06\n",
      "\n",
      "Optimizing for optDataset...\n"
     ]
    },
    {
     "name": "stderr",
     "output_type": "stream",
     "text": [
      "100%|██████████| 500/500 [00:58<00:00,  8.51it/s]\n"
     ]
    },
    {
     "name": "stdout",
     "output_type": "stream",
     "text": [
      "\n",
      " 共享内存子进程处理样本 32500 到 32999...\n",
      "Set parameter Username\n",
      "Academic license - for non-commercial use only - expires 2026-05-06\n",
      "\n",
      "Optimizing for optDataset...\n"
     ]
    },
    {
     "name": "stderr",
     "output_type": "stream",
     "text": [
      "100%|██████████| 500/500 [00:29<00:00, 17.23it/s]\n"
     ]
    },
    {
     "name": "stdout",
     "output_type": "stream",
     "text": [
      "\n",
      " 共享内存子进程处理样本 33000 到 33499...\n",
      "Set parameter Username\n",
      "Academic license - for non-commercial use only - expires 2026-05-06\n",
      "\n",
      "Optimizing for optDataset...\n"
     ]
    },
    {
     "name": "stderr",
     "output_type": "stream",
     "text": [
      "100%|██████████| 500/500 [00:32<00:00, 15.39it/s]\n"
     ]
    },
    {
     "name": "stdout",
     "output_type": "stream",
     "text": [
      "\n",
      " 共享内存子进程处理样本 33500 到 33999...\n",
      "Set parameter Username\n",
      "Academic license - for non-commercial use only - expires 2026-05-06\n",
      "\n",
      "Optimizing for optDataset...\n"
     ]
    },
    {
     "name": "stderr",
     "output_type": "stream",
     "text": [
      "100%|██████████| 500/500 [00:30<00:00, 16.38it/s]\n"
     ]
    },
    {
     "name": "stdout",
     "output_type": "stream",
     "text": [
      "\n",
      " 共享内存子进程处理样本 34000 到 34499...\n",
      "Set parameter Username\n",
      "Academic license - for non-commercial use only - expires 2026-05-06\n",
      "\n",
      "Optimizing for optDataset...\n"
     ]
    },
    {
     "name": "stderr",
     "output_type": "stream",
     "text": [
      "100%|██████████| 500/500 [00:28<00:00, 17.61it/s]\n"
     ]
    },
    {
     "name": "stdout",
     "output_type": "stream",
     "text": [
      "\n",
      " 共享内存子进程处理样本 34500 到 34999...\n",
      "Set parameter Username\n",
      "Academic license - for non-commercial use only - expires 2026-05-06\n",
      "\n",
      "Optimizing for optDataset...\n"
     ]
    },
    {
     "name": "stderr",
     "output_type": "stream",
     "text": [
      "100%|██████████| 500/500 [00:28<00:00, 17.59it/s]\n"
     ]
    },
    {
     "name": "stdout",
     "output_type": "stream",
     "text": [
      "\n",
      " 共享内存子进程处理样本 35000 到 35499...\n",
      "Set parameter Username\n",
      "Academic license - for non-commercial use only - expires 2026-05-06\n",
      "\n",
      "Optimizing for optDataset...\n"
     ]
    },
    {
     "name": "stderr",
     "output_type": "stream",
     "text": [
      "100%|██████████| 500/500 [00:28<00:00, 17.52it/s]\n"
     ]
    },
    {
     "name": "stdout",
     "output_type": "stream",
     "text": [
      "\n",
      " 共享内存子进程处理样本 35500 到 35999...\n",
      "Set parameter Username\n",
      "Academic license - for non-commercial use only - expires 2026-05-06\n",
      "\n",
      "Optimizing for optDataset...\n"
     ]
    },
    {
     "name": "stderr",
     "output_type": "stream",
     "text": [
      "100%|██████████| 500/500 [00:28<00:00, 17.69it/s]\n"
     ]
    },
    {
     "name": "stdout",
     "output_type": "stream",
     "text": [
      "\n",
      " 共享内存子进程处理样本 36000 到 36499...\n",
      "Set parameter Username\n",
      "Academic license - for non-commercial use only - expires 2026-05-06\n",
      "\n",
      "Optimizing for optDataset...\n"
     ]
    },
    {
     "name": "stderr",
     "output_type": "stream",
     "text": [
      "100%|██████████| 500/500 [00:28<00:00, 17.71it/s]\n"
     ]
    },
    {
     "name": "stdout",
     "output_type": "stream",
     "text": [
      "\n",
      " 共享内存子进程处理样本 36500 到 36999...\n",
      "Set parameter Username\n",
      "Academic license - for non-commercial use only - expires 2026-05-06\n",
      "\n",
      "Optimizing for optDataset...\n"
     ]
    },
    {
     "name": "stderr",
     "output_type": "stream",
     "text": [
      "100%|██████████| 500/500 [00:28<00:00, 17.47it/s]\n"
     ]
    },
    {
     "name": "stdout",
     "output_type": "stream",
     "text": [
      "\n",
      " 共享内存子进程处理样本 37000 到 37499...\n",
      "Set parameter Username\n",
      "Academic license - for non-commercial use only - expires 2026-05-06\n",
      "\n",
      "Optimizing for optDataset...\n"
     ]
    },
    {
     "name": "stderr",
     "output_type": "stream",
     "text": [
      "100%|██████████| 500/500 [00:28<00:00, 17.38it/s]\n"
     ]
    },
    {
     "name": "stdout",
     "output_type": "stream",
     "text": [
      "\n",
      " 共享内存子进程处理样本 37500 到 37999...\n",
      "Set parameter Username\n",
      "Academic license - for non-commercial use only - expires 2026-05-06\n",
      "\n",
      "Optimizing for optDataset...\n"
     ]
    },
    {
     "name": "stderr",
     "output_type": "stream",
     "text": [
      "100%|██████████| 500/500 [00:28<00:00, 17.60it/s]\n"
     ]
    },
    {
     "name": "stdout",
     "output_type": "stream",
     "text": [
      "\n",
      " 共享内存子进程处理样本 38000 到 38499...\n",
      "Set parameter Username\n",
      "Academic license - for non-commercial use only - expires 2026-05-06\n",
      "\n",
      "Optimizing for optDataset...\n"
     ]
    },
    {
     "name": "stderr",
     "output_type": "stream",
     "text": [
      "100%|██████████| 500/500 [00:28<00:00, 17.55it/s]\n"
     ]
    },
    {
     "name": "stdout",
     "output_type": "stream",
     "text": [
      "\n",
      " 共享内存子进程处理样本 38500 到 38999...\n",
      "Set parameter Username\n",
      "Academic license - for non-commercial use only - expires 2026-05-06\n",
      "\n",
      "Optimizing for optDataset...\n"
     ]
    },
    {
     "name": "stderr",
     "output_type": "stream",
     "text": [
      "100%|██████████| 500/500 [00:29<00:00, 17.14it/s]\n"
     ]
    },
    {
     "name": "stdout",
     "output_type": "stream",
     "text": [
      "\n",
      " 共享内存子进程处理样本 39000 到 39499...\n",
      "Set parameter Username\n",
      "Academic license - for non-commercial use only - expires 2026-05-06\n",
      "\n",
      "Optimizing for optDataset...\n"
     ]
    },
    {
     "name": "stderr",
     "output_type": "stream",
     "text": [
      "100%|██████████| 500/500 [00:48<00:00, 10.38it/s]\n"
     ]
    },
    {
     "name": "stdout",
     "output_type": "stream",
     "text": [
      "\n",
      " 共享内存子进程处理样本 39500 到 39999...\n",
      "Set parameter Username\n",
      "Academic license - for non-commercial use only - expires 2026-05-06\n",
      "\n",
      "Optimizing for optDataset...\n"
     ]
    },
    {
     "name": "stderr",
     "output_type": "stream",
     "text": [
      "100%|██████████| 500/500 [00:28<00:00, 17.34it/s]\n"
     ]
    },
    {
     "name": "stdout",
     "output_type": "stream",
     "text": [
      "\n",
      " 共享内存子进程处理样本 40000 到 40499...\n",
      "Set parameter Username\n",
      "Academic license - for non-commercial use only - expires 2026-05-06\n",
      "\n",
      "Optimizing for optDataset...\n"
     ]
    },
    {
     "name": "stderr",
     "output_type": "stream",
     "text": [
      "100%|██████████| 500/500 [00:28<00:00, 17.25it/s]\n"
     ]
    },
    {
     "name": "stdout",
     "output_type": "stream",
     "text": [
      "\n",
      " 共享内存子进程处理样本 40500 到 40999...\n",
      "Set parameter Username\n",
      "Academic license - for non-commercial use only - expires 2026-05-06\n",
      "\n",
      "Optimizing for optDataset...\n"
     ]
    },
    {
     "name": "stderr",
     "output_type": "stream",
     "text": [
      "100%|██████████| 500/500 [00:28<00:00, 17.35it/s]\n"
     ]
    },
    {
     "name": "stdout",
     "output_type": "stream",
     "text": [
      "\n",
      " 共享内存子进程处理样本 41000 到 41499...\n",
      "Set parameter Username\n",
      "Academic license - for non-commercial use only - expires 2026-05-06\n",
      "\n",
      "Optimizing for optDataset...\n"
     ]
    },
    {
     "name": "stderr",
     "output_type": "stream",
     "text": [
      "100%|██████████| 500/500 [00:29<00:00, 17.12it/s]\n"
     ]
    },
    {
     "name": "stdout",
     "output_type": "stream",
     "text": [
      "\n",
      " 共享内存子进程处理样本 41500 到 41999...\n",
      "Set parameter Username\n",
      "Academic license - for non-commercial use only - expires 2026-05-06\n",
      "\n",
      "Optimizing for optDataset...\n"
     ]
    },
    {
     "name": "stderr",
     "output_type": "stream",
     "text": [
      "100%|██████████| 500/500 [00:29<00:00, 17.20it/s]\n"
     ]
    },
    {
     "name": "stdout",
     "output_type": "stream",
     "text": [
      "\n",
      " 共享内存子进程处理样本 42000 到 42499...\n",
      "Set parameter Username\n",
      "Academic license - for non-commercial use only - expires 2026-05-06\n",
      "\n",
      "Optimizing for optDataset...\n"
     ]
    },
    {
     "name": "stderr",
     "output_type": "stream",
     "text": [
      "100%|██████████| 500/500 [00:28<00:00, 17.31it/s]\n"
     ]
    },
    {
     "name": "stdout",
     "output_type": "stream",
     "text": [
      "\n",
      " 共享内存子进程处理样本 42500 到 42999...\n",
      "Set parameter Username\n",
      "Academic license - for non-commercial use only - expires 2026-05-06\n",
      "\n",
      "Optimizing for optDataset...\n"
     ]
    },
    {
     "name": "stderr",
     "output_type": "stream",
     "text": [
      "100%|██████████| 500/500 [00:29<00:00, 17.22it/s]\n"
     ]
    },
    {
     "name": "stdout",
     "output_type": "stream",
     "text": [
      "\n",
      " 共享内存子进程处理样本 43000 到 43499...\n",
      "Set parameter Username\n",
      "Academic license - for non-commercial use only - expires 2026-05-06\n",
      "\n",
      "Optimizing for optDataset...\n"
     ]
    },
    {
     "name": "stderr",
     "output_type": "stream",
     "text": [
      "100%|██████████| 500/500 [00:28<00:00, 17.29it/s]\n"
     ]
    },
    {
     "name": "stdout",
     "output_type": "stream",
     "text": [
      "\n",
      " 共享内存子进程处理样本 43500 到 43999...\n",
      "Set parameter Username\n",
      "Academic license - for non-commercial use only - expires 2026-05-06\n",
      "\n",
      "Optimizing for optDataset...\n"
     ]
    },
    {
     "name": "stderr",
     "output_type": "stream",
     "text": [
      "100%|██████████| 500/500 [00:55<00:00,  8.99it/s]\n"
     ]
    },
    {
     "name": "stdout",
     "output_type": "stream",
     "text": [
      "\n",
      " 共享内存子进程处理样本 44000 到 44499...\n",
      "Set parameter Username\n",
      "Academic license - for non-commercial use only - expires 2026-05-06\n",
      "\n",
      "Optimizing for optDataset...\n"
     ]
    },
    {
     "name": "stderr",
     "output_type": "stream",
     "text": [
      "100%|██████████| 500/500 [00:29<00:00, 17.13it/s]\n"
     ]
    },
    {
     "name": "stdout",
     "output_type": "stream",
     "text": [
      "\n",
      " 共享内存子进程处理样本 44500 到 44999...\n",
      "Set parameter Username\n",
      "Academic license - for non-commercial use only - expires 2026-05-06\n",
      "\n",
      "Optimizing for optDataset...\n"
     ]
    },
    {
     "name": "stderr",
     "output_type": "stream",
     "text": [
      "100%|██████████| 500/500 [00:29<00:00, 17.21it/s]\n"
     ]
    },
    {
     "name": "stdout",
     "output_type": "stream",
     "text": [
      "\n",
      " 共享内存子进程处理样本 45000 到 45499...\n",
      "Set parameter Username\n",
      "Academic license - for non-commercial use only - expires 2026-05-06\n",
      "\n",
      "Optimizing for optDataset...\n"
     ]
    },
    {
     "name": "stderr",
     "output_type": "stream",
     "text": [
      "100%|██████████| 500/500 [00:29<00:00, 17.10it/s]\n"
     ]
    },
    {
     "name": "stdout",
     "output_type": "stream",
     "text": [
      "\n",
      " 共享内存子进程处理样本 45500 到 45999...\n",
      "Set parameter Username\n",
      "Academic license - for non-commercial use only - expires 2026-05-06\n",
      "\n",
      "Optimizing for optDataset...\n"
     ]
    },
    {
     "name": "stderr",
     "output_type": "stream",
     "text": [
      "100%|██████████| 500/500 [00:29<00:00, 16.96it/s]\n"
     ]
    },
    {
     "name": "stdout",
     "output_type": "stream",
     "text": [
      "\n",
      " 共享内存子进程处理样本 46000 到 46499...\n",
      "Set parameter Username\n",
      "Academic license - for non-commercial use only - expires 2026-05-06\n",
      "\n",
      "Optimizing for optDataset...\n"
     ]
    },
    {
     "name": "stderr",
     "output_type": "stream",
     "text": [
      "100%|██████████| 500/500 [00:29<00:00, 16.97it/s]\n"
     ]
    },
    {
     "name": "stdout",
     "output_type": "stream",
     "text": [
      "\n",
      " 共享内存子进程处理样本 46500 到 46999...\n",
      "Set parameter Username\n",
      "Academic license - for non-commercial use only - expires 2026-05-06\n",
      "\n",
      "Optimizing for optDataset...\n"
     ]
    },
    {
     "name": "stderr",
     "output_type": "stream",
     "text": [
      "100%|██████████| 500/500 [00:29<00:00, 16.91it/s]\n"
     ]
    },
    {
     "name": "stdout",
     "output_type": "stream",
     "text": [
      "\n",
      " 共享内存子进程处理样本 47000 到 47499...\n",
      "Set parameter Username\n",
      "Academic license - for non-commercial use only - expires 2026-05-06\n",
      "\n",
      "Optimizing for optDataset...\n"
     ]
    },
    {
     "name": "stderr",
     "output_type": "stream",
     "text": [
      "100%|██████████| 500/500 [00:30<00:00, 16.66it/s]\n"
     ]
    },
    {
     "name": "stdout",
     "output_type": "stream",
     "text": [
      "\n",
      " 共享内存子进程处理样本 47500 到 47999...\n",
      "Set parameter Username\n",
      "Academic license - for non-commercial use only - expires 2026-05-06\n",
      "\n",
      "Optimizing for optDataset...\n"
     ]
    },
    {
     "name": "stderr",
     "output_type": "stream",
     "text": [
      "100%|██████████| 500/500 [00:30<00:00, 16.32it/s]\n"
     ]
    },
    {
     "name": "stdout",
     "output_type": "stream",
     "text": [
      "\n",
      " 共享内存子进程处理样本 48000 到 48499...\n",
      "Set parameter Username\n",
      "Academic license - for non-commercial use only - expires 2026-05-06\n",
      "\n",
      "Optimizing for optDataset...\n"
     ]
    },
    {
     "name": "stderr",
     "output_type": "stream",
     "text": [
      "100%|██████████| 500/500 [00:31<00:00, 15.79it/s]\n"
     ]
    },
    {
     "name": "stdout",
     "output_type": "stream",
     "text": [
      "\n",
      " 共享内存子进程处理样本 48500 到 48999...\n",
      "Set parameter Username\n",
      "Academic license - for non-commercial use only - expires 2026-05-06\n",
      "\n",
      "Optimizing for optDataset...\n"
     ]
    },
    {
     "name": "stderr",
     "output_type": "stream",
     "text": [
      "100%|██████████| 500/500 [00:30<00:00, 16.53it/s]\n"
     ]
    },
    {
     "name": "stdout",
     "output_type": "stream",
     "text": [
      "\n",
      " 共享内存子进程处理样本 49000 到 49499...\n",
      "Set parameter Username\n",
      "Academic license - for non-commercial use only - expires 2026-05-06\n",
      "\n",
      "Optimizing for optDataset...\n"
     ]
    },
    {
     "name": "stderr",
     "output_type": "stream",
     "text": [
      "100%|██████████| 500/500 [00:31<00:00, 16.03it/s]\n"
     ]
    },
    {
     "name": "stdout",
     "output_type": "stream",
     "text": [
      "\n",
      " 共享内存子进程处理样本 49500 到 49999...\n",
      "Set parameter Username\n",
      "Academic license - for non-commercial use only - expires 2026-05-06\n",
      "\n",
      "Optimizing for optDataset...\n"
     ]
    },
    {
     "name": "stderr",
     "output_type": "stream",
     "text": [
      "100%|██████████| 500/500 [00:29<00:00, 16.79it/s]\n"
     ]
    },
    {
     "name": "stdout",
     "output_type": "stream",
     "text": [
      "\n",
      " 共享内存子进程处理样本 50000 到 50499...\n",
      "Set parameter Username\n",
      "Academic license - for non-commercial use only - expires 2026-05-06\n",
      "\n",
      "Optimizing for optDataset...\n"
     ]
    },
    {
     "name": "stderr",
     "output_type": "stream",
     "text": [
      "100%|██████████| 500/500 [00:29<00:00, 16.88it/s]\n"
     ]
    },
    {
     "name": "stdout",
     "output_type": "stream",
     "text": [
      "\n",
      " 共享内存子进程处理样本 50500 到 50999...\n",
      "Set parameter Username\n",
      "Academic license - for non-commercial use only - expires 2026-05-06\n",
      "\n",
      "Optimizing for optDataset...\n"
     ]
    },
    {
     "name": "stderr",
     "output_type": "stream",
     "text": [
      "100%|██████████| 500/500 [00:29<00:00, 16.91it/s]\n"
     ]
    },
    {
     "name": "stdout",
     "output_type": "stream",
     "text": [
      "\n",
      " 共享内存子进程处理样本 51000 到 51499...\n",
      "Set parameter Username\n",
      "Academic license - for non-commercial use only - expires 2026-05-06\n",
      "\n",
      "Optimizing for optDataset...\n"
     ]
    },
    {
     "name": "stderr",
     "output_type": "stream",
     "text": [
      "100%|██████████| 500/500 [00:29<00:00, 16.71it/s]\n"
     ]
    },
    {
     "name": "stdout",
     "output_type": "stream",
     "text": [
      "\n",
      " 共享内存子进程处理样本 51500 到 51999...\n",
      "Set parameter Username\n",
      "Academic license - for non-commercial use only - expires 2026-05-06\n",
      "\n",
      "Optimizing for optDataset...\n"
     ]
    },
    {
     "name": "stderr",
     "output_type": "stream",
     "text": [
      "100%|██████████| 500/500 [00:29<00:00, 17.04it/s]\n"
     ]
    },
    {
     "name": "stdout",
     "output_type": "stream",
     "text": [
      "\n",
      " 共享内存子进程处理样本 52000 到 52499...\n",
      "Set parameter Username\n",
      "Academic license - for non-commercial use only - expires 2026-05-06\n",
      "\n",
      "Optimizing for optDataset...\n"
     ]
    },
    {
     "name": "stderr",
     "output_type": "stream",
     "text": [
      "100%|██████████| 500/500 [00:29<00:00, 16.89it/s]\n"
     ]
    },
    {
     "name": "stdout",
     "output_type": "stream",
     "text": [
      "\n",
      " 共享内存子进程处理样本 52500 到 52999...\n",
      "Set parameter Username\n",
      "Academic license - for non-commercial use only - expires 2026-05-06\n",
      "\n",
      "Optimizing for optDataset...\n"
     ]
    },
    {
     "name": "stderr",
     "output_type": "stream",
     "text": [
      "100%|██████████| 500/500 [00:29<00:00, 16.94it/s]\n"
     ]
    },
    {
     "name": "stdout",
     "output_type": "stream",
     "text": [
      "\n",
      " 共享内存子进程处理样本 53000 到 53499...\n",
      "Set parameter Username\n",
      "Academic license - for non-commercial use only - expires 2026-05-06\n",
      "\n",
      "Optimizing for optDataset...\n"
     ]
    },
    {
     "name": "stderr",
     "output_type": "stream",
     "text": [
      "100%|██████████| 500/500 [00:29<00:00, 16.95it/s]\n"
     ]
    },
    {
     "name": "stdout",
     "output_type": "stream",
     "text": [
      "\n",
      " 共享内存子进程处理样本 53500 到 53999...\n",
      "Set parameter Username\n",
      "Academic license - for non-commercial use only - expires 2026-05-06\n",
      "\n",
      "Optimizing for optDataset...\n"
     ]
    },
    {
     "name": "stderr",
     "output_type": "stream",
     "text": [
      "100%|██████████| 500/500 [00:29<00:00, 17.13it/s]\n"
     ]
    },
    {
     "name": "stdout",
     "output_type": "stream",
     "text": [
      "\n",
      " 共享内存子进程处理样本 54000 到 54499...\n",
      "Set parameter Username\n",
      "Academic license - for non-commercial use only - expires 2026-05-06\n",
      "\n",
      "Optimizing for optDataset...\n"
     ]
    },
    {
     "name": "stderr",
     "output_type": "stream",
     "text": [
      "100%|██████████| 500/500 [00:31<00:00, 16.07it/s]\n"
     ]
    },
    {
     "name": "stdout",
     "output_type": "stream",
     "text": [
      "\n",
      " 共享内存子进程处理样本 54500 到 54999...\n",
      "Set parameter Username\n",
      "Academic license - for non-commercial use only - expires 2026-05-06\n",
      "\n",
      "Optimizing for optDataset...\n"
     ]
    },
    {
     "name": "stderr",
     "output_type": "stream",
     "text": [
      "100%|██████████| 500/500 [00:29<00:00, 16.93it/s]\n"
     ]
    },
    {
     "name": "stdout",
     "output_type": "stream",
     "text": [
      "\n",
      " 共享内存子进程处理样本 55000 到 55499...\n",
      "Set parameter Username\n",
      "Academic license - for non-commercial use only - expires 2026-05-06\n",
      "\n",
      "Optimizing for optDataset...\n"
     ]
    },
    {
     "name": "stderr",
     "output_type": "stream",
     "text": [
      "100%|██████████| 500/500 [00:29<00:00, 16.93it/s]\n"
     ]
    },
    {
     "name": "stdout",
     "output_type": "stream",
     "text": [
      "\n",
      " 共享内存子进程处理样本 55500 到 55999...\n",
      "Set parameter Username\n",
      "Academic license - for non-commercial use only - expires 2026-05-06\n",
      "\n",
      "Optimizing for optDataset...\n"
     ]
    },
    {
     "name": "stderr",
     "output_type": "stream",
     "text": [
      "100%|██████████| 500/500 [00:29<00:00, 16.70it/s]\n"
     ]
    },
    {
     "name": "stdout",
     "output_type": "stream",
     "text": [
      "\n",
      " 共享内存子进程处理样本 56000 到 56499...\n",
      "Set parameter Username\n",
      "Academic license - for non-commercial use only - expires 2026-05-06\n",
      "\n",
      "Optimizing for optDataset...\n"
     ]
    },
    {
     "name": "stderr",
     "output_type": "stream",
     "text": [
      "100%|██████████| 500/500 [00:29<00:00, 16.73it/s]\n"
     ]
    },
    {
     "name": "stdout",
     "output_type": "stream",
     "text": [
      "\n",
      " 共享内存子进程处理样本 56500 到 56999...\n",
      "Set parameter Username\n",
      "Academic license - for non-commercial use only - expires 2026-05-06\n",
      "\n",
      "Optimizing for optDataset...\n"
     ]
    },
    {
     "name": "stderr",
     "output_type": "stream",
     "text": [
      "100%|██████████| 500/500 [00:29<00:00, 16.69it/s]\n"
     ]
    },
    {
     "name": "stdout",
     "output_type": "stream",
     "text": [
      "\n",
      " 共享内存子进程处理样本 57000 到 57499...\n",
      "Set parameter Username\n",
      "Academic license - for non-commercial use only - expires 2026-05-06\n",
      "\n",
      "Optimizing for optDataset...\n"
     ]
    },
    {
     "name": "stderr",
     "output_type": "stream",
     "text": [
      "100%|██████████| 500/500 [00:29<00:00, 16.78it/s]\n"
     ]
    },
    {
     "name": "stdout",
     "output_type": "stream",
     "text": [
      "\n",
      " 共享内存子进程处理样本 57500 到 57999...\n",
      "Set parameter Username\n",
      "Academic license - for non-commercial use only - expires 2026-05-06\n",
      "\n",
      "Optimizing for optDataset...\n"
     ]
    },
    {
     "name": "stderr",
     "output_type": "stream",
     "text": [
      "100%|██████████| 500/500 [00:29<00:00, 16.83it/s]\n"
     ]
    },
    {
     "name": "stdout",
     "output_type": "stream",
     "text": [
      "\n",
      " 共享内存子进程处理样本 58000 到 58499...\n",
      "Set parameter Username\n",
      "Academic license - for non-commercial use only - expires 2026-05-06\n",
      "\n",
      "Optimizing for optDataset...\n"
     ]
    },
    {
     "name": "stderr",
     "output_type": "stream",
     "text": [
      "100%|██████████| 500/500 [00:29<00:00, 17.13it/s]\n"
     ]
    },
    {
     "name": "stdout",
     "output_type": "stream",
     "text": [
      "\n",
      " 共享内存子进程处理样本 58500 到 58999...\n",
      "Set parameter Username\n",
      "Academic license - for non-commercial use only - expires 2026-05-06\n",
      "\n",
      "Optimizing for optDataset...\n"
     ]
    },
    {
     "name": "stderr",
     "output_type": "stream",
     "text": [
      "100%|██████████| 500/500 [01:00<00:00,  8.24it/s]\n"
     ]
    },
    {
     "name": "stdout",
     "output_type": "stream",
     "text": [
      "\n",
      " 共享内存子进程处理样本 59000 到 59499...\n",
      "Set parameter Username\n",
      "Academic license - for non-commercial use only - expires 2026-05-06\n",
      "\n",
      "Optimizing for optDataset...\n"
     ]
    },
    {
     "name": "stderr",
     "output_type": "stream",
     "text": [
      "100%|██████████| 500/500 [00:29<00:00, 17.04it/s]\n"
     ]
    },
    {
     "name": "stdout",
     "output_type": "stream",
     "text": [
      "\n",
      " 共享内存子进程处理样本 59500 到 59999...\n",
      "Set parameter Username\n",
      "Academic license - for non-commercial use only - expires 2026-05-06\n",
      "\n",
      "Optimizing for optDataset...\n"
     ]
    },
    {
     "name": "stderr",
     "output_type": "stream",
     "text": [
      "100%|██████████| 500/500 [00:29<00:00, 17.03it/s]\n"
     ]
    },
    {
     "name": "stdout",
     "output_type": "stream",
     "text": [
      "\n",
      " 共享内存子进程处理样本 60000 到 60499...\n",
      "Set parameter Username\n",
      "Academic license - for non-commercial use only - expires 2026-05-06\n",
      "\n",
      "Optimizing for optDataset...\n"
     ]
    },
    {
     "name": "stderr",
     "output_type": "stream",
     "text": [
      "100%|██████████| 500/500 [00:29<00:00, 17.05it/s]\n"
     ]
    },
    {
     "name": "stdout",
     "output_type": "stream",
     "text": [
      "\n",
      " 共享内存子进程处理样本 60500 到 60999...\n",
      "Set parameter Username\n",
      "Academic license - for non-commercial use only - expires 2026-05-06\n",
      "\n",
      "Optimizing for optDataset...\n"
     ]
    },
    {
     "name": "stderr",
     "output_type": "stream",
     "text": [
      "100%|██████████| 500/500 [00:29<00:00, 17.01it/s]\n"
     ]
    },
    {
     "name": "stdout",
     "output_type": "stream",
     "text": [
      "\n",
      " 共享内存子进程处理样本 61000 到 61499...\n",
      "Set parameter Username\n",
      "Academic license - for non-commercial use only - expires 2026-05-06\n",
      "\n",
      "Optimizing for optDataset...\n"
     ]
    },
    {
     "name": "stderr",
     "output_type": "stream",
     "text": [
      "100%|██████████| 500/500 [00:29<00:00, 16.95it/s]\n"
     ]
    },
    {
     "name": "stdout",
     "output_type": "stream",
     "text": [
      "\n",
      " 共享内存子进程处理样本 61500 到 61999...\n",
      "Set parameter Username\n",
      "Academic license - for non-commercial use only - expires 2026-05-06\n",
      "\n",
      "Optimizing for optDataset...\n"
     ]
    },
    {
     "name": "stderr",
     "output_type": "stream",
     "text": [
      "100%|██████████| 500/500 [00:29<00:00, 16.94it/s]\n"
     ]
    },
    {
     "name": "stdout",
     "output_type": "stream",
     "text": [
      "\n",
      " 共享内存子进程处理样本 62000 到 62499...\n",
      "Set parameter Username\n",
      "Academic license - for non-commercial use only - expires 2026-05-06\n",
      "\n",
      "Optimizing for optDataset...\n"
     ]
    },
    {
     "name": "stderr",
     "output_type": "stream",
     "text": [
      "100%|██████████| 500/500 [00:29<00:00, 17.11it/s]\n"
     ]
    },
    {
     "name": "stdout",
     "output_type": "stream",
     "text": [
      "\n",
      " 共享内存子进程处理样本 62500 到 62999...\n",
      "Set parameter Username\n",
      "Academic license - for non-commercial use only - expires 2026-05-06\n",
      "\n",
      "Optimizing for optDataset...\n"
     ]
    },
    {
     "name": "stderr",
     "output_type": "stream",
     "text": [
      "100%|██████████| 500/500 [00:29<00:00, 17.00it/s]\n"
     ]
    },
    {
     "name": "stdout",
     "output_type": "stream",
     "text": [
      "\n",
      " 共享内存子进程处理样本 63000 到 63499...\n",
      "Set parameter Username\n",
      "Academic license - for non-commercial use only - expires 2026-05-06\n",
      "\n",
      "Optimizing for optDataset...\n"
     ]
    },
    {
     "name": "stderr",
     "output_type": "stream",
     "text": [
      "100%|██████████| 500/500 [00:29<00:00, 17.03it/s]\n"
     ]
    },
    {
     "name": "stdout",
     "output_type": "stream",
     "text": [
      "\n",
      " 共享内存子进程处理样本 63500 到 63999...\n",
      "Set parameter Username\n",
      "Academic license - for non-commercial use only - expires 2026-05-06\n",
      "\n",
      "Optimizing for optDataset...\n"
     ]
    },
    {
     "name": "stderr",
     "output_type": "stream",
     "text": [
      "100%|██████████| 500/500 [00:29<00:00, 16.99it/s]\n"
     ]
    },
    {
     "name": "stdout",
     "output_type": "stream",
     "text": [
      "\n",
      " 共享内存子进程处理样本 64000 到 64499...\n",
      "Set parameter Username\n",
      "Academic license - for non-commercial use only - expires 2026-05-06\n",
      "\n",
      "Optimizing for optDataset...\n"
     ]
    },
    {
     "name": "stderr",
     "output_type": "stream",
     "text": [
      "100%|██████████| 500/500 [00:30<00:00, 16.15it/s]\n"
     ]
    },
    {
     "name": "stdout",
     "output_type": "stream",
     "text": [
      "\n",
      " 共享内存子进程处理样本 64500 到 64999...\n",
      "Set parameter Username\n",
      "Academic license - for non-commercial use only - expires 2026-05-06\n",
      "\n",
      "Optimizing for optDataset...\n"
     ]
    },
    {
     "name": "stderr",
     "output_type": "stream",
     "text": [
      "100%|██████████| 500/500 [00:30<00:00, 16.45it/s]\n"
     ]
    },
    {
     "name": "stdout",
     "output_type": "stream",
     "text": [
      "\n",
      " 共享内存子进程处理样本 65000 到 65499...\n",
      "Set parameter Username\n",
      "Academic license - for non-commercial use only - expires 2026-05-06\n",
      "\n",
      "Optimizing for optDataset...\n"
     ]
    },
    {
     "name": "stderr",
     "output_type": "stream",
     "text": [
      "100%|██████████| 500/500 [00:29<00:00, 16.72it/s]\n"
     ]
    },
    {
     "name": "stdout",
     "output_type": "stream",
     "text": [
      "\n",
      " 共享内存子进程处理样本 65500 到 65999...\n",
      "Set parameter Username\n",
      "Academic license - for non-commercial use only - expires 2026-05-06\n",
      "\n",
      "Optimizing for optDataset...\n"
     ]
    },
    {
     "name": "stderr",
     "output_type": "stream",
     "text": [
      "100%|██████████| 500/500 [00:29<00:00, 17.18it/s]\n"
     ]
    },
    {
     "name": "stdout",
     "output_type": "stream",
     "text": [
      "\n",
      " 共享内存子进程处理样本 66000 到 66499...\n",
      "Set parameter Username\n",
      "Academic license - for non-commercial use only - expires 2026-05-06\n",
      "\n",
      "Optimizing for optDataset...\n"
     ]
    },
    {
     "name": "stderr",
     "output_type": "stream",
     "text": [
      "100%|██████████| 500/500 [00:29<00:00, 17.17it/s]\n"
     ]
    },
    {
     "name": "stdout",
     "output_type": "stream",
     "text": [
      "\n",
      " 共享内存子进程处理样本 66500 到 66999...\n",
      "Set parameter Username\n",
      "Academic license - for non-commercial use only - expires 2026-05-06\n",
      "\n",
      "Optimizing for optDataset...\n"
     ]
    },
    {
     "name": "stderr",
     "output_type": "stream",
     "text": [
      "100%|██████████| 500/500 [00:34<00:00, 14.47it/s]\n"
     ]
    },
    {
     "name": "stdout",
     "output_type": "stream",
     "text": [
      "\n",
      " 共享内存子进程处理样本 67000 到 67499...\n",
      "Set parameter Username\n",
      "Academic license - for non-commercial use only - expires 2026-05-06\n",
      "\n",
      "Optimizing for optDataset...\n"
     ]
    },
    {
     "name": "stderr",
     "output_type": "stream",
     "text": [
      "100%|██████████| 500/500 [00:29<00:00, 17.05it/s]\n"
     ]
    },
    {
     "name": "stdout",
     "output_type": "stream",
     "text": [
      "\n",
      " 共享内存子进程处理样本 67500 到 67999...\n",
      "Set parameter Username\n",
      "Academic license - for non-commercial use only - expires 2026-05-06\n",
      "\n",
      "Optimizing for optDataset...\n"
     ]
    },
    {
     "name": "stderr",
     "output_type": "stream",
     "text": [
      "100%|██████████| 500/500 [00:29<00:00, 17.04it/s]\n"
     ]
    },
    {
     "name": "stdout",
     "output_type": "stream",
     "text": [
      "\n",
      " 共享内存子进程处理样本 68000 到 68499...\n",
      "Set parameter Username\n",
      "Academic license - for non-commercial use only - expires 2026-05-06\n",
      "\n",
      "Optimizing for optDataset...\n"
     ]
    },
    {
     "name": "stderr",
     "output_type": "stream",
     "text": [
      "100%|██████████| 500/500 [00:29<00:00, 17.01it/s]\n"
     ]
    },
    {
     "name": "stdout",
     "output_type": "stream",
     "text": [
      "\n",
      " 共享内存子进程处理样本 68500 到 68999...\n",
      "Set parameter Username\n",
      "Academic license - for non-commercial use only - expires 2026-05-06\n",
      "\n",
      "Optimizing for optDataset...\n"
     ]
    },
    {
     "name": "stderr",
     "output_type": "stream",
     "text": [
      "100%|██████████| 500/500 [00:29<00:00, 17.07it/s]\n"
     ]
    },
    {
     "name": "stdout",
     "output_type": "stream",
     "text": [
      "\n",
      " 共享内存子进程处理样本 69000 到 69499...\n",
      "Set parameter Username\n",
      "Academic license - for non-commercial use only - expires 2026-05-06\n",
      "\n",
      "Optimizing for optDataset...\n"
     ]
    },
    {
     "name": "stderr",
     "output_type": "stream",
     "text": [
      "100%|██████████| 500/500 [00:30<00:00, 16.32it/s]\n"
     ]
    },
    {
     "name": "stdout",
     "output_type": "stream",
     "text": [
      "\n",
      " 共享内存子进程处理样本 69500 到 69999...\n",
      "Set parameter Username\n",
      "Academic license - for non-commercial use only - expires 2026-05-06\n",
      "\n",
      "Optimizing for optDataset...\n"
     ]
    },
    {
     "name": "stderr",
     "output_type": "stream",
     "text": [
      "100%|██████████| 500/500 [00:30<00:00, 16.21it/s]\n"
     ]
    },
    {
     "name": "stdout",
     "output_type": "stream",
     "text": [
      "\n",
      " 共享内存子进程处理样本 70000 到 70499...\n",
      "Set parameter Username\n",
      "Academic license - for non-commercial use only - expires 2026-05-06\n",
      "\n",
      "Optimizing for optDataset...\n"
     ]
    },
    {
     "name": "stderr",
     "output_type": "stream",
     "text": [
      "100%|██████████| 500/500 [00:29<00:00, 16.95it/s]\n"
     ]
    },
    {
     "name": "stdout",
     "output_type": "stream",
     "text": [
      "\n",
      " 共享内存子进程处理样本 70500 到 70999...\n",
      "Set parameter Username\n",
      "Academic license - for non-commercial use only - expires 2026-05-06\n",
      "\n",
      "Optimizing for optDataset...\n"
     ]
    },
    {
     "name": "stderr",
     "output_type": "stream",
     "text": [
      "100%|██████████| 500/500 [00:29<00:00, 17.16it/s]\n"
     ]
    },
    {
     "name": "stdout",
     "output_type": "stream",
     "text": [
      "\n",
      " 共享内存子进程处理样本 71000 到 71499...\n",
      "Set parameter Username\n",
      "Academic license - for non-commercial use only - expires 2026-05-06\n",
      "\n",
      "Optimizing for optDataset...\n"
     ]
    },
    {
     "name": "stderr",
     "output_type": "stream",
     "text": [
      "100%|██████████| 500/500 [00:29<00:00, 17.17it/s]\n"
     ]
    },
    {
     "name": "stdout",
     "output_type": "stream",
     "text": [
      "\n",
      " 共享内存子进程处理样本 71500 到 71999...\n",
      "Set parameter Username\n",
      "Academic license - for non-commercial use only - expires 2026-05-06\n",
      "\n",
      "Optimizing for optDataset...\n"
     ]
    },
    {
     "name": "stderr",
     "output_type": "stream",
     "text": [
      "100%|██████████| 500/500 [00:29<00:00, 17.01it/s]\n"
     ]
    },
    {
     "name": "stdout",
     "output_type": "stream",
     "text": [
      "\n",
      " 共享内存子进程处理样本 72000 到 72499...\n",
      "Set parameter Username\n",
      "Academic license - for non-commercial use only - expires 2026-05-06\n",
      "\n",
      "Optimizing for optDataset...\n"
     ]
    },
    {
     "name": "stderr",
     "output_type": "stream",
     "text": [
      "100%|██████████| 500/500 [00:30<00:00, 16.58it/s]\n"
     ]
    },
    {
     "name": "stdout",
     "output_type": "stream",
     "text": [
      "\n",
      " 共享内存子进程处理样本 72500 到 72999...\n",
      "Set parameter Username\n",
      "Academic license - for non-commercial use only - expires 2026-05-06\n",
      "\n",
      "Optimizing for optDataset...\n"
     ]
    },
    {
     "name": "stderr",
     "output_type": "stream",
     "text": [
      "100%|██████████| 500/500 [00:29<00:00, 17.12it/s]\n"
     ]
    },
    {
     "name": "stdout",
     "output_type": "stream",
     "text": [
      "\n",
      " 共享内存子进程处理样本 73000 到 73499...\n",
      "Set parameter Username\n",
      "Academic license - for non-commercial use only - expires 2026-05-06\n",
      "\n",
      "Optimizing for optDataset...\n"
     ]
    },
    {
     "name": "stderr",
     "output_type": "stream",
     "text": [
      "100%|██████████| 500/500 [00:29<00:00, 17.04it/s]\n"
     ]
    },
    {
     "name": "stdout",
     "output_type": "stream",
     "text": [
      "\n",
      " 共享内存子进程处理样本 73500 到 73999...\n",
      "Set parameter Username\n",
      "Academic license - for non-commercial use only - expires 2026-05-06\n",
      "\n",
      "Optimizing for optDataset...\n"
     ]
    },
    {
     "name": "stderr",
     "output_type": "stream",
     "text": [
      "100%|██████████| 500/500 [00:29<00:00, 16.81it/s]\n"
     ]
    },
    {
     "name": "stdout",
     "output_type": "stream",
     "text": [
      "\n",
      " 共享内存子进程处理样本 74000 到 74499...\n",
      "Set parameter Username\n",
      "Academic license - for non-commercial use only - expires 2026-05-06\n",
      "\n",
      "Optimizing for optDataset...\n"
     ]
    },
    {
     "name": "stderr",
     "output_type": "stream",
     "text": [
      "100%|██████████| 500/500 [00:29<00:00, 16.90it/s]\n"
     ]
    },
    {
     "name": "stdout",
     "output_type": "stream",
     "text": [
      "\n",
      " 共享内存子进程处理样本 74500 到 74999...\n",
      "Set parameter Username\n",
      "Academic license - for non-commercial use only - expires 2026-05-06\n",
      "\n",
      "Optimizing for optDataset...\n"
     ]
    },
    {
     "name": "stderr",
     "output_type": "stream",
     "text": [
      "100%|██████████| 500/500 [00:29<00:00, 17.04it/s]\n"
     ]
    },
    {
     "name": "stdout",
     "output_type": "stream",
     "text": [
      "\n",
      " 共享内存子进程处理样本 75000 到 75499...\n",
      "Set parameter Username\n",
      "Academic license - for non-commercial use only - expires 2026-05-06\n",
      "\n",
      "Optimizing for optDataset...\n"
     ]
    },
    {
     "name": "stderr",
     "output_type": "stream",
     "text": [
      "100%|██████████| 500/500 [00:29<00:00, 16.88it/s]\n"
     ]
    },
    {
     "name": "stdout",
     "output_type": "stream",
     "text": [
      "\n",
      " 共享内存子进程处理样本 75500 到 75999...\n",
      "Set parameter Username\n",
      "Academic license - for non-commercial use only - expires 2026-05-06\n",
      "\n",
      "Optimizing for optDataset...\n"
     ]
    },
    {
     "name": "stderr",
     "output_type": "stream",
     "text": [
      "100%|██████████| 500/500 [00:29<00:00, 16.95it/s]\n"
     ]
    },
    {
     "name": "stdout",
     "output_type": "stream",
     "text": [
      "\n",
      " 共享内存子进程处理样本 76000 到 76499...\n",
      "Set parameter Username\n",
      "Academic license - for non-commercial use only - expires 2026-05-06\n",
      "\n",
      "Optimizing for optDataset...\n"
     ]
    },
    {
     "name": "stderr",
     "output_type": "stream",
     "text": [
      "100%|██████████| 500/500 [00:30<00:00, 16.56it/s]\n"
     ]
    },
    {
     "name": "stdout",
     "output_type": "stream",
     "text": [
      "\n",
      " 共享内存子进程处理样本 76500 到 76999...\n",
      "Set parameter Username\n",
      "Academic license - for non-commercial use only - expires 2026-05-06\n",
      "\n",
      "Optimizing for optDataset...\n"
     ]
    },
    {
     "name": "stderr",
     "output_type": "stream",
     "text": [
      "100%|██████████| 500/500 [00:29<00:00, 16.97it/s]\n"
     ]
    },
    {
     "name": "stdout",
     "output_type": "stream",
     "text": [
      "\n",
      " 共享内存子进程处理样本 77000 到 77499...\n",
      "Set parameter Username\n",
      "Academic license - for non-commercial use only - expires 2026-05-06\n",
      "\n",
      "Optimizing for optDataset...\n"
     ]
    },
    {
     "name": "stderr",
     "output_type": "stream",
     "text": [
      "100%|██████████| 500/500 [00:29<00:00, 17.11it/s]\n"
     ]
    },
    {
     "name": "stdout",
     "output_type": "stream",
     "text": [
      "\n",
      " 共享内存子进程处理样本 77500 到 77999...\n",
      "Set parameter Username\n",
      "Academic license - for non-commercial use only - expires 2026-05-06\n",
      "\n",
      "Optimizing for optDataset...\n"
     ]
    },
    {
     "name": "stderr",
     "output_type": "stream",
     "text": [
      "100%|██████████| 500/500 [00:36<00:00, 13.62it/s]\n"
     ]
    },
    {
     "name": "stdout",
     "output_type": "stream",
     "text": [
      "\n",
      " 共享内存子进程处理样本 78000 到 78499...\n",
      "Set parameter Username\n",
      "Academic license - for non-commercial use only - expires 2026-05-06\n",
      "\n",
      "Optimizing for optDataset...\n"
     ]
    },
    {
     "name": "stderr",
     "output_type": "stream",
     "text": [
      "100%|██████████| 500/500 [00:59<00:00,  8.44it/s]\n"
     ]
    },
    {
     "name": "stdout",
     "output_type": "stream",
     "text": [
      "\n",
      " 共享内存子进程处理样本 78500 到 78999...\n",
      "Set parameter Username\n",
      "Academic license - for non-commercial use only - expires 2026-05-06\n",
      "\n",
      "Optimizing for optDataset...\n"
     ]
    },
    {
     "name": "stderr",
     "output_type": "stream",
     "text": [
      "100%|██████████| 500/500 [00:29<00:00, 17.03it/s]\n"
     ]
    },
    {
     "name": "stdout",
     "output_type": "stream",
     "text": [
      "\n",
      " 共享内存子进程处理样本 79000 到 79499...\n",
      "Set parameter Username\n",
      "Academic license - for non-commercial use only - expires 2026-05-06\n",
      "\n",
      "Optimizing for optDataset...\n"
     ]
    },
    {
     "name": "stderr",
     "output_type": "stream",
     "text": [
      "100%|██████████| 500/500 [00:29<00:00, 16.93it/s]\n"
     ]
    },
    {
     "name": "stdout",
     "output_type": "stream",
     "text": [
      "\n",
      " 共享内存子进程处理样本 79500 到 79999...\n",
      "Set parameter Username\n",
      "Academic license - for non-commercial use only - expires 2026-05-06\n",
      "\n",
      "Optimizing for optDataset...\n"
     ]
    },
    {
     "name": "stderr",
     "output_type": "stream",
     "text": [
      "100%|██████████| 500/500 [00:30<00:00, 16.62it/s]\n"
     ]
    },
    {
     "name": "stdout",
     "output_type": "stream",
     "text": [
      "\n",
      " 共享内存子进程处理样本 80000 到 80499...\n",
      "Set parameter Username\n",
      "Academic license - for non-commercial use only - expires 2026-05-06\n",
      "\n",
      "Optimizing for optDataset...\n"
     ]
    },
    {
     "name": "stderr",
     "output_type": "stream",
     "text": [
      "100%|██████████| 500/500 [00:29<00:00, 16.91it/s]\n"
     ]
    },
    {
     "name": "stdout",
     "output_type": "stream",
     "text": [
      "\n",
      " 共享内存子进程处理样本 80500 到 80999...\n",
      "Set parameter Username\n",
      "Academic license - for non-commercial use only - expires 2026-05-06\n",
      "\n",
      "Optimizing for optDataset...\n"
     ]
    },
    {
     "name": "stderr",
     "output_type": "stream",
     "text": [
      "100%|██████████| 500/500 [00:29<00:00, 17.04it/s]\n"
     ]
    },
    {
     "name": "stdout",
     "output_type": "stream",
     "text": [
      "\n",
      " 共享内存子进程处理样本 81000 到 81499...\n",
      "Set parameter Username\n",
      "Academic license - for non-commercial use only - expires 2026-05-06\n",
      "\n",
      "Optimizing for optDataset...\n"
     ]
    },
    {
     "name": "stderr",
     "output_type": "stream",
     "text": [
      "100%|██████████| 500/500 [00:29<00:00, 16.98it/s]\n"
     ]
    },
    {
     "name": "stdout",
     "output_type": "stream",
     "text": [
      "\n",
      " 共享内存子进程处理样本 81500 到 81999...\n",
      "Set parameter Username\n",
      "Academic license - for non-commercial use only - expires 2026-05-06\n",
      "\n",
      "Optimizing for optDataset...\n"
     ]
    },
    {
     "name": "stderr",
     "output_type": "stream",
     "text": [
      "100%|██████████| 500/500 [00:29<00:00, 16.99it/s]\n"
     ]
    },
    {
     "name": "stdout",
     "output_type": "stream",
     "text": [
      "\n",
      " 共享内存子进程处理样本 82000 到 82499...\n",
      "Set parameter Username\n",
      "Academic license - for non-commercial use only - expires 2026-05-06\n",
      "\n",
      "Optimizing for optDataset...\n"
     ]
    },
    {
     "name": "stderr",
     "output_type": "stream",
     "text": [
      "100%|██████████| 500/500 [00:29<00:00, 17.02it/s]\n"
     ]
    },
    {
     "name": "stdout",
     "output_type": "stream",
     "text": [
      "\n",
      " 共享内存子进程处理样本 82500 到 82999...\n",
      "Set parameter Username\n",
      "Academic license - for non-commercial use only - expires 2026-05-06\n",
      "\n",
      "Optimizing for optDataset...\n"
     ]
    },
    {
     "name": "stderr",
     "output_type": "stream",
     "text": [
      "100%|██████████| 500/500 [00:29<00:00, 17.10it/s]\n"
     ]
    },
    {
     "name": "stdout",
     "output_type": "stream",
     "text": [
      "\n",
      " 共享内存子进程处理样本 83000 到 83499...\n",
      "Set parameter Username\n",
      "Academic license - for non-commercial use only - expires 2026-05-06\n",
      "\n",
      "Optimizing for optDataset...\n"
     ]
    },
    {
     "name": "stderr",
     "output_type": "stream",
     "text": [
      "100%|██████████| 500/500 [00:29<00:00, 17.11it/s]\n"
     ]
    },
    {
     "name": "stdout",
     "output_type": "stream",
     "text": [
      "\n",
      " 共享内存子进程处理样本 83500 到 83999...\n",
      "Set parameter Username\n",
      "Academic license - for non-commercial use only - expires 2026-05-06\n",
      "\n",
      "Optimizing for optDataset...\n"
     ]
    },
    {
     "name": "stderr",
     "output_type": "stream",
     "text": [
      "100%|██████████| 500/500 [00:29<00:00, 16.92it/s]\n"
     ]
    },
    {
     "name": "stdout",
     "output_type": "stream",
     "text": [
      "\n",
      " 共享内存子进程处理样本 84000 到 84499...\n",
      "Set parameter Username\n",
      "Academic license - for non-commercial use only - expires 2026-05-06\n",
      "\n",
      "Optimizing for optDataset...\n"
     ]
    },
    {
     "name": "stderr",
     "output_type": "stream",
     "text": [
      "100%|██████████| 500/500 [00:29<00:00, 17.06it/s]\n"
     ]
    },
    {
     "name": "stdout",
     "output_type": "stream",
     "text": [
      "\n",
      " 共享内存子进程处理样本 84500 到 84999...\n",
      "Set parameter Username\n",
      "Academic license - for non-commercial use only - expires 2026-05-06\n",
      "\n",
      "Optimizing for optDataset...\n"
     ]
    },
    {
     "name": "stderr",
     "output_type": "stream",
     "text": [
      "100%|██████████| 500/500 [00:29<00:00, 16.79it/s]\n"
     ]
    },
    {
     "name": "stdout",
     "output_type": "stream",
     "text": [
      "\n",
      " 共享内存子进程处理样本 85000 到 85499...\n",
      "Set parameter Username\n",
      "Academic license - for non-commercial use only - expires 2026-05-06\n",
      "\n",
      "Optimizing for optDataset...\n"
     ]
    },
    {
     "name": "stderr",
     "output_type": "stream",
     "text": [
      "100%|██████████| 500/500 [00:29<00:00, 17.14it/s]\n"
     ]
    },
    {
     "name": "stdout",
     "output_type": "stream",
     "text": [
      "\n",
      " 共享内存子进程处理样本 85500 到 85999...\n",
      "Set parameter Username\n",
      "Academic license - for non-commercial use only - expires 2026-05-06\n",
      "\n",
      "Optimizing for optDataset...\n"
     ]
    },
    {
     "name": "stderr",
     "output_type": "stream",
     "text": [
      "100%|██████████| 500/500 [00:29<00:00, 17.15it/s]\n"
     ]
    },
    {
     "name": "stdout",
     "output_type": "stream",
     "text": [
      "\n",
      " 共享内存子进程处理样本 86000 到 86499...\n",
      "Set parameter Username\n",
      "Academic license - for non-commercial use only - expires 2026-05-06\n",
      "\n",
      "Optimizing for optDataset...\n"
     ]
    },
    {
     "name": "stderr",
     "output_type": "stream",
     "text": [
      "100%|██████████| 500/500 [00:29<00:00, 17.15it/s]\n"
     ]
    },
    {
     "name": "stdout",
     "output_type": "stream",
     "text": [
      "\n",
      " 共享内存子进程处理样本 86500 到 86999...\n",
      "Set parameter Username\n",
      "Academic license - for non-commercial use only - expires 2026-05-06\n",
      "\n",
      "Optimizing for optDataset...\n"
     ]
    },
    {
     "name": "stderr",
     "output_type": "stream",
     "text": [
      "100%|██████████| 500/500 [00:29<00:00, 17.15it/s]\n"
     ]
    },
    {
     "name": "stdout",
     "output_type": "stream",
     "text": [
      "\n",
      " 共享内存子进程处理样本 87000 到 87499...\n",
      "Set parameter Username\n",
      "Academic license - for non-commercial use only - expires 2026-05-06\n",
      "\n",
      "Optimizing for optDataset...\n"
     ]
    },
    {
     "name": "stderr",
     "output_type": "stream",
     "text": [
      "100%|██████████| 500/500 [00:29<00:00, 17.04it/s]\n"
     ]
    },
    {
     "name": "stdout",
     "output_type": "stream",
     "text": [
      "\n",
      " 共享内存子进程处理样本 87500 到 87999...\n",
      "Set parameter Username\n",
      "Academic license - for non-commercial use only - expires 2026-05-06\n",
      "\n",
      "Optimizing for optDataset...\n"
     ]
    },
    {
     "name": "stderr",
     "output_type": "stream",
     "text": [
      "100%|██████████| 500/500 [00:29<00:00, 16.81it/s]\n"
     ]
    },
    {
     "name": "stdout",
     "output_type": "stream",
     "text": [
      "\n",
      " 共享内存子进程处理样本 88000 到 88499...\n",
      "Set parameter Username\n",
      "Academic license - for non-commercial use only - expires 2026-05-06\n",
      "\n",
      "Optimizing for optDataset...\n"
     ]
    },
    {
     "name": "stderr",
     "output_type": "stream",
     "text": [
      "100%|██████████| 500/500 [00:29<00:00, 17.13it/s]\n"
     ]
    },
    {
     "name": "stdout",
     "output_type": "stream",
     "text": [
      "\n",
      " 共享内存子进程处理样本 88500 到 88999...\n",
      "Set parameter Username\n",
      "Academic license - for non-commercial use only - expires 2026-05-06\n",
      "\n",
      "Optimizing for optDataset...\n"
     ]
    },
    {
     "name": "stderr",
     "output_type": "stream",
     "text": [
      "100%|██████████| 500/500 [00:29<00:00, 16.96it/s]\n"
     ]
    },
    {
     "name": "stdout",
     "output_type": "stream",
     "text": [
      "\n",
      " 共享内存子进程处理样本 89000 到 89499...\n",
      "Set parameter Username\n",
      "Academic license - for non-commercial use only - expires 2026-05-06\n",
      "\n",
      "Optimizing for optDataset...\n"
     ]
    },
    {
     "name": "stderr",
     "output_type": "stream",
     "text": [
      "100%|██████████| 500/500 [00:29<00:00, 16.95it/s]\n"
     ]
    },
    {
     "name": "stdout",
     "output_type": "stream",
     "text": [
      "\n",
      " 共享内存子进程处理样本 89500 到 89999...\n",
      "Set parameter Username\n",
      "Academic license - for non-commercial use only - expires 2026-05-06\n",
      "\n",
      "Optimizing for optDataset...\n"
     ]
    },
    {
     "name": "stderr",
     "output_type": "stream",
     "text": [
      "100%|██████████| 500/500 [00:29<00:00, 16.80it/s]\n"
     ]
    },
    {
     "name": "stdout",
     "output_type": "stream",
     "text": [
      "\n",
      " 共享内存子进程处理样本 90000 到 90499...\n",
      "Set parameter Username\n",
      "Academic license - for non-commercial use only - expires 2026-05-06\n",
      "\n",
      "Optimizing for optDataset...\n"
     ]
    },
    {
     "name": "stderr",
     "output_type": "stream",
     "text": [
      "100%|██████████| 500/500 [00:29<00:00, 16.91it/s]\n"
     ]
    },
    {
     "name": "stdout",
     "output_type": "stream",
     "text": [
      "\n",
      " 共享内存子进程处理样本 90500 到 90999...\n",
      "Set parameter Username\n",
      "Academic license - for non-commercial use only - expires 2026-05-06\n",
      "\n",
      "Optimizing for optDataset...\n"
     ]
    },
    {
     "name": "stderr",
     "output_type": "stream",
     "text": [
      "100%|██████████| 500/500 [00:29<00:00, 17.03it/s]\n"
     ]
    },
    {
     "name": "stdout",
     "output_type": "stream",
     "text": [
      "\n",
      " 共享内存子进程处理样本 91000 到 91499...\n",
      "Set parameter Username\n",
      "Academic license - for non-commercial use only - expires 2026-05-06\n",
      "\n",
      "Optimizing for optDataset...\n"
     ]
    },
    {
     "name": "stderr",
     "output_type": "stream",
     "text": [
      "100%|██████████| 500/500 [00:29<00:00, 17.15it/s]\n"
     ]
    },
    {
     "name": "stdout",
     "output_type": "stream",
     "text": [
      "\n",
      " 共享内存子进程处理样本 91500 到 91999...\n",
      "Set parameter Username\n",
      "Academic license - for non-commercial use only - expires 2026-05-06\n",
      "\n",
      "Optimizing for optDataset...\n"
     ]
    },
    {
     "name": "stderr",
     "output_type": "stream",
     "text": [
      "100%|██████████| 500/500 [00:29<00:00, 16.84it/s]\n"
     ]
    },
    {
     "name": "stdout",
     "output_type": "stream",
     "text": [
      "\n",
      " 共享内存子进程处理样本 92000 到 92499...\n",
      "Set parameter Username\n",
      "Academic license - for non-commercial use only - expires 2026-05-06\n",
      "\n",
      "Optimizing for optDataset...\n"
     ]
    },
    {
     "name": "stderr",
     "output_type": "stream",
     "text": [
      "100%|██████████| 500/500 [00:30<00:00, 16.61it/s]\n"
     ]
    },
    {
     "name": "stdout",
     "output_type": "stream",
     "text": [
      "\n",
      " 共享内存子进程处理样本 92500 到 92999...\n",
      "Set parameter Username\n",
      "Academic license - for non-commercial use only - expires 2026-05-06\n",
      "\n",
      "Optimizing for optDataset...\n"
     ]
    },
    {
     "name": "stderr",
     "output_type": "stream",
     "text": [
      "100%|██████████| 500/500 [00:29<00:00, 17.11it/s]\n"
     ]
    },
    {
     "name": "stdout",
     "output_type": "stream",
     "text": [
      "\n",
      " 共享内存子进程处理样本 93000 到 93499...\n",
      "Set parameter Username\n",
      "Academic license - for non-commercial use only - expires 2026-05-06\n",
      "\n",
      "Optimizing for optDataset...\n"
     ]
    },
    {
     "name": "stderr",
     "output_type": "stream",
     "text": [
      "100%|██████████| 500/500 [00:29<00:00, 17.02it/s]\n"
     ]
    },
    {
     "name": "stdout",
     "output_type": "stream",
     "text": [
      "\n",
      " 共享内存子进程处理样本 93500 到 93999...\n",
      "Set parameter Username\n",
      "Academic license - for non-commercial use only - expires 2026-05-06\n",
      "\n",
      "Optimizing for optDataset...\n"
     ]
    },
    {
     "name": "stderr",
     "output_type": "stream",
     "text": [
      "100%|██████████| 500/500 [00:29<00:00, 16.99it/s]\n"
     ]
    },
    {
     "name": "stdout",
     "output_type": "stream",
     "text": [
      "\n",
      " 共享内存子进程处理样本 94000 到 94499...\n",
      "Set parameter Username\n",
      "Academic license - for non-commercial use only - expires 2026-05-06\n",
      "\n",
      "Optimizing for optDataset...\n"
     ]
    },
    {
     "name": "stderr",
     "output_type": "stream",
     "text": [
      "100%|██████████| 500/500 [00:29<00:00, 16.98it/s]\n"
     ]
    },
    {
     "name": "stdout",
     "output_type": "stream",
     "text": [
      "\n",
      " 共享内存子进程处理样本 94500 到 94999...\n",
      "Set parameter Username\n",
      "Academic license - for non-commercial use only - expires 2026-05-06\n",
      "\n",
      "Optimizing for optDataset...\n"
     ]
    },
    {
     "name": "stderr",
     "output_type": "stream",
     "text": [
      "100%|██████████| 500/500 [00:29<00:00, 16.94it/s]\n"
     ]
    },
    {
     "name": "stdout",
     "output_type": "stream",
     "text": [
      "\n",
      " 共享内存子进程处理样本 95000 到 95499...\n",
      "Set parameter Username\n",
      "Academic license - for non-commercial use only - expires 2026-05-06\n",
      "\n",
      "Optimizing for optDataset...\n"
     ]
    },
    {
     "name": "stderr",
     "output_type": "stream",
     "text": [
      "100%|██████████| 500/500 [00:29<00:00, 17.19it/s]\n"
     ]
    },
    {
     "name": "stdout",
     "output_type": "stream",
     "text": [
      "\n",
      " 共享内存子进程处理样本 95500 到 95999...\n",
      "Set parameter Username\n",
      "Academic license - for non-commercial use only - expires 2026-05-06\n",
      "\n",
      "Optimizing for optDataset...\n"
     ]
    },
    {
     "name": "stderr",
     "output_type": "stream",
     "text": [
      "100%|██████████| 500/500 [00:29<00:00, 17.14it/s]\n"
     ]
    },
    {
     "name": "stdout",
     "output_type": "stream",
     "text": [
      "\n",
      " 共享内存子进程处理样本 96000 到 96499...\n",
      "Set parameter Username\n",
      "Academic license - for non-commercial use only - expires 2026-05-06\n",
      "\n",
      "Optimizing for optDataset...\n"
     ]
    },
    {
     "name": "stderr",
     "output_type": "stream",
     "text": [
      "100%|██████████| 500/500 [00:29<00:00, 17.16it/s]\n"
     ]
    },
    {
     "name": "stdout",
     "output_type": "stream",
     "text": [
      "\n",
      " 共享内存子进程处理样本 96500 到 96999...\n",
      "Set parameter Username\n",
      "Academic license - for non-commercial use only - expires 2026-05-06\n",
      "\n",
      "Optimizing for optDataset...\n"
     ]
    },
    {
     "name": "stderr",
     "output_type": "stream",
     "text": [
      "100%|██████████| 500/500 [00:29<00:00, 17.09it/s]\n"
     ]
    },
    {
     "name": "stdout",
     "output_type": "stream",
     "text": [
      "\n",
      " 共享内存子进程处理样本 97000 到 97499...\n",
      "Set parameter Username\n",
      "Academic license - for non-commercial use only - expires 2026-05-06\n",
      "\n",
      "Optimizing for optDataset...\n"
     ]
    },
    {
     "name": "stderr",
     "output_type": "stream",
     "text": [
      "100%|██████████| 500/500 [00:29<00:00, 16.94it/s]\n"
     ]
    },
    {
     "name": "stdout",
     "output_type": "stream",
     "text": [
      "\n",
      " 共享内存子进程处理样本 97500 到 97999...\n",
      "Set parameter Username\n",
      "Academic license - for non-commercial use only - expires 2026-05-06\n",
      "\n",
      "Optimizing for optDataset...\n"
     ]
    },
    {
     "name": "stderr",
     "output_type": "stream",
     "text": [
      "100%|██████████| 500/500 [00:29<00:00, 16.75it/s]\n"
     ]
    },
    {
     "name": "stdout",
     "output_type": "stream",
     "text": [
      "\n",
      " 共享内存子进程处理样本 98000 到 98499...\n",
      "Set parameter Username\n",
      "Academic license - for non-commercial use only - expires 2026-05-06\n",
      "\n",
      "Optimizing for optDataset...\n"
     ]
    },
    {
     "name": "stderr",
     "output_type": "stream",
     "text": [
      "100%|██████████| 500/500 [00:29<00:00, 17.01it/s]\n"
     ]
    },
    {
     "name": "stdout",
     "output_type": "stream",
     "text": [
      "\n",
      " 共享内存子进程处理样本 98500 到 98999...\n",
      "Set parameter Username\n",
      "Academic license - for non-commercial use only - expires 2026-05-06\n",
      "\n",
      "Optimizing for optDataset...\n"
     ]
    },
    {
     "name": "stderr",
     "output_type": "stream",
     "text": [
      "100%|██████████| 500/500 [00:29<00:00, 16.95it/s]\n"
     ]
    },
    {
     "name": "stdout",
     "output_type": "stream",
     "text": [
      "\n",
      " 共享内存子进程处理样本 99000 到 99499...\n",
      "Set parameter Username\n",
      "Academic license - for non-commercial use only - expires 2026-05-06\n",
      "\n",
      "Optimizing for optDataset...\n"
     ]
    },
    {
     "name": "stderr",
     "output_type": "stream",
     "text": [
      "100%|██████████| 500/500 [00:29<00:00, 16.79it/s]\n"
     ]
    },
    {
     "name": "stdout",
     "output_type": "stream",
     "text": [
      "\n",
      " 共享内存子进程处理样本 99500 到 99999...\n",
      "Set parameter Username\n",
      "Academic license - for non-commercial use only - expires 2026-05-06\n",
      "\n",
      "Optimizing for optDataset...\n"
     ]
    },
    {
     "name": "stderr",
     "output_type": "stream",
     "text": [
      "100%|██████████| 500/500 [00:29<00:00, 16.83it/s]\n"
     ]
    },
    {
     "name": "stdout",
     "output_type": "stream",
     "text": [
      "\n",
      " 共享内存子进程处理样本 100000 到 100499...\n",
      "Set parameter Username\n",
      "Academic license - for non-commercial use only - expires 2026-05-06\n",
      "\n",
      "Optimizing for optDataset...\n"
     ]
    },
    {
     "name": "stderr",
     "output_type": "stream",
     "text": [
      "100%|██████████| 500/500 [00:29<00:00, 16.94it/s]\n"
     ]
    },
    {
     "name": "stdout",
     "output_type": "stream",
     "text": [
      "\n",
      " 共享内存子进程处理样本 100500 到 100999...\n",
      "Set parameter Username\n",
      "Academic license - for non-commercial use only - expires 2026-05-06\n",
      "\n",
      "Optimizing for optDataset...\n"
     ]
    },
    {
     "name": "stderr",
     "output_type": "stream",
     "text": [
      "100%|██████████| 500/500 [00:29<00:00, 16.98it/s]\n"
     ]
    },
    {
     "name": "stdout",
     "output_type": "stream",
     "text": [
      "\n",
      " 共享内存子进程处理样本 101000 到 101499...\n",
      "Set parameter Username\n",
      "Academic license - for non-commercial use only - expires 2026-05-06\n",
      "\n",
      "Optimizing for optDataset...\n"
     ]
    },
    {
     "name": "stderr",
     "output_type": "stream",
     "text": [
      "100%|██████████| 500/500 [00:29<00:00, 16.86it/s]\n"
     ]
    },
    {
     "name": "stdout",
     "output_type": "stream",
     "text": [
      "\n",
      " 共享内存子进程处理样本 101500 到 101999...\n",
      "Set parameter Username\n",
      "Academic license - for non-commercial use only - expires 2026-05-06\n",
      "\n",
      "Optimizing for optDataset...\n"
     ]
    },
    {
     "name": "stderr",
     "output_type": "stream",
     "text": [
      "100%|██████████| 500/500 [00:29<00:00, 16.90it/s]\n"
     ]
    },
    {
     "name": "stdout",
     "output_type": "stream",
     "text": [
      "\n",
      " 共享内存子进程处理样本 102000 到 102499...\n",
      "Set parameter Username\n",
      "Academic license - for non-commercial use only - expires 2026-05-06\n",
      "\n",
      "Optimizing for optDataset...\n"
     ]
    },
    {
     "name": "stderr",
     "output_type": "stream",
     "text": [
      "100%|██████████| 500/500 [00:29<00:00, 16.95it/s]\n"
     ]
    },
    {
     "name": "stdout",
     "output_type": "stream",
     "text": [
      "\n",
      " 共享内存子进程处理样本 102500 到 102999...\n",
      "Set parameter Username\n",
      "Academic license - for non-commercial use only - expires 2026-05-06\n",
      "\n",
      "Optimizing for optDataset...\n"
     ]
    },
    {
     "name": "stderr",
     "output_type": "stream",
     "text": [
      "100%|██████████| 500/500 [00:29<00:00, 17.06it/s]\n"
     ]
    },
    {
     "name": "stdout",
     "output_type": "stream",
     "text": [
      "\n",
      " 共享内存子进程处理样本 103000 到 103499...\n",
      "Set parameter Username\n",
      "Academic license - for non-commercial use only - expires 2026-05-06\n",
      "\n",
      "Optimizing for optDataset...\n"
     ]
    },
    {
     "name": "stderr",
     "output_type": "stream",
     "text": [
      "100%|██████████| 500/500 [00:29<00:00, 17.16it/s]\n"
     ]
    },
    {
     "name": "stdout",
     "output_type": "stream",
     "text": [
      "\n",
      " 共享内存子进程处理样本 103500 到 103999...\n",
      "Set parameter Username\n",
      "Academic license - for non-commercial use only - expires 2026-05-06\n",
      "\n",
      "Optimizing for optDataset...\n"
     ]
    },
    {
     "name": "stderr",
     "output_type": "stream",
     "text": [
      "100%|██████████| 500/500 [00:30<00:00, 16.37it/s]\n"
     ]
    },
    {
     "name": "stdout",
     "output_type": "stream",
     "text": [
      "\n",
      " 共享内存子进程处理样本 104000 到 104499...\n",
      "Set parameter Username\n",
      "Academic license - for non-commercial use only - expires 2026-05-06\n",
      "\n",
      "Optimizing for optDataset...\n"
     ]
    },
    {
     "name": "stderr",
     "output_type": "stream",
     "text": [
      "100%|██████████| 500/500 [00:30<00:00, 16.66it/s]\n"
     ]
    },
    {
     "name": "stdout",
     "output_type": "stream",
     "text": [
      "\n",
      " 共享内存子进程处理样本 104500 到 104999...\n",
      "Set parameter Username\n",
      "Academic license - for non-commercial use only - expires 2026-05-06\n",
      "\n",
      "Optimizing for optDataset...\n"
     ]
    },
    {
     "name": "stderr",
     "output_type": "stream",
     "text": [
      "100%|██████████| 500/500 [00:29<00:00, 17.00it/s]\n"
     ]
    },
    {
     "name": "stdout",
     "output_type": "stream",
     "text": [
      "\n",
      " 共享内存子进程处理样本 105000 到 105499...\n",
      "Set parameter Username\n",
      "Academic license - for non-commercial use only - expires 2026-05-06\n",
      "\n",
      "Optimizing for optDataset...\n"
     ]
    },
    {
     "name": "stderr",
     "output_type": "stream",
     "text": [
      "100%|██████████| 500/500 [00:29<00:00, 16.95it/s]\n"
     ]
    },
    {
     "name": "stdout",
     "output_type": "stream",
     "text": [
      "\n",
      " 共享内存子进程处理样本 105500 到 105999...\n",
      "Set parameter Username\n",
      "Academic license - for non-commercial use only - expires 2026-05-06\n",
      "\n",
      "Optimizing for optDataset...\n"
     ]
    },
    {
     "name": "stderr",
     "output_type": "stream",
     "text": [
      "100%|██████████| 500/500 [00:29<00:00, 17.04it/s]\n"
     ]
    },
    {
     "name": "stdout",
     "output_type": "stream",
     "text": [
      "\n",
      " 共享内存子进程处理样本 106000 到 106499...\n",
      "Set parameter Username\n",
      "Academic license - for non-commercial use only - expires 2026-05-06\n",
      "\n",
      "Optimizing for optDataset...\n"
     ]
    },
    {
     "name": "stderr",
     "output_type": "stream",
     "text": [
      "100%|██████████| 500/500 [00:29<00:00, 17.11it/s]\n"
     ]
    },
    {
     "name": "stdout",
     "output_type": "stream",
     "text": [
      "\n",
      " 共享内存子进程处理样本 106500 到 106999...\n",
      "Set parameter Username\n",
      "Academic license - for non-commercial use only - expires 2026-05-06\n",
      "\n",
      "Optimizing for optDataset...\n"
     ]
    },
    {
     "name": "stderr",
     "output_type": "stream",
     "text": [
      "100%|██████████| 500/500 [00:29<00:00, 17.14it/s]\n"
     ]
    },
    {
     "name": "stdout",
     "output_type": "stream",
     "text": [
      "\n",
      " 共享内存子进程处理样本 107000 到 107499...\n",
      "Set parameter Username\n",
      "Academic license - for non-commercial use only - expires 2026-05-06\n",
      "\n",
      "Optimizing for optDataset...\n"
     ]
    },
    {
     "name": "stderr",
     "output_type": "stream",
     "text": [
      "100%|██████████| 500/500 [00:29<00:00, 17.03it/s]\n"
     ]
    },
    {
     "name": "stdout",
     "output_type": "stream",
     "text": [
      "\n",
      " 共享内存子进程处理样本 107500 到 107999...\n",
      "Set parameter Username\n",
      "Academic license - for non-commercial use only - expires 2026-05-06\n",
      "\n",
      "Optimizing for optDataset...\n"
     ]
    },
    {
     "name": "stderr",
     "output_type": "stream",
     "text": [
      "100%|██████████| 500/500 [00:29<00:00, 17.10it/s]\n"
     ]
    },
    {
     "name": "stdout",
     "output_type": "stream",
     "text": [
      "\n",
      " 共享内存子进程处理样本 108000 到 108499...\n",
      "Set parameter Username\n",
      "Academic license - for non-commercial use only - expires 2026-05-06\n",
      "\n",
      "Optimizing for optDataset...\n"
     ]
    },
    {
     "name": "stderr",
     "output_type": "stream",
     "text": [
      "100%|██████████| 500/500 [00:29<00:00, 16.94it/s]\n"
     ]
    },
    {
     "name": "stdout",
     "output_type": "stream",
     "text": [
      "\n",
      " 共享内存子进程处理样本 108500 到 108999...\n",
      "Set parameter Username\n",
      "Academic license - for non-commercial use only - expires 2026-05-06\n",
      "\n",
      "Optimizing for optDataset...\n"
     ]
    },
    {
     "name": "stderr",
     "output_type": "stream",
     "text": [
      "100%|██████████| 500/500 [00:29<00:00, 16.87it/s]\n"
     ]
    },
    {
     "name": "stdout",
     "output_type": "stream",
     "text": [
      "\n",
      " 共享内存子进程处理样本 109000 到 109499...\n",
      "Set parameter Username\n",
      "Academic license - for non-commercial use only - expires 2026-05-06\n",
      "\n",
      "Optimizing for optDataset...\n"
     ]
    },
    {
     "name": "stderr",
     "output_type": "stream",
     "text": [
      "100%|██████████| 500/500 [00:29<00:00, 16.95it/s]\n"
     ]
    },
    {
     "name": "stdout",
     "output_type": "stream",
     "text": [
      "\n",
      " 共享内存子进程处理样本 109500 到 109999...\n",
      "Set parameter Username\n",
      "Academic license - for non-commercial use only - expires 2026-05-06\n",
      "\n",
      "Optimizing for optDataset...\n"
     ]
    },
    {
     "name": "stderr",
     "output_type": "stream",
     "text": [
      "100%|██████████| 500/500 [00:29<00:00, 16.91it/s]\n"
     ]
    },
    {
     "name": "stdout",
     "output_type": "stream",
     "text": [
      "\n",
      " 共享内存子进程处理样本 110000 到 110499...\n",
      "Set parameter Username\n",
      "Academic license - for non-commercial use only - expires 2026-05-06\n",
      "\n",
      "Optimizing for optDataset...\n"
     ]
    },
    {
     "name": "stderr",
     "output_type": "stream",
     "text": [
      "100%|██████████| 500/500 [00:29<00:00, 16.90it/s]\n"
     ]
    },
    {
     "name": "stdout",
     "output_type": "stream",
     "text": [
      "\n",
      " 共享内存子进程处理样本 110500 到 110999...\n",
      "Set parameter Username\n",
      "Academic license - for non-commercial use only - expires 2026-05-06\n",
      "\n",
      "Optimizing for optDataset...\n"
     ]
    },
    {
     "name": "stderr",
     "output_type": "stream",
     "text": [
      "100%|██████████| 500/500 [00:29<00:00, 16.94it/s]\n"
     ]
    },
    {
     "name": "stdout",
     "output_type": "stream",
     "text": [
      "\n",
      " 共享内存子进程处理样本 111000 到 111499...\n",
      "Set parameter Username\n",
      "Academic license - for non-commercial use only - expires 2026-05-06\n",
      "\n",
      "Optimizing for optDataset...\n"
     ]
    },
    {
     "name": "stderr",
     "output_type": "stream",
     "text": [
      "100%|██████████| 500/500 [00:29<00:00, 17.01it/s]\n"
     ]
    },
    {
     "name": "stdout",
     "output_type": "stream",
     "text": [
      "\n",
      " 共享内存子进程处理样本 111500 到 111999...\n",
      "Set parameter Username\n",
      "Academic license - for non-commercial use only - expires 2026-05-06\n",
      "\n",
      "Optimizing for optDataset...\n"
     ]
    },
    {
     "name": "stderr",
     "output_type": "stream",
     "text": [
      "100%|██████████| 500/500 [00:29<00:00, 17.07it/s]\n"
     ]
    },
    {
     "name": "stdout",
     "output_type": "stream",
     "text": [
      "\n",
      " 共享内存子进程处理样本 112000 到 112499...\n",
      "Set parameter Username\n",
      "Academic license - for non-commercial use only - expires 2026-05-06\n",
      "\n",
      "Optimizing for optDataset...\n"
     ]
    },
    {
     "name": "stderr",
     "output_type": "stream",
     "text": [
      "100%|██████████| 500/500 [00:29<00:00, 17.06it/s]\n"
     ]
    },
    {
     "name": "stdout",
     "output_type": "stream",
     "text": [
      "\n",
      " 共享内存子进程处理样本 112500 到 112999...\n",
      "Set parameter Username\n",
      "Academic license - for non-commercial use only - expires 2026-05-06\n",
      "\n",
      "Optimizing for optDataset...\n"
     ]
    },
    {
     "name": "stderr",
     "output_type": "stream",
     "text": [
      "100%|██████████| 500/500 [00:29<00:00, 17.01it/s]\n"
     ]
    },
    {
     "name": "stdout",
     "output_type": "stream",
     "text": [
      "\n",
      " 共享内存子进程处理样本 113000 到 113499...\n",
      "Set parameter Username\n",
      "Academic license - for non-commercial use only - expires 2026-05-06\n",
      "\n",
      "Optimizing for optDataset...\n"
     ]
    },
    {
     "name": "stderr",
     "output_type": "stream",
     "text": [
      "100%|██████████| 500/500 [00:29<00:00, 17.03it/s]\n"
     ]
    },
    {
     "name": "stdout",
     "output_type": "stream",
     "text": [
      "\n",
      " 共享内存子进程处理样本 113500 到 113999...\n",
      "Set parameter Username\n",
      "Academic license - for non-commercial use only - expires 2026-05-06\n",
      "\n",
      "Optimizing for optDataset...\n"
     ]
    },
    {
     "name": "stderr",
     "output_type": "stream",
     "text": [
      "100%|██████████| 500/500 [00:29<00:00, 16.97it/s]\n"
     ]
    },
    {
     "name": "stdout",
     "output_type": "stream",
     "text": [
      "\n",
      " 共享内存子进程处理样本 114000 到 114499...\n",
      "Set parameter Username\n",
      "Academic license - for non-commercial use only - expires 2026-05-06\n",
      "\n",
      "Optimizing for optDataset...\n"
     ]
    },
    {
     "name": "stderr",
     "output_type": "stream",
     "text": [
      "100%|██████████| 500/500 [00:29<00:00, 16.80it/s]\n"
     ]
    },
    {
     "name": "stdout",
     "output_type": "stream",
     "text": [
      "\n",
      " 共享内存子进程处理样本 114500 到 114999...\n",
      "Set parameter Username\n",
      "Academic license - for non-commercial use only - expires 2026-05-06\n",
      "\n",
      "Optimizing for optDataset...\n"
     ]
    },
    {
     "name": "stderr",
     "output_type": "stream",
     "text": [
      "100%|██████████| 500/500 [00:30<00:00, 16.65it/s]\n"
     ]
    },
    {
     "name": "stdout",
     "output_type": "stream",
     "text": [
      "\n",
      " 共享内存子进程处理样本 115000 到 115499...\n",
      "Set parameter Username\n",
      "Academic license - for non-commercial use only - expires 2026-05-06\n",
      "\n",
      "Optimizing for optDataset...\n"
     ]
    },
    {
     "name": "stderr",
     "output_type": "stream",
     "text": [
      "100%|██████████| 500/500 [00:29<00:00, 16.78it/s]\n"
     ]
    },
    {
     "name": "stdout",
     "output_type": "stream",
     "text": [
      "\n",
      " 共享内存子进程处理样本 115500 到 115999...\n",
      "Set parameter Username\n",
      "Academic license - for non-commercial use only - expires 2026-05-06\n",
      "\n",
      "Optimizing for optDataset...\n"
     ]
    },
    {
     "name": "stderr",
     "output_type": "stream",
     "text": [
      "100%|██████████| 500/500 [00:29<00:00, 16.73it/s]\n"
     ]
    },
    {
     "name": "stdout",
     "output_type": "stream",
     "text": [
      "\n",
      " 共享内存子进程处理样本 116000 到 116499...\n",
      "Set parameter Username\n",
      "Academic license - for non-commercial use only - expires 2026-05-06\n",
      "\n",
      "Optimizing for optDataset...\n"
     ]
    },
    {
     "name": "stderr",
     "output_type": "stream",
     "text": [
      "100%|██████████| 500/500 [00:29<00:00, 16.81it/s]\n"
     ]
    },
    {
     "name": "stdout",
     "output_type": "stream",
     "text": [
      "\n",
      " 共享内存子进程处理样本 116500 到 116999...\n",
      "Set parameter Username\n",
      "Academic license - for non-commercial use only - expires 2026-05-06\n",
      "\n",
      "Optimizing for optDataset...\n"
     ]
    },
    {
     "name": "stderr",
     "output_type": "stream",
     "text": [
      "100%|██████████| 500/500 [00:29<00:00, 17.05it/s]\n"
     ]
    },
    {
     "name": "stdout",
     "output_type": "stream",
     "text": [
      "\n",
      " 共享内存子进程处理样本 117000 到 117499...\n",
      "Set parameter Username\n",
      "Academic license - for non-commercial use only - expires 2026-05-06\n",
      "\n",
      "Optimizing for optDataset...\n"
     ]
    },
    {
     "name": "stderr",
     "output_type": "stream",
     "text": [
      "100%|██████████| 500/500 [00:29<00:00, 16.97it/s]\n"
     ]
    },
    {
     "name": "stdout",
     "output_type": "stream",
     "text": [
      "\n",
      " 共享内存子进程处理样本 117500 到 117999...\n",
      "Set parameter Username\n",
      "Academic license - for non-commercial use only - expires 2026-05-06\n",
      "\n",
      "Optimizing for optDataset...\n"
     ]
    },
    {
     "name": "stderr",
     "output_type": "stream",
     "text": [
      "100%|██████████| 500/500 [00:29<00:00, 17.05it/s]\n"
     ]
    },
    {
     "name": "stdout",
     "output_type": "stream",
     "text": [
      "\n",
      " 共享内存子进程处理样本 118000 到 118499...\n",
      "Set parameter Username\n",
      "Academic license - for non-commercial use only - expires 2026-05-06\n",
      "\n",
      "Optimizing for optDataset...\n"
     ]
    },
    {
     "name": "stderr",
     "output_type": "stream",
     "text": [
      "100%|██████████| 500/500 [00:29<00:00, 17.07it/s]\n"
     ]
    },
    {
     "name": "stdout",
     "output_type": "stream",
     "text": [
      "\n",
      " 共享内存子进程处理样本 118500 到 118999...\n",
      "Set parameter Username\n",
      "Academic license - for non-commercial use only - expires 2026-05-06\n",
      "\n",
      "Optimizing for optDataset...\n"
     ]
    },
    {
     "name": "stderr",
     "output_type": "stream",
     "text": [
      "100%|██████████| 500/500 [00:29<00:00, 16.99it/s]\n"
     ]
    },
    {
     "name": "stdout",
     "output_type": "stream",
     "text": [
      "\n",
      " 共享内存子进程处理样本 119000 到 119499...\n",
      "Set parameter Username\n",
      "Academic license - for non-commercial use only - expires 2026-05-06\n",
      "\n",
      "Optimizing for optDataset...\n"
     ]
    },
    {
     "name": "stderr",
     "output_type": "stream",
     "text": [
      "100%|██████████| 500/500 [00:29<00:00, 16.84it/s]\n"
     ]
    },
    {
     "name": "stdout",
     "output_type": "stream",
     "text": [
      "\n",
      " 共享内存子进程处理样本 119500 到 119999...\n",
      "Set parameter Username\n",
      "Academic license - for non-commercial use only - expires 2026-05-06\n",
      "\n",
      "Optimizing for optDataset...\n"
     ]
    },
    {
     "name": "stderr",
     "output_type": "stream",
     "text": [
      "100%|██████████| 500/500 [00:30<00:00, 16.24it/s]\n"
     ]
    },
    {
     "name": "stdout",
     "output_type": "stream",
     "text": [
      "\n",
      " 共享内存子进程处理样本 120000 到 120499...\n",
      "Set parameter Username\n",
      "Academic license - for non-commercial use only - expires 2026-05-06\n",
      "\n",
      "Optimizing for optDataset...\n"
     ]
    },
    {
     "name": "stderr",
     "output_type": "stream",
     "text": [
      "100%|██████████| 500/500 [00:31<00:00, 16.11it/s]\n"
     ]
    },
    {
     "name": "stdout",
     "output_type": "stream",
     "text": [
      "\n",
      " 共享内存子进程处理样本 120500 到 120999...\n",
      "Set parameter Username\n",
      "Academic license - for non-commercial use only - expires 2026-05-06\n",
      "\n",
      "Optimizing for optDataset...\n"
     ]
    },
    {
     "name": "stderr",
     "output_type": "stream",
     "text": [
      "100%|██████████| 500/500 [00:30<00:00, 16.48it/s]\n"
     ]
    },
    {
     "name": "stdout",
     "output_type": "stream",
     "text": [
      "\n",
      " 共享内存子进程处理样本 121000 到 121499...\n",
      "Set parameter Username\n",
      "Academic license - for non-commercial use only - expires 2026-05-06\n",
      "\n",
      "Optimizing for optDataset...\n"
     ]
    },
    {
     "name": "stderr",
     "output_type": "stream",
     "text": [
      "100%|██████████| 500/500 [00:32<00:00, 15.17it/s]\n"
     ]
    },
    {
     "name": "stdout",
     "output_type": "stream",
     "text": [
      "\n",
      " 共享内存子进程处理样本 121500 到 121999...\n",
      "Set parameter Username\n",
      "Academic license - for non-commercial use only - expires 2026-05-06\n",
      "\n",
      "Optimizing for optDataset...\n"
     ]
    },
    {
     "name": "stderr",
     "output_type": "stream",
     "text": [
      "100%|██████████| 500/500 [00:33<00:00, 14.97it/s]\n"
     ]
    },
    {
     "name": "stdout",
     "output_type": "stream",
     "text": [
      "\n",
      " 共享内存子进程处理样本 122000 到 122499...\n",
      "Set parameter Username\n",
      "Academic license - for non-commercial use only - expires 2026-05-06\n",
      "\n",
      "Optimizing for optDataset...\n"
     ]
    },
    {
     "name": "stderr",
     "output_type": "stream",
     "text": [
      "100%|██████████| 500/500 [00:30<00:00, 16.23it/s]\n"
     ]
    },
    {
     "name": "stdout",
     "output_type": "stream",
     "text": [
      "\n",
      " 共享内存子进程处理样本 122500 到 122999...\n",
      "Set parameter Username\n",
      "Academic license - for non-commercial use only - expires 2026-05-06\n",
      "\n",
      "Optimizing for optDataset...\n"
     ]
    },
    {
     "name": "stderr",
     "output_type": "stream",
     "text": [
      "100%|██████████| 500/500 [00:29<00:00, 17.03it/s]\n"
     ]
    },
    {
     "name": "stdout",
     "output_type": "stream",
     "text": [
      "\n",
      " 共享内存子进程处理样本 123000 到 123499...\n",
      "Set parameter Username\n",
      "Academic license - for non-commercial use only - expires 2026-05-06\n",
      "\n",
      "Optimizing for optDataset...\n"
     ]
    },
    {
     "name": "stderr",
     "output_type": "stream",
     "text": [
      "100%|██████████| 500/500 [00:29<00:00, 17.00it/s]\n"
     ]
    },
    {
     "name": "stdout",
     "output_type": "stream",
     "text": [
      "\n",
      " 共享内存子进程处理样本 123500 到 123999...\n",
      "Set parameter Username\n",
      "Academic license - for non-commercial use only - expires 2026-05-06\n",
      "\n",
      "Optimizing for optDataset...\n"
     ]
    },
    {
     "name": "stderr",
     "output_type": "stream",
     "text": [
      "100%|██████████| 500/500 [00:29<00:00, 17.07it/s]\n"
     ]
    },
    {
     "name": "stdout",
     "output_type": "stream",
     "text": [
      "\n",
      " 共享内存子进程处理样本 124000 到 124499...\n",
      "Set parameter Username\n",
      "Academic license - for non-commercial use only - expires 2026-05-06\n",
      "\n",
      "Optimizing for optDataset...\n"
     ]
    },
    {
     "name": "stderr",
     "output_type": "stream",
     "text": [
      "100%|██████████| 500/500 [00:29<00:00, 16.91it/s]\n"
     ]
    },
    {
     "name": "stdout",
     "output_type": "stream",
     "text": [
      "\n",
      " 共享内存子进程处理样本 124500 到 124999...\n",
      "Set parameter Username\n",
      "Academic license - for non-commercial use only - expires 2026-05-06\n",
      "\n",
      "Optimizing for optDataset...\n"
     ]
    },
    {
     "name": "stderr",
     "output_type": "stream",
     "text": [
      "100%|██████████| 500/500 [00:29<00:00, 16.94it/s]\n"
     ]
    },
    {
     "name": "stdout",
     "output_type": "stream",
     "text": [
      "\n",
      " 共享内存子进程处理样本 125000 到 125499...\n",
      "Set parameter Username\n",
      "Academic license - for non-commercial use only - expires 2026-05-06\n",
      "\n",
      "Optimizing for optDataset...\n"
     ]
    },
    {
     "name": "stderr",
     "output_type": "stream",
     "text": [
      "100%|██████████| 500/500 [00:29<00:00, 17.14it/s]\n"
     ]
    },
    {
     "name": "stdout",
     "output_type": "stream",
     "text": [
      "\n",
      " 共享内存子进程处理样本 125500 到 125999...\n",
      "Set parameter Username\n",
      "Academic license - for non-commercial use only - expires 2026-05-06\n",
      "\n",
      "Optimizing for optDataset...\n"
     ]
    },
    {
     "name": "stderr",
     "output_type": "stream",
     "text": [
      "100%|██████████| 500/500 [00:29<00:00, 17.02it/s]\n"
     ]
    },
    {
     "name": "stdout",
     "output_type": "stream",
     "text": [
      "\n",
      " 共享内存子进程处理样本 126000 到 126499...\n",
      "Set parameter Username\n",
      "Academic license - for non-commercial use only - expires 2026-05-06\n",
      "\n",
      "Optimizing for optDataset...\n"
     ]
    },
    {
     "name": "stderr",
     "output_type": "stream",
     "text": [
      "100%|██████████| 500/500 [00:29<00:00, 17.02it/s]\n"
     ]
    },
    {
     "name": "stdout",
     "output_type": "stream",
     "text": [
      "\n",
      " 共享内存子进程处理样本 126500 到 126999...\n",
      "Set parameter Username\n",
      "Academic license - for non-commercial use only - expires 2026-05-06\n",
      "\n",
      "Optimizing for optDataset...\n"
     ]
    },
    {
     "name": "stderr",
     "output_type": "stream",
     "text": [
      "100%|██████████| 500/500 [00:29<00:00, 17.07it/s]\n"
     ]
    },
    {
     "name": "stdout",
     "output_type": "stream",
     "text": [
      "\n",
      " 共享内存子进程处理样本 127000 到 127499...\n",
      "Set parameter Username\n",
      "Academic license - for non-commercial use only - expires 2026-05-06\n",
      "\n",
      "Optimizing for optDataset...\n"
     ]
    },
    {
     "name": "stderr",
     "output_type": "stream",
     "text": [
      "100%|██████████| 500/500 [00:29<00:00, 17.17it/s]\n"
     ]
    },
    {
     "name": "stdout",
     "output_type": "stream",
     "text": [
      "\n",
      " 共享内存子进程处理样本 127500 到 127999...\n",
      "Set parameter Username\n",
      "Academic license - for non-commercial use only - expires 2026-05-06\n",
      "\n",
      "Optimizing for optDataset...\n"
     ]
    },
    {
     "name": "stderr",
     "output_type": "stream",
     "text": [
      "100%|██████████| 500/500 [00:29<00:00, 17.08it/s]\n"
     ]
    },
    {
     "name": "stdout",
     "output_type": "stream",
     "text": [
      "\n",
      " 共享内存子进程处理样本 128000 到 128499...\n",
      "Set parameter Username\n",
      "Academic license - for non-commercial use only - expires 2026-05-06\n",
      "\n",
      "Optimizing for optDataset...\n"
     ]
    },
    {
     "name": "stderr",
     "output_type": "stream",
     "text": [
      "100%|██████████| 500/500 [00:29<00:00, 17.09it/s]\n"
     ]
    },
    {
     "name": "stdout",
     "output_type": "stream",
     "text": [
      "\n",
      " 共享内存子进程处理样本 128500 到 128999...\n",
      "Set parameter Username\n",
      "Academic license - for non-commercial use only - expires 2026-05-06\n",
      "\n",
      "Optimizing for optDataset...\n"
     ]
    },
    {
     "name": "stderr",
     "output_type": "stream",
     "text": [
      "100%|██████████| 500/500 [00:29<00:00, 16.96it/s]\n"
     ]
    },
    {
     "name": "stdout",
     "output_type": "stream",
     "text": [
      "\n",
      " 共享内存子进程处理样本 129000 到 129499...\n",
      "Set parameter Username\n",
      "Academic license - for non-commercial use only - expires 2026-05-06\n",
      "\n",
      "Optimizing for optDataset...\n"
     ]
    },
    {
     "name": "stderr",
     "output_type": "stream",
     "text": [
      "100%|██████████| 500/500 [00:29<00:00, 16.92it/s]\n"
     ]
    },
    {
     "name": "stdout",
     "output_type": "stream",
     "text": [
      "\n",
      " 共享内存子进程处理样本 129500 到 129999...\n",
      "Set parameter Username\n",
      "Academic license - for non-commercial use only - expires 2026-05-06\n",
      "\n",
      "Optimizing for optDataset...\n"
     ]
    },
    {
     "name": "stderr",
     "output_type": "stream",
     "text": [
      "100%|██████████| 500/500 [00:29<00:00, 17.08it/s]\n"
     ]
    },
    {
     "name": "stdout",
     "output_type": "stream",
     "text": [
      "\n",
      " 共享内存子进程处理样本 130000 到 130499...\n",
      "Set parameter Username\n",
      "Academic license - for non-commercial use only - expires 2026-05-06\n",
      "\n",
      "Optimizing for optDataset...\n"
     ]
    },
    {
     "name": "stderr",
     "output_type": "stream",
     "text": [
      "100%|██████████| 500/500 [00:29<00:00, 16.87it/s]\n"
     ]
    },
    {
     "name": "stdout",
     "output_type": "stream",
     "text": [
      "\n",
      " 共享内存子进程处理样本 130500 到 130999...\n",
      "Set parameter Username\n",
      "Academic license - for non-commercial use only - expires 2026-05-06\n",
      "\n",
      "Optimizing for optDataset...\n"
     ]
    },
    {
     "name": "stderr",
     "output_type": "stream",
     "text": [
      "100%|██████████| 500/500 [00:29<00:00, 16.98it/s]\n"
     ]
    },
    {
     "name": "stdout",
     "output_type": "stream",
     "text": [
      "\n",
      " 共享内存子进程处理样本 131000 到 131009...\n",
      "Set parameter Username\n",
      "Academic license - for non-commercial use only - expires 2026-05-06\n",
      "\n",
      "Optimizing for optDataset...\n"
     ]
    },
    {
     "name": "stderr",
     "output_type": "stream",
     "text": [
      "100%|██████████| 10/10 [00:00<00:00, 17.72it/s]\n"
     ]
    },
    {
     "name": "stdout",
     "output_type": "stream",
     "text": [
      "\n",
      " 合并所有批次...\n"
     ]
    }
   ],
   "source": [
    "dataset_dict = process_and_combine_shared(\n",
    "    features=features,\n",
    "    costs=costs,\n",
    "    batch_size=500,  # 调整批量大小\n",
    "    lookback=5,\n",
    "    padding_method='zero',\n",
    "\n",
    ")\n"
   ]
  },
  {
   "cell_type": "code",
   "execution_count": null,
   "id": "16d64d31",
   "metadata": {},
   "outputs": [
    {
     "name": "stdout",
     "output_type": "stream",
     "text": [
      "Set parameter Username\n",
      "Academic license - for non-commercial use only - expires 2026-05-06\n"
     ]
    }
   ],
   "source": [
    "import numpy as np\n",
    "import torch\n",
    "from tqdm import tqdm\n",
    "import gc  # 垃圾回收\n",
    "\n",
    "\n",
    "\n",
    "# 保存处理结果\n",
    "def save_dataset_dict(dataset_dict, filename):\n",
    "    \"\"\"保存数据集字典到文件\"\"\"\n",
    "    np.savez(\n",
    "        filename,\n",
    "        feats=dataset_dict['feats'],\n",
    "        costs=dataset_dict['costs'],\n",
    "        sols=dataset_dict['sols'],\n",
    "        objs=dataset_dict['objs'],\n",
    "        lookback=dataset_dict['lookback'],\n",
    "        padding_method=dataset_dict['padding_method']\n",
    "    )\n",
    "\n",
    "\n",
    "\n",
    "# Create an instance of the market neutral model for testing\n",
    "market_neutral_model = MarketNeutralGrbModel(\n",
    "    N, A, b, l, u, minimize=False,\n",
    "    risk_f=risk_f, risk_abs=risk_abs,\n",
    "    single_abs=single_abs, l1_abs=l1_abs,\n",
    "    cov_matrix=cov_matrix, sigma_abs=sigma_abs\n",
    ")\n",
    "\n",
    "# 保存处理后的数据\n",
    "save_dataset_dict(dataset_dict, 'large_market_neutral_dataset.npz')\n",
    "\n"
   ]
  },
  {
   "cell_type": "code",
   "execution_count": null,
   "id": "33e191f0",
   "metadata": {},
   "outputs": [],
   "source": []
  },
  {
   "cell_type": "code",
   "execution_count": 1,
   "id": "fa82696a",
   "metadata": {},
   "outputs": [],
   "source": [
    "import time\n",
    "import numpy as np\n",
    "import pandas as pd\n",
    "\n",
    "# PyEPO imports\n",
    "from pyepo.data.dataset import optDataset\n",
    "\n",
    "# Gurobi\n",
    "import gurobipy as gp\n",
    "from gurobipy import GRB\n",
    "from pyepo.model.grb import optGrbModel\n",
    "\n",
    "# Pyomo\n",
    "from pyomo import environ as pe\n",
    "from pyepo.model.omo import optOmoModel # 记得要把 omo 文件夹里的 __init__.py 文件也修改了\n",
    "from pyepo import EPO\n",
    "\n",
    "# COPTPy\n",
    "from coptpy import Envr, COPT\n",
    "from pyepo.model.copt import optCoptModel\n",
    "\n",
    "# MPAX\n",
    "from pyepo.model.mpax import optMpaxModel"
   ]
  },
  {
   "cell_type": "code",
   "execution_count": 2,
   "id": "b3a1759e",
   "metadata": {},
   "outputs": [
    {
     "name": "stdout",
     "output_type": "stream",
     "text": [
      "Loaded data from ./data with name 'crypto_data'\n",
      "Features shape: (131010, 335, 6)\n",
      "Feature names: ['open', 'high', 'low', 'close', 'volume', 'count']\n"
     ]
    }
   ],
   "source": [
    "import numpy as np\n",
    "import pandas as pd\n",
    "import pickle\n",
    "from pathlib import Path\n",
    "from tqdm import tqdm\n",
    "from pkg.pyepo.data.dataset import optDataset\n",
    "from pkg.pyepo.model.grb import optGrbModel\n",
    "\n",
    "def load_data(name='default', load_dir='./data'):\n",
    "    \"\"\"\n",
    "    Load processed data from disk using a simple name instead of timestamp\n",
    "    \"\"\"\n",
    "    # Load numpy arrays\n",
    "    features = np.load(f\"{load_dir}/features_{name}.npy\")\n",
    "    costs = np.load(f\"{load_dir}/costs_{name}.npy\")\n",
    "    \n",
    "    # Load metadata\n",
    "    with open(f\"{load_dir}/times_{name}.pkl\", 'rb') as f:\n",
    "        unique_times = pickle.load(f)\n",
    "    \n",
    "    with open(f\"{load_dir}/symbols_{name}.pkl\", 'rb') as f:\n",
    "        unique_symbols = pickle.load(f)\n",
    "    \n",
    "    # Load feature information\n",
    "    with open(f\"{load_dir}/feature_info_{name}.pkl\", 'rb') as f:\n",
    "        feature_info = pickle.load(f)\n",
    "    \n",
    "    print(f\"Loaded data from {load_dir} with name '{name}'\")\n",
    "    print(f\"Features shape: {features.shape}\")\n",
    "    print(f\"Feature names: {feature_info['feature_names']}\")\n",
    "    \n",
    "    return features, costs, unique_times, unique_symbols, feature_info\n",
    "    \n",
    "# load the data using the same name\n",
    "features, costs, unique_times, unique_symbols, feature_info = load_data(name='crypto_data')    "
   ]
  },
  {
   "cell_type": "code",
   "execution_count": 3,
   "id": "dbf5bf0e",
   "metadata": {},
   "outputs": [
    {
     "name": "stdout",
     "output_type": "stream",
     "text": [
      "Set parameter Username\n",
      "Academic license - for non-commercial use only - expires 2026-05-06\n"
     ]
    }
   ],
   "source": [
    "#############################################################################\n",
    "# OPTIMIZATION PROBLEM PARAMETERS\n",
    "#############################################################################\n",
    "# Market neutral optimization model parameters from opt_time_compare.py\n",
    "\n",
    "\n",
    "# 导入 grbmodel 模块\n",
    "from pyepo.model.grb import grbmodel\n",
    "\n",
    "# 强制设置 HAS_GUROBI 为 True\n",
    "grbmodel.HAS_GUROBI = True\n",
    "\n",
    "\n",
    "N = features.shape[1]  # Number of assets, updated from data\n",
    "A = np.ones((1, N))\n",
    "b = np.array([1.0])\n",
    "l = np.zeros(N)\n",
    "u = np.zeros(N) + 1e6\n",
    "\n",
    "# Generate random positive definite covariance matrix\n",
    "M = np.random.randn(N, N)\n",
    "cov_matrix = M.T @ M + np.eye(N) * 1e-3\n",
    "\n",
    "# Risk and constraint parameters\n",
    "risk_f     = np.random.randn(N)\n",
    "risk_abs   = 1.5\n",
    "single_abs = 0.1\n",
    "l1_abs     = 1.0\n",
    "sigma_abs  = 2.5\n",
    "\n",
    "\n",
    "#############################################################################\n",
    "# MARKET NEUTRAL OPTIMIZATION MODEL\n",
    "#############################################################################\n",
    "class MarketNeutralGrbModel(optGrbModel):\n",
    "    def __init__(\n",
    "        self,\n",
    "        N,\n",
    "        A,\n",
    "        b,\n",
    "        l,\n",
    "        u,\n",
    "        minimize=False,\n",
    "        risk_f=None,\n",
    "        risk_abs=None,\n",
    "        single_abs=None,\n",
    "        l1_abs=None,\n",
    "        cov_matrix=None,\n",
    "        sigma_abs=None\n",
    "    ):\n",
    "        # 保存所有参数\n",
    "        self.N = N\n",
    "        self.A = A\n",
    "        self.b = b\n",
    "        self.l = l\n",
    "        self.u = u\n",
    "        self.minimize = minimize\n",
    "        self.risk_f = risk_f\n",
    "        self.risk_abs = risk_abs\n",
    "        self.single_abs = single_abs\n",
    "        self.l1_abs = l1_abs\n",
    "        self.cov_matrix = cov_matrix\n",
    "        self.sigma_abs = sigma_abs\n",
    "\n",
    "        super().__init__()\n",
    "\n",
    "    def _getModel(self):\n",
    "        # 新建 Gurobi 模型\n",
    "        m = gp.Model()\n",
    "\n",
    "        # 添加原始变量 x[i]\n",
    "        x = m.addVars(\n",
    "            self.N,\n",
    "            lb={i: float(self.l[i]) for i in range(self.N)},\n",
    "            ub={i: float(self.u[i]) for i in range(self.N)},\n",
    "            name=\"x\"\n",
    "        )\n",
    "\n",
    "        # 用于 L1 约束的辅助变量 t[i]\n",
    "        t = m.addVars(self.N, lb=0.0, name=\"t\")\n",
    "\n",
    "        # 设置优化方向\n",
    "        m.modelSense = GRB.MINIMIZE if self.minimize else GRB.MAXIMIZE\n",
    "\n",
    "        # ——— 1) 市场中性约束 sum A[0,i] * x[i] == b[0]\n",
    "        m.addConstr(\n",
    "            gp.quicksum(self.A[0, i] * x[i] for i in range(self.N)) == float(self.b[0]),\n",
    "            name=\"eq_sum\"\n",
    "        )\n",
    "\n",
    "        # ——— 2) 风险约束 |risk_f' x| <= risk_abs\n",
    "        expr_r = gp.quicksum(self.risk_f[i] * x[i] for i in range(self.N))\n",
    "        m.addConstr(expr_r <= float(self.risk_abs), name=\"risk_ub\")\n",
    "        m.addConstr(expr_r >= -float(self.risk_abs), name=\"risk_lb\")\n",
    "\n",
    "        # ——— 3) 单项绝对值约束 |x_i| <= single_abs\n",
    "        for i in range(self.N):\n",
    "            m.addConstr(x[i] <=  float(self.single_abs),  name=f\"single_ub_{i}\")\n",
    "            m.addConstr(x[i] >= -float(self.single_abs), name=f\"single_lb_{i}\")\n",
    "\n",
    "        # ——— 4) L1 约束 ∑|x_i| <= l1_abs\n",
    "        #   实现方式： t[i] >=  x[i], t[i] >= -x[i], 然后 ∑ t[i] <= l1_abs\n",
    "        for i in range(self.N):\n",
    "            m.addConstr(t[i] >=  x[i], name=f\"t_pos_{i}\")\n",
    "            m.addConstr(t[i] >= -x[i], name=f\"t_neg_{i}\")\n",
    "        m.addConstr(t.sum() <= float(self.l1_abs), name=\"l1_norm\")\n",
    "\n",
    "        # ——— 5) 二次型约束 x' * cov_matrix * x <= sigma_abs\n",
    "        #     向量化写法： x_vec @ cov_matrix @ x_vec\n",
    "        x_vec = np.array([x[i] for i in range(self.N)])\n",
    "        expr_q = x_vec @ self.cov_matrix @ x_vec\n",
    "        m.addQConstr(expr_q <= float(self.sigma_abs), name=\"sigma_qc\")\n",
    "\n",
    "        return m, x\n",
    "    \n",
    "\n",
    "\n",
    "# Optionally, you can test the model here\n",
    "# c_test = np.random.rand(N)\n",
    "# market_neutral_model.setObj(c_test)\n",
    "# sol = market_neutral_model.solve()\n",
    "# print(f\"Test solution objective value: {market_neutral_model.getObjVal()}\")\n",
    "\n",
    "\n",
    "\n",
    "# Create an instance of the market neutral model for testing\n",
    "market_neutral_model = MarketNeutralGrbModel(\n",
    "    N, A, b, l, u, minimize=False,\n",
    "    risk_f=risk_f, risk_abs=risk_abs,\n",
    "    single_abs=single_abs, l1_abs=l1_abs,\n",
    "    cov_matrix=cov_matrix, sigma_abs=sigma_abs\n",
    ")\n",
    "\n",
    "\n",
    "\n"
   ]
  },
  {
   "cell_type": "code",
   "execution_count": 4,
   "id": "3f58d82b",
   "metadata": {},
   "outputs": [
    {
     "name": "stdout",
     "output_type": "stream",
     "text": [
      ">>> Precomputed mode enabled. Skipping time series processing and solution computation.\n"
     ]
    }
   ],
   "source": [
    "# 加载数据集\n",
    "\n",
    "from pyepo.data.dataset import optDataset\n",
    "import numpy as np\n",
    "\n",
    "def load_dataset_dict(filename):\n",
    "    \"\"\"从文件加载数据集字典\"\"\"\n",
    "    data = np.load(filename, allow_pickle=True)\n",
    "    return {\n",
    "        'feats': data['feats'],\n",
    "        'costs': data['costs'],\n",
    "        'sols': data['sols'],\n",
    "        'objs': data['objs'],\n",
    "        'lookback': data['lookback'].item(),\n",
    "        'padding_method': str(data['padding_method'])\n",
    "    }\n",
    "\n",
    "# 从字典创建数据集\n",
    "def create_dataset_from_dict(dataset_dict, model):\n",
    "    \"\"\"从字典创建optDataset实例，并载入预计算的sols和objs\"\"\"\n",
    "    dataset = optDataset(\n",
    "        model=model,\n",
    "        feats=dataset_dict['feats'],\n",
    "        costs=dataset_dict['costs'],\n",
    "        lookback=dataset_dict['lookback'],\n",
    "        padding_method=dataset_dict['padding_method'],\n",
    "        precomputed =True\n",
    "    )\n",
    "    \n",
    "    # 用预计算的解替换\n",
    "    dataset.sols = dataset_dict['sols']\n",
    "    dataset.objs = dataset_dict['objs']\n",
    "    \n",
    "    return dataset\n",
    "\n",
    "\n",
    "# 之后使用时，可以直接加载而无需重新计算\n",
    "loaded_dict = load_dataset_dict('large_market_neutral_dataset.npz')\n",
    "dataset = create_dataset_from_dict(loaded_dict, market_neutral_model)"
   ]
  },
  {
   "cell_type": "code",
   "execution_count": null,
   "id": "92cf2368",
   "metadata": {},
   "outputs": [],
   "source": []
  },
  {
   "cell_type": "code",
   "execution_count": null,
   "id": "5bfcd695",
   "metadata": {},
   "outputs": [],
   "source": [
    "\n",
    "\n"
   ]
  },
  {
   "cell_type": "code",
   "execution_count": null,
   "id": "1f7fcd86",
   "metadata": {},
   "outputs": [],
   "source": []
  },
  {
   "cell_type": "code",
   "execution_count": 5,
   "id": "06c5be7c",
   "metadata": {},
   "outputs": [
    {
     "name": "stdout",
     "output_type": "stream",
     "text": [
      "Training size: 104808\n",
      "Test size: 26202\n"
     ]
    }
   ],
   "source": [
    "from sklearn.model_selection import train_test_split\n",
    "\n",
    "\n",
    "\n",
    "# 获取索引并进行分割\n",
    "indices = list(range(len(dataset)))\n",
    "train_indices, test_indices = train_test_split(indices, test_size=0.2, random_state=42)\n",
    "\n",
    "# 创建 Subset 类\n",
    "from torch.utils.data import Subset\n",
    "\n",
    "dataset_train = Subset(dataset, train_indices)\n",
    "dataset_test = Subset(dataset, test_indices)\n",
    "\n",
    "# 现在 dataset_train 和 dataset_test 都是 optDataset 对象\n",
    "print(f\"Training size: {len(dataset_train)}\")\n",
    "print(f\"Test size: {len(dataset_test)}\")\n",
    "\n"
   ]
  },
  {
   "cell_type": "code",
   "execution_count": 6,
   "id": "1b055d73",
   "metadata": {},
   "outputs": [
    {
     "name": "stdout",
     "output_type": "stream",
     "text": [
      "Training size: 80\n",
      "Test size: 20\n"
     ]
    }
   ],
   "source": [
    "##########################\n",
    "# 一个小一点的子集测试一下：\n",
    "###########################\n",
    "\n",
    "from sklearn.model_selection import train_test_split\n",
    "\n",
    "\n",
    "\n",
    "# 获取索引并进行分割\n",
    "indices = list(range(100))\n",
    "train_indices, test_indices = train_test_split(indices, test_size=0.2, random_state=42)\n",
    "\n",
    "# 创建 Subset 类\n",
    "from torch.utils.data import Subset\n",
    "\n",
    "dataset_train = Subset(dataset, train_indices)\n",
    "dataset_test = Subset(dataset, test_indices)\n",
    "\n",
    "# 现在 dataset_train 和 dataset_test 都是 optDataset 对象\n",
    "print(f\"Training size: {len(dataset_train)}\")\n",
    "print(f\"Test size: {len(dataset_test)}\")"
   ]
  },
  {
   "cell_type": "code",
   "execution_count": 7,
   "id": "e437c18d",
   "metadata": {},
   "outputs": [],
   "source": [
    "#############################################################################\n",
    "# DATA LOADERS WITH PREFETCHING\n",
    "#############################################################################\n",
    "import torch\n",
    "from torch.utils.data import DataLoader\n",
    "# Find optimal batch size based on GPU memory\n",
    "# Start with a reasonable default\n",
    "batch_size = 8  \n",
    "\n",
    "generator = torch.Generator()\n",
    "generator.manual_seed(42)\n",
    "\n",
    "# Configure data loaders with prefetching\n",
    "loader_train = DataLoader(\n",
    "    dataset_train, \n",
    "    batch_size=batch_size, \n",
    "    shuffle=True,\n",
    "    generator=generator # 固定data loader的生成器 - 用于对比MLP & MLP_Forloop\n",
    "    # pin_memory=True,  # Speed up host to GPU transfers\n",
    "    # num_workers=2,    # Prefetch in parallel\n",
    "    # persistent_workers=True  # Keep workers alive between epochs\n",
    ")\n",
    "\n",
    "loader_test = DataLoader(\n",
    "    dataset_test, \n",
    "    batch_size=batch_size, \n",
    "    shuffle=False,\n",
    "    # pin_memory=True,\n",
    "    # num_workers=1\n",
    ")\n",
    "\n",
    "# move loader to device for logging regret\n",
    "def device_loader(loader, device):\n",
    "    for batch in loader:\n",
    "        x, c, w, z = batch\n",
    "        yield x.to(device), c.to(device), w.to(device), z.to(device)"
   ]
  },
  {
   "cell_type": "markdown",
   "id": "a3dd7584",
   "metadata": {},
   "source": [
    "## 预测模型"
   ]
  },
  {
   "cell_type": "code",
   "execution_count": null,
   "id": "d34d2fe1",
   "metadata": {},
   "outputs": [],
   "source": [
    "#############################################################################\n",
    "# PREDICTION MODEL\n",
    "#############################################################################\n",
    "from torch import nn\n",
    "import torch\n",
    "# torch.manual_seed(42)  \n",
    "\n",
    "\n",
    "class EnhancedLinearRegression(nn.Module):\n",
    "    \"\"\"\n",
    "    Enhanced linear regression model with batch normalization\n",
    "    for improved training stability\n",
    "    \"\"\"\n",
    "    def __init__(self, k: int, dropout_rate=0.0):\n",
    "        super().__init__()\n",
    "        # Feature normalization\n",
    "        self.batch_norm = nn.BatchNorm1d(k)\n",
    "        # Optional dropout for regularization\n",
    "        self.dropout = nn.Dropout(dropout_rate) if dropout_rate > 0 else None\n",
    "        # Linear layer - maps k features to 1 output\n",
    "        self.linear = nn.Linear(in_features=k, out_features=1)\n",
    "        \n",
    "        # Initialize weights properly\n",
    "        nn.init.xavier_normal_(self.linear.weight)\n",
    "        nn.init.zeros_(self.linear.bias)\n",
    "\n",
    "    def forward(self, x):\n",
    "        # x: (batch_size, N, k) -> reshape for batch norm\n",
    "        batch_size, N, k = x.shape\n",
    "        x_reshaped = x.reshape(-1, k)  # (batch_size*N, k)\n",
    "        \n",
    "        # Apply batch normalization\n",
    "        x_normalized = self.batch_norm(x_reshaped)\n",
    "        \n",
    "        # Apply dropout if enabled\n",
    "        if self.dropout is not None:\n",
    "            x_normalized = self.dropout(x_normalized)\n",
    "            \n",
    "        # Apply linear layer\n",
    "        output = self.linear(x_normalized)  # (batch_size*N, 1)\n",
    "        \n",
    "        # Reshape back to original dimensions\n",
    "        output = output.reshape(batch_size, N)  # (batch_size, N)\n",
    "        \n",
    "        return output\n",
    "\n",
    "# Initialize model and move to GPU\n",
    "reg = EnhancedLinearRegression(k=k, dropout_rate=0.1).to(device)\n",
    "\n",
    "# Print model summary\n",
    "print(\"Model architecture:\")\n",
    "for name, param in reg.named_parameters():\n",
    "    print(f\"{name:20s} | Shape: {param.data.shape} | Parameters: {param.numel()} | require_Grad: {param.requires_grad}\")\n",
    "    # print  and param.grad\n",
    "    print(f\"Value: {param.data} | Grad: {param.grad}\")\n",
    "    \n",
    "    \n",
    "print(f\"Total parameters: {sum(p.numel() for p in reg.parameters())}\")\n"
   ]
  },
  {
   "cell_type": "code",
   "execution_count": null,
   "id": "1c504675",
   "metadata": {},
   "outputs": [],
   "source": [
    "class TwoLayerMLP(nn.Module):\n",
    "    \"\"\"\n",
    "    Two-layer MLP model with batch normalization and optional dropout\n",
    "    \"\"\"\n",
    "    def __init__(self, k: int, hidden_dim: int=32, dropout_rate=0.0):\n",
    "        super().__init__()\n",
    "        # Feature normalization\n",
    "        self.batch_norm = nn.BatchNorm1d(k)\n",
    "        \n",
    "        # First layer: k -> hidden_dim\n",
    "        self.fc1 = nn.Linear(k, hidden_dim)\n",
    "        \n",
    "        # Second layer: hidden_dim -> 1\n",
    "        self.fc2 = nn.Linear(hidden_dim, 1)\n",
    "        \n",
    "        # Activation function\n",
    "        self.activation = nn.ReLU()\n",
    "        \n",
    "        # Optional dropout for regularization\n",
    "        self.dropout = nn.Dropout(dropout_rate) if dropout_rate > 0 else None\n",
    "        \n",
    "        # Initialize weights properly\n",
    "        nn.init.xavier_normal(self.fc1.weight)\n",
    "        nn.init.zeros_(self.fc1.bias)\n",
    "        nn.init.xavier_normal(self.fc2.weight)\n",
    "        nn.init.zeros_(self.fc2.bias)\n",
    "    \n",
    "    def forward(self, x):\n",
    "        # x: (batch_size, N, k) -> reshape for batch norm\n",
    "        batch_size, N, k = x.shape\n",
    "        x_reshaped = x.reshape(-1, k) # (batch_size*N, k)\n",
    "        \n",
    "        # Apply batch normalization\n",
    "        x_normalized = self.batch_norm(x_reshaped)\n",
    "        \n",
    "        # First linear layer + activation\n",
    "        x_hidden = self.fc1(x_normalized)\n",
    "        x_hidden = self.activation(x_hidden)\n",
    "        \n",
    "        # Optional dropout \n",
    "        if self.dropout is not None:\n",
    "            x_hidden = self.dropout(x_hidden)\n",
    "        \n",
    "        # Second linear layer (output)\n",
    "        output = self.fc2(x_hidden) # (batch_size*N, 1)\n",
    "        \n",
    "        # Reshape back to (batch_size, N)\n",
    "        output = output.reshape(batch_size, N)\n",
    "        \n",
    "        return output\n",
    "    \n",
    "\n",
    "# Initialize model and move to gpu\n",
    "mlp = TwoLayerMLP(k=k, hidden_dim=32, dropout_rate=0.0).to(device)\n",
    "\n",
    "# Print model summary\n",
    "print(\"Model architecture:\")\n",
    "for name, param in mlp.named_parameters():\n",
    "    print(f\"{name:20s} | Shape: {param.data.shape} | Parameters: {param.numel()} | require_Grad: {param.requires_grad}\")\n",
    "    # print  and param.grad\n",
    "    print(f\"Mean Value: {param.data.mean()} | Grad: {param.grad}\")"
   ]
  },
  {
   "cell_type": "code",
   "execution_count": null,
   "id": "bb92665e",
   "metadata": {},
   "outputs": [],
   "source": [
    "class TwoLayerMLPForloop(TwoLayerMLP):\n",
    "    \"\"\"\n",
    "    Same structure as TwoLayerMLP, but manually apply forward pass one by one\n",
    "    \"\"\"\n",
    "    def forward(self, x):\n",
    "        batch_size, N, k = x.shape\n",
    "        outputs = []\n",
    "        # (1) BatchNorm\n",
    "        x_norm = self.batch_norm(x.reshape(-1, k)).reshape(batch_size, N, k)\n",
    "\n",
    "        for t in range(batch_size):\n",
    "            for n in range(N):\n",
    "                x_single = x_norm[t, n, :]  # shape (k,)\n",
    "\n",
    "                # (2) First linear layer + activation\n",
    "                x_hidden = self.activation(self.fc1(x_single))  # (1, hidden_dim)\n",
    "            \n",
    "                # (3) Optional dropout\n",
    "                if self.dropout is not None:\n",
    "                    x_hidden = self.dropout(x_hidden)\n",
    "\n",
    "                # (4) Second linear layer (output)\n",
    "                x_out = self.fc2(x_hidden)  # (1, 1)\n",
    "\n",
    "                outputs.append(x_out.squeeze())  # squeeze to scalar\n",
    "        \n",
    "        # Collect all outputs\n",
    "        outputs = torch.stack(outputs)  # shape (batch_size * N,)\n",
    "        outputs = outputs.view(batch_size, N)  # reshape back\n",
    "        return outputs\n",
    "    \n",
    "# Initialize model and move to gpu\n",
    "mlp_fl = TwoLayerMLPForloop(k=k, hidden_dim=32, dropout_rate=0.0).to(device)\n",
    "mlp_fl.load_state_dict(mlp.state_dict()) # 保证两个版本下参数初始化一致\n",
    "\n",
    "# Print model summary\n",
    "print(\"Model architecture:\")\n",
    "for name, param in mlp_fl.named_parameters():\n",
    "    print(f\"{name:20s} | Shape: {param.data.shape} | Parameters: {param.numel()} | require_Grad: {param.requires_grad}\")\n",
    "    # print  and param.grad\n",
    "    print(f\"Mean Value: {param.data.mean()} | Grad: {param.grad}\")"
   ]
  },
  {
   "cell_type": "code",
   "execution_count": 8,
   "id": "3986562e",
   "metadata": {},
   "outputs": [
    {
     "name": "stderr",
     "output_type": "stream",
     "text": [
      "/Users/siluli/Documents/vscodefiles/paper project/zyh/pyEPO/my-PyEPO/.venv/lib/python3.11/site-packages/tqdm/auto.py:21: TqdmWarning: IProgress not found. Please update jupyter and ipywidgets. See https://ipywidgets.readthedocs.io/en/stable/user_install.html\n",
      "  from .autonotebook import tqdm as notebook_tqdm\n"
     ]
    },
    {
     "name": "stdout",
     "output_type": "stream",
     "text": [
      "Using device: mps\n",
      "Using Apple Silicon GPU via Metal Performance Shaders (MPS)\n",
      "Model architecture:\n",
      "lstm.weight_ih_l0              | Shape: torch.Size([256, 6]) | Parameters: 1536 | require_grad: True\n",
      "Mean Value: -0.0016327118501067162 | Grad: None\n",
      "--------------------------------------------------------------------------------\n",
      "lstm.weight_hh_l0              | Shape: torch.Size([256, 64]) | Parameters: 16384 | require_grad: True\n",
      "Mean Value: -9.67081286944449e-05 | Grad: None\n",
      "--------------------------------------------------------------------------------\n",
      "lstm.bias_ih_l0                | Shape: torch.Size([256]) | Parameters: 256 | require_grad: True\n",
      "Mean Value: 0.00032716430723667145 | Grad: None\n",
      "--------------------------------------------------------------------------------\n",
      "lstm.bias_hh_l0                | Shape: torch.Size([256]) | Parameters: 256 | require_grad: True\n",
      "Mean Value: -0.003291622269898653 | Grad: None\n",
      "--------------------------------------------------------------------------------\n",
      "batch_norm.weight              | Shape: torch.Size([64]) | Parameters: 64 | require_grad: True\n",
      "Mean Value: 1.0 | Grad: None\n",
      "--------------------------------------------------------------------------------\n",
      "batch_norm.bias                | Shape: torch.Size([64]) | Parameters: 64 | require_grad: True\n",
      "Mean Value: 0.0 | Grad: None\n",
      "--------------------------------------------------------------------------------\n",
      "fc1.weight                     | Shape: torch.Size([32, 64]) | Parameters: 2048 | require_grad: True\n",
      "Mean Value: -0.0031478952150791883 | Grad: None\n",
      "--------------------------------------------------------------------------------\n",
      "fc1.bias                       | Shape: torch.Size([32]) | Parameters: 32 | require_grad: True\n",
      "Mean Value: -0.011368896812200546 | Grad: None\n",
      "--------------------------------------------------------------------------------\n",
      "fc2.weight                     | Shape: torch.Size([1, 32]) | Parameters: 32 | require_grad: True\n",
      "Mean Value: 0.005091970786452293 | Grad: None\n",
      "--------------------------------------------------------------------------------\n",
      "fc2.bias                       | Shape: torch.Size([1]) | Parameters: 1 | require_grad: True\n",
      "Mean Value: 0.06754158437252045 | Grad: None\n",
      "--------------------------------------------------------------------------------\n",
      "Output shapes - Forloop: torch.Size([4, 5]), Efficient: torch.Size([4, 5])\n"
     ]
    }
   ],
   "source": [
    "import torch\n",
    "import torch.nn as nn\n",
    "#############################################################################\n",
    "# IMPORTS AND SETUP\n",
    "#############################################################################\n",
    "# Set random seed for reproducibility\n",
    "import random\n",
    "random.seed(42)\n",
    "import numpy as np\n",
    "np.random.seed(42)\n",
    "import torch\n",
    "torch.manual_seed(42)\n",
    "torch.cuda.manual_seed(42)\n",
    "torch.backends.cudnn.deterministic = True  # Makes training more deterministic\n",
    "torch.backends.cudnn.benchmark = False     # Can speed up training when input sizes don't change\n",
    "\n",
    "# Standard imports\n",
    "import pandas as pd\n",
    "import numpy as np\n",
    "import polars as pl\n",
    "from datetime import datetime, timedelta\n",
    "import time\n",
    "import os\n",
    "\n",
    "from tqdm.auto import tqdm  # Progress bar\n",
    "\n",
    "\n",
    "# Check and set up GPU (support MPS on Mac)\n",
    "if torch.backends.mps.is_available():\n",
    "    device = torch.device(\"mps\")\n",
    "elif torch.cuda.is_available():\n",
    "    device = torch.device(\"cuda\")\n",
    "else:\n",
    "    device = torch.device(\"cpu\")\n",
    "\n",
    "print(f\"Using device: {device}\")\n",
    "\n",
    "# Print extra info\n",
    "if device.type == \"cuda\":\n",
    "    print(f\"GPU: {torch.cuda.get_device_name(0)}\")\n",
    "    torch.cuda.empty_cache()\n",
    "elif device.type == \"mps\":\n",
    "    print(\"Using Apple Silicon GPU via Metal Performance Shaders (MPS)\")\n",
    "\n",
    "\n",
    "\n",
    "\n",
    "class TwoLayerLSTMForloop(nn.Module):\n",
    "    \"\"\"\n",
    "    LSTM 模型处理时间序列数据 (T, N, lookback, k)\n",
    "    \"\"\"\n",
    "    def __init__(self, k, hidden_dim=32, lstm_hidden_dim=64, dropout_rate=0.0):\n",
    "        super(TwoLayerLSTMForloop, self).__init__()\n",
    "        self.k = k\n",
    "        self.hidden_dim = hidden_dim\n",
    "        self.lstm_hidden_dim = lstm_hidden_dim\n",
    "        \n",
    "        # (1) LSTM 层处理时间序列\n",
    "        self.lstm = nn.LSTM(k, lstm_hidden_dim, batch_first=True)\n",
    "        \n",
    "        # (2) BatchNorm 处理 LSTM 输出\n",
    "        self.batch_norm = nn.BatchNorm1d(lstm_hidden_dim)\n",
    "        \n",
    "        # (3) 两层全连接网络\n",
    "        self.fc1 = nn.Linear(lstm_hidden_dim, hidden_dim)\n",
    "        self.activation = nn.ReLU()\n",
    "        self.fc2 = nn.Linear(hidden_dim, 1)\n",
    "        \n",
    "        # (4) Dropout\n",
    "        if dropout_rate > 0:\n",
    "            self.dropout = nn.Dropout(dropout_rate)\n",
    "        else:\n",
    "            self.dropout = None\n",
    "    \n",
    "    def forward(self, x):\n",
    "        # x shape: (batch_size, N, lookback, k)\n",
    "        batch_size, N, lookback, k = x.shape\n",
    "        \n",
    "        # 重塑为 LSTM 输入: (batch_size*N, lookback, k)\n",
    "        x_lstm = x.reshape(-1, lookback, k)\n",
    "        \n",
    "        # LSTM 处理\n",
    "        lstm_out, (h_n, c_n) = self.lstm(x_lstm)\n",
    "        # lstm_out shape: (batch_size*N, lookback, lstm_hidden_dim)\n",
    "        # h_n shape: (1, batch_size*N, lstm_hidden_dim)\n",
    "        \n",
    "        # 使用最后一个时间步的输出\n",
    "        lstm_final = lstm_out[:, -1, :]  # shape: (batch_size*N, lstm_hidden_dim)\n",
    "        \n",
    "        # BatchNorm\n",
    "        x_norm = self.batch_norm(lstm_final)  # shape: (batch_size*N, lstm_hidden_dim)\n",
    "        \n",
    "        # 全连接层处理\n",
    "        outputs = []\n",
    "        for i in range(batch_size * N):\n",
    "            x_single = x_norm[i]  # shape: (lstm_hidden_dim,)\n",
    "            \n",
    "            # 第一层线性变换 + 激活\n",
    "            x_hidden = self.activation(self.fc1(x_single))  # shape: (hidden_dim,)\n",
    "            \n",
    "            # Dropout\n",
    "            if self.dropout is not None:\n",
    "                x_hidden = self.dropout(x_hidden)\n",
    "            \n",
    "            # 第二层线性变换\n",
    "            x_out = self.fc2(x_hidden)  # shape: (1,)\n",
    "            \n",
    "            outputs.append(x_out.squeeze())  # squeeze to scalar\n",
    "        \n",
    "        # 整合输出\n",
    "        outputs = torch.stack(outputs)  # shape: (batch_size*N,)\n",
    "        outputs = outputs.view(batch_size, N)  # reshape back to (batch_size, N)\n",
    "        \n",
    "        return outputs\n",
    "\n",
    "# 另一个更高效的版本（不使用 for loop）\n",
    "class TwoLayerLSTM(nn.Module):\n",
    "    \"\"\"\n",
    "    更高效的 LSTM 实现，处理时间序列数据\n",
    "    \"\"\"\n",
    "    def __init__(self, k, hidden_dim=32, lstm_hidden_dim=64, dropout_rate=0.0):\n",
    "        super(TwoLayerLSTM, self).__init__()\n",
    "        self.k = k\n",
    "        self.hidden_dim = hidden_dim\n",
    "        self.lstm_hidden_dim = lstm_hidden_dim\n",
    "        \n",
    "        # LSTM 层\n",
    "        self.lstm = nn.LSTM(k, lstm_hidden_dim, batch_first=True)\n",
    "        \n",
    "        # 全连接层\n",
    "        self.fc_layers = nn.Sequential(\n",
    "            nn.BatchNorm1d(lstm_hidden_dim),\n",
    "            nn.Linear(lstm_hidden_dim, hidden_dim),\n",
    "            nn.ReLU(),\n",
    "            nn.Dropout(dropout_rate) if dropout_rate > 0 else nn.Identity(),\n",
    "            nn.Linear(hidden_dim, 1)\n",
    "        )\n",
    "    \n",
    "    def forward(self, x):\n",
    "        # x shape: (batch_size, N, lookback, k)\n",
    "        batch_size, N, lookback, k = x.shape\n",
    "        \n",
    "        # 重塑为 LSTM 输入: (batch_size*N, lookback, k)\n",
    "        x_lstm = x.reshape(-1, lookback, k)\n",
    "        \n",
    "        # LSTM 处理\n",
    "        lstm_out, _ = self.lstm(x_lstm)\n",
    "        # 使用最后一个时间步的输出\n",
    "        lstm_final = lstm_out[:, -1, :]  # shape: (batch_size*N, lstm_hidden_dim)\n",
    "        \n",
    "        # 全连接层处理\n",
    "        output = self.fc_layers(lstm_final)  # shape: (batch_size*N, 1)\n",
    "        \n",
    "        # 重塑为最终输出\n",
    "        output = output.view(batch_size, N)  # shape: (batch_size, N)\n",
    "        \n",
    "        return output\n",
    "\n",
    "# Initialize model and move to gpu\n",
    "lstm_fl = TwoLayerLSTMForloop(k=6, hidden_dim=32, lstm_hidden_dim=64, dropout_rate=0.0).to(device)\n",
    "\n",
    "# 更高效版本\n",
    "lstm_efficient = TwoLayerLSTM(k=6, hidden_dim=32, lstm_hidden_dim=64, dropout_rate=0.0).to(device)\n",
    "\n",
    "# Print model summary\n",
    "print(\"Model architecture:\")\n",
    "for name, param in lstm_fl.named_parameters():\n",
    "    print(f\"{name:30s} | Shape: {param.data.shape} | Parameters: {param.numel()} | require_grad: {param.requires_grad}\")\n",
    "    print(f\"Mean Value: {param.data.mean()} | Grad: {param.grad}\")\n",
    "    print(\"-\" * 80)\n",
    "\n",
    "# 测试两个模型的一致性\n",
    "with torch.no_grad():\n",
    "    # 创建测试数据\n",
    "    test_data = torch.randn(4, 5, 5, 6).to(device)  # (batch_size=4, N=5, lookback=5, k=features)\n",
    "    \n",
    "    output_forloop = lstm_fl(test_data)\n",
    "    output_efficient = lstm_efficient(test_data)\n",
    "    \n",
    "    print(f\"Output shapes - Forloop: {output_forloop.shape}, Efficient: {output_efficient.shape}\")"
   ]
  },
  {
   "cell_type": "markdown",
   "id": "37d342f1",
   "metadata": {},
   "source": [
    "## 训练函数"
   ]
  },
  {
   "cell_type": "code",
   "execution_count": 9,
   "id": "64bd61dc",
   "metadata": {},
   "outputs": [
    {
     "name": "stdout",
     "output_type": "stream",
     "text": [
      "\n",
      "Initializing SPO+ loss function...\n",
      "Num of cores: 1\n"
     ]
    }
   ],
   "source": [
    "#############################################################################\n",
    "# TRAINING WITH MIXED PRECISION\n",
    "#############################################################################\n",
    "import time\n",
    "from torch.amp import GradScaler, autocast\n",
    "import pyepo\n",
    "\n",
    "def trainModel(model, loss_func, method_name, num_epochs=5, lr=1e-3):\n",
    "    \"\"\"\n",
    "    Enhanced training function with:\n",
    "    - Mixed precision for faster GPU training\n",
    "    - Learning rate scheduling\n",
    "    - Progress bars\n",
    "    - Detailed logging\n",
    "    - Memory-efficient tensor handling\n",
    "    \"\"\"\n",
    "    # Set up optimizer with weight decay for regularization\n",
    "    optimizer = torch.optim.AdamW(model.parameters(), lr=lr, weight_decay=1e-4)\n",
    "    \n",
    "    # Learning rate scheduler for better convergence\n",
    "    scheduler = torch.optim.lr_scheduler.ReduceLROnPlateau(\n",
    "        optimizer, mode='min', factor=0.5, patience=1\n",
    "    )\n",
    "    \n",
    "    # Enable mixed precision training\n",
    "    scaler = GradScaler(enabled=(device.type in [\"cuda\", \"mps\"]))\n",
    "\n",
    "    # Set model to training mode\n",
    "    model.train()\n",
    "    \n",
    "    # Initialize logs\n",
    "    loss_log = []\n",
    "    # evaluate loss on whole test data\n",
    "    loss_log_regret = [pyepo.metric.regret(model, market_neutral_model, device_loader(loader_test, device))]\n",
    "    print(f\"Initial regret: {loss_log_regret[0]*100:.4f}%\")\n",
    "    \n",
    "    # Initialize elapsed time tracking\n",
    "    training_start = time.time()\n",
    "    total_elapsed = 0\n",
    "    \n",
    "    # Verbosity control - set to false for production\n",
    "    debug_mode = False\n",
    "    log_interval = 10  # Log every N batches\n",
    "    \n",
    "    for epoch in range(num_epochs):\n",
    "        epoch_loss = 0.0\n",
    "        epoch_start = time.time()\n",
    "        \n",
    "        # Progress bar for this epoch\n",
    "        progress_bar = tqdm(loader_train, desc=f\"Epoch {epoch+1}/{num_epochs}\")\n",
    "        \n",
    "        for i, data in enumerate(progress_bar):\n",
    "            x, c, w, z = data\n",
    "            \n",
    "            # Move data to GPU (once, not in every batch)\n",
    "            x, c, w, z = x.to(device), c.to(device), w.to(device), z.to(device)\n",
    "            \n",
    "            # Record batch start time for accurate timing\n",
    "            batch_start = time.time()\n",
    "            \n",
    "            # Clear gradients for each batch\n",
    "            optimizer.zero_grad()\n",
    "            \n",
    "            # Use mixed precision where appropriate\n",
    "            with autocast(device_type=device.type, enabled=(device.type in [\"cuda\", \"mps\"])):\n",
    "                # Forward pass\n",
    "                cp = model(x)\n",
    "                \n",
    "                # Compute loss based on method\n",
    "                if method_name == \"spo+\":\n",
    "                    loss = loss_func(cp, c, w, z)\n",
    "                elif method_name in [\"ptb\", \"pfy\", \"imle\", \"aimle\", \"nce\", \"cmap\"]:\n",
    "                    loss = loss_func(cp, w)\n",
    "                elif method_name in [\"dbb\", \"nid\"]:\n",
    "                    loss = loss_func(cp, c, z)\n",
    "                elif method_name in [\"pg\", \"ltr\"]:\n",
    "                    loss = loss_func(cp, c)\n",
    "            \n",
    "            # Backward pass with mixed precision handling\n",
    "            if scaler is not None:\n",
    "                scaler.scale(loss).backward()\n",
    "                scaler.step(optimizer)\n",
    "                scaler.update()\n",
    "            else:\n",
    "                loss.backward()\n",
    "                optimizer.step()\n",
    "            \n",
    "            # Track batch elapsed time\n",
    "            batch_elapsed = time.time() - batch_start\n",
    "            total_elapsed += batch_elapsed\n",
    "            \n",
    "            # Update loss tracking\n",
    "            current_loss = loss.item()\n",
    "            epoch_loss += current_loss\n",
    "            loss_log.append(current_loss)\n",
    "            \n",
    "            # Update progress bar\n",
    "            progress_bar.set_postfix({\n",
    "                'loss': f\"{current_loss:.4f}\", \n",
    "                'batch time': f\"{batch_elapsed:.4f}s\"\n",
    "            })\n",
    "            \n",
    "            # Debug logging (limited to avoid overwhelming output)\n",
    "            if debug_mode and i % log_interval == 0:\n",
    "                print(f\"\\n[Debug] Batch {i} stats:\")\n",
    "                print(f\"Loss: {current_loss:.6f}\")\n",
    "                print(f\"Pred shape: {cp.shape}, values: {cp[0,:5].detach().cpu().numpy()}\")\n",
    "                \n",
    "                # Monitor memory usage\n",
    "                if device.type == 'cuda':\n",
    "                    mem_allocated = torch.cuda.memory_allocated() / 1024**2\n",
    "                    mem_reserved = torch.cuda.memory_reserved() / 1024**2\n",
    "                    print(f\"GPU Memory: {mem_allocated:.1f}MB allocated, {mem_reserved:.1f}MB reserved\")\n",
    "        \n",
    "        # Compute regret on test set after each epoch\n",
    "        with torch.no_grad():\n",
    "            model.eval()  # Set model to evaluation mode\n",
    "            regret = pyepo.metric.regret(model, market_neutral_model, device_loader(loader_test, device))\n",
    "            model.train()  # Set back to training mode\n",
    "            loss_log_regret.append(regret)\n",
    "        \n",
    "        # Update learning rate scheduler\n",
    "        scheduler.step(epoch_loss)\n",
    "        \n",
    "        # End of epoch reporting\n",
    "        epoch_time = time.time() - epoch_start\n",
    "        print(f\"Epoch {epoch+1}: Loss={epoch_loss/len(loader_train):.6f}, \"\n",
    "              f\"Regret={regret*100:.4f}%, Time={epoch_time:.2f}s\")\n",
    "    \n",
    "    # Report total training time\n",
    "    total_training_time = time.time() - training_start\n",
    "    print(f\"Total training time: {total_training_time:.2f}s, \"\n",
    "          f\"Effective computation time: {total_elapsed:.2f}s\")\n",
    "    \n",
    "    return loss_log, loss_log_regret\n",
    "\n",
    "#############################################################################\n",
    "# TRAINING EXECUTION \n",
    "#############################################################################\n",
    "print(\"\\nInitializing SPO+ loss function...\")\n",
    "spop = pyepo.func.SPOPlus(market_neutral_model)"
   ]
  },
  {
   "cell_type": "code",
   "execution_count": 10,
   "id": "fec15705",
   "metadata": {},
   "outputs": [
    {
     "name": "stdout",
     "output_type": "stream",
     "text": [
      "\n",
      "Starting model training...\n"
     ]
    },
    {
     "name": "stderr",
     "output_type": "stream",
     "text": [
      "/Users/siluli/Documents/vscodefiles/paper project/zyh/pyEPO/my-PyEPO/.venv/lib/python3.11/site-packages/torch/amp/grad_scaler.py:136: UserWarning: torch.cuda.amp.GradScaler is enabled, but CUDA is not available.  Disabling.\n",
      "  warnings.warn(\n"
     ]
    },
    {
     "name": "stdout",
     "output_type": "stream",
     "text": [
      "Initial regret: 95.8855%\n"
     ]
    },
    {
     "name": "stderr",
     "output_type": "stream",
     "text": [
      "Epoch 1/5: 100%|██████████| 10/10 [00:05<00:00,  1.69it/s, loss=0.1243, batch time=0.5383s]\n"
     ]
    },
    {
     "name": "stdout",
     "output_type": "stream",
     "text": [
      "Epoch 1: Loss=0.262301, Regret=90.0647%, Time=7.27s\n"
     ]
    },
    {
     "name": "stderr",
     "output_type": "stream",
     "text": [
      "Epoch 2/5: 100%|██████████| 10/10 [00:05<00:00,  1.84it/s, loss=0.0489, batch time=0.5115s]\n"
     ]
    },
    {
     "name": "stdout",
     "output_type": "stream",
     "text": [
      "Epoch 2: Loss=0.075683, Regret=93.1399%, Time=6.78s\n"
     ]
    },
    {
     "name": "stderr",
     "output_type": "stream",
     "text": [
      "Epoch 3/5: 100%|██████████| 10/10 [00:05<00:00,  1.88it/s, loss=0.0322, batch time=0.5286s]\n"
     ]
    },
    {
     "name": "stdout",
     "output_type": "stream",
     "text": [
      "Epoch 3: Loss=0.043033, Regret=90.9189%, Time=6.71s\n"
     ]
    },
    {
     "name": "stderr",
     "output_type": "stream",
     "text": [
      "Epoch 4/5: 100%|██████████| 10/10 [00:05<00:00,  1.90it/s, loss=0.0502, batch time=0.5137s]\n"
     ]
    },
    {
     "name": "stdout",
     "output_type": "stream",
     "text": [
      "Epoch 4: Loss=0.042676, Regret=92.0784%, Time=6.61s\n"
     ]
    },
    {
     "name": "stderr",
     "output_type": "stream",
     "text": [
      "Epoch 5/5: 100%|██████████| 10/10 [00:05<00:00,  1.87it/s, loss=0.0357, batch time=0.5102s]\n"
     ]
    },
    {
     "name": "stdout",
     "output_type": "stream",
     "text": [
      "Epoch 5: Loss=0.034328, Regret=91.4405%, Time=6.71s\n",
      "Total training time: 34.08s, Effective computation time: 27.02s\n",
      "Initial regret: 91.4485%\n"
     ]
    },
    {
     "name": "stderr",
     "output_type": "stream",
     "text": [
      "Epoch 1/5: 100%|██████████| 10/10 [00:25<00:00,  2.54s/it, loss=0.0470, batch time=2.3803s]\n"
     ]
    },
    {
     "name": "stdout",
     "output_type": "stream",
     "text": [
      "Epoch 1: Loss=0.107480, Regret=91.2769%, Time=27.59s\n"
     ]
    },
    {
     "name": "stderr",
     "output_type": "stream",
     "text": [
      "Epoch 2/5: 100%|██████████| 10/10 [00:23<00:00,  2.38s/it, loss=0.0287, batch time=2.3500s]\n"
     ]
    },
    {
     "name": "stdout",
     "output_type": "stream",
     "text": [
      "Epoch 2: Loss=0.050878, Regret=91.7956%, Time=26.12s\n"
     ]
    },
    {
     "name": "stderr",
     "output_type": "stream",
     "text": [
      "Epoch 3/5: 100%|██████████| 10/10 [00:23<00:00,  2.36s/it, loss=0.0362, batch time=2.3442s]\n"
     ]
    },
    {
     "name": "stdout",
     "output_type": "stream",
     "text": [
      "Epoch 3: Loss=0.035261, Regret=91.4998%, Time=26.04s\n"
     ]
    },
    {
     "name": "stderr",
     "output_type": "stream",
     "text": [
      "Epoch 4/5: 100%|██████████| 10/10 [00:23<00:00,  2.34s/it, loss=0.0540, batch time=2.3144s]\n"
     ]
    },
    {
     "name": "stdout",
     "output_type": "stream",
     "text": [
      "Epoch 4: Loss=0.028091, Regret=91.0102%, Time=25.77s\n"
     ]
    },
    {
     "name": "stderr",
     "output_type": "stream",
     "text": [
      "Epoch 5/5: 100%|██████████| 10/10 [00:23<00:00,  2.38s/it, loss=0.0237, batch time=2.3707s]\n"
     ]
    },
    {
     "name": "stdout",
     "output_type": "stream",
     "text": [
      "Epoch 5: Loss=0.023554, Regret=91.4112%, Time=26.12s\n",
      "Total training time: 131.63s, Effective computation time: 119.66s\n"
     ]
    }
   ],
   "source": [
    "print(\"\\nStarting model training...\")\n",
    "loss_log, loss_log_regret = trainModel(\n",
    "    lstm_efficient, \n",
    "    loss_func=spop, \n",
    "    method_name=\"spo+\",\n",
    "    num_epochs=5,  # Increased for better convergence\n",
    "    lr=1e-3        # Adjusted learning rate\n",
    ")\n",
    "\n",
    "loss_log_fl, loss_log_regret_fl = trainModel(\n",
    "    lstm_fl, \n",
    "    loss_func=spop, \n",
    "    method_name=\"spo+\",\n",
    "    num_epochs=5,  # Increased for better convergence\n",
    "    lr=1e-3        # Adjusted learning rate\n",
    ")"
   ]
  },
  {
   "cell_type": "markdown",
   "id": "613b03c0",
   "metadata": {},
   "source": [
    "## 可视化 loss "
   ]
  },
  {
   "cell_type": "code",
   "execution_count": 11,
   "id": "00ef6412",
   "metadata": {},
   "outputs": [
    {
     "name": "stdout",
     "output_type": "stream",
     "text": [
      "\n",
      "Visualizing learning curves...\n"
     ]
    },
    {
     "data": {
      "image/png": "[encoded data removed]",
      "text/plain": [
       "<Figure size 1600x400 with 2 Axes>"
      ]
     },
     "metadata": {},
     "output_type": "display_data"
    },
    {
     "data": {
      "image/png": "[encoded data removed]",
      "text/plain": [
       "<Figure size 1600x400 with 2 Axes>"
      ]
     },
     "metadata": {},
     "output_type": "display_data"
    }
   ],
   "source": [
    "#############################################################################\n",
    "# VISUALIZATION\n",
    "#############################################################################\n",
    "from matplotlib import pyplot as plt\n",
    "\n",
    "def visLearningCurve(loss_log, loss_log_regret):\n",
    "    \"\"\"Enhanced visualization with smoother curves and more information\"\"\"\n",
    "    # Create figure and subplots\n",
    "    fig, (ax1, ax2) = plt.subplots(1, 2, figsize=(16,4))\n",
    "    \n",
    "    # Plot training loss with smoothing for readability\n",
    "    n_points = len(loss_log)\n",
    "    \n",
    "    # Apply smoothing for large datasets\n",
    "    if n_points > 100:\n",
    "        window_size = max(10, n_points // 50)\n",
    "        smoothed_loss = np.convolve(loss_log, np.ones(window_size)/window_size, mode='valid')\n",
    "        x_axis = np.arange(len(smoothed_loss))\n",
    "        ax1.plot(x_axis, smoothed_loss, color=\"c\", lw=2, label=f\"Smoothed (window={window_size})\")\n",
    "        # Also plot the raw data with transparency\n",
    "        ax1.plot(loss_log, color=\"c\", lw=0.5, alpha=0.3, label=\"Raw\")\n",
    "        ax1.legend()\n",
    "    else:\n",
    "        # For smaller datasets, just plot the raw data\n",
    "        ax1.plot(loss_log, color=\"c\", lw=2)\n",
    "    \n",
    "    ax1.tick_params(axis=\"both\", which=\"major\", labelsize=12)\n",
    "    ax1.set_xlabel(\"Iterations\", fontsize=16)\n",
    "    ax1.set_ylabel(\"Loss\", fontsize=16)\n",
    "    ax1.set_title(\"Learning Curve on Training Set\", fontsize=16)\n",
    "    ax1.grid(True, linestyle='--', alpha=0.7)\n",
    "    \n",
    "    # Draw plot for regret on test set\n",
    "    epochs = np.arange(len(loss_log_regret))\n",
    "    ax2.plot(epochs, [r*100 for r in loss_log_regret], \n",
    "             color=\"royalblue\", marker='o', ls=\"-\", alpha=0.8, lw=2)\n",
    "    \n",
    "    ax2.tick_params(axis=\"both\", which=\"major\", labelsize=12)\n",
    "    ax2.set_ylim(0, max(50, max([r*100 for r in loss_log_regret])*1.1))  # Dynamic y-limit\n",
    "    ax2.set_xlabel(\"Epochs\", fontsize=16)\n",
    "    ax2.set_ylabel(\"Regret (%)\", fontsize=16)\n",
    "    ax2.set_title(\"Learning Curve on Test Set\", fontsize=16)\n",
    "    ax2.grid(True, linestyle='--', alpha=0.7)\n",
    "    \n",
    "    # Add values to points\n",
    "    for i, r in enumerate(loss_log_regret):\n",
    "        ax2.annotate(f\"{r*100:.2f}%\", \n",
    "                     (i, r*100),\n",
    "                     textcoords=\"offset points\", \n",
    "                     xytext=(0,10), \n",
    "                     ha='center')\n",
    "    \n",
    "    plt.tight_layout()\n",
    "    # plt.savefig('learning_curves.png', dpi=300, bbox_inches='tight')\n",
    "    # print(\"Saved learning curves to 'learning_curves.png'\")\n",
    "    plt.show()\n",
    "\n",
    "print(\"\\nVisualizing learning curves...\")\n",
    "visLearningCurve(loss_log, loss_log_regret)\n",
    "visLearningCurve(loss_log_fl, loss_log_regret_fl)"
   ]
  }
 ],
 "metadata": {
  "kernelspec": {
   "display_name": "Python 3",
   "language": "python",
   "name": "python3"
  },
  "language_info": {
   "codemirror_mode": {
    "name": "ipython",
    "version": 3
   },
   "file_extension": ".py",
   "mimetype": "text/x-python",
   "name": "python",
   "nbconvert_exporter": "python",
   "pygments_lexer": "ipython3",
   "version": "3.11.4"
  }
 },
 "nbformat": 4,
 "nbformat_minor": 5
}
