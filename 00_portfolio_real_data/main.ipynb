{
 "cells": [
  {
   "cell_type": "code",
   "execution_count": 1,
   "metadata": {},
   "outputs": [
    {
     "name": "stdout",
     "output_type": "stream",
     "text": [
      "Using device: mps\n",
      "Using Apple Silicon GPU via Metal Performance Shaders (MPS)\n",
      "Restricted license - for non-production use only - expires 2026-11-23\n"
     ]
    }
   ],
   "source": [
    "from config import MARKET_MODEL_DIR\n",
    "from model_factory import build_market_neutral_model\n",
    "import pickle\n",
    "with open(MARKET_MODEL_DIR, \"rb\") as f:\n",
    "    params = pickle.load(f)\n",
    "\n",
    "model = build_market_neutral_model(**params)"
   ]
  },
  {
   "cell_type": "code",
   "execution_count": 2,
   "metadata": {},
   "outputs": [
    {
     "name": "stdout",
     "output_type": "stream",
     "text": [
      ">>> Precomputed mode enabled. Skipping time series processing and solution computation.\n"
     ]
    },
    {
     "name": "stderr",
     "output_type": "stream",
     "text": [
      "/Users/tarothousand/Library/Python/3.11/lib/python/site-packages/tqdm/auto.py:21: TqdmWarning: IProgress not found. Please update jupyter and ipywidgets. See https://ipywidgets.readthedocs.io/en/stable/user_install.html\n",
      "  from .autonotebook import tqdm as notebook_tqdm\n"
     ]
    }
   ],
   "source": [
    "from config import DATASET_DICT_PATH, TEST_DATASET_DICT_PATH\n",
    "from io_utils import load_dataset_dict, create_dataset_from_dict\n",
    "dataset_dict = load_dataset_dict(DATASET_DICT_PATH)\n",
    "dataset_train = create_dataset_from_dict(dataset_dict, model)"
   ]
  },
  {
   "cell_type": "code",
   "execution_count": 3,
   "metadata": {},
   "outputs": [
    {
     "name": "stdout",
     "output_type": "stream",
     "text": [
      ">>> Precomputed mode enabled. Skipping time series processing and solution computation.\n"
     ]
    }
   ],
   "source": [
    "test_dataset_dict = load_dataset_dict(TEST_DATASET_DICT_PATH)\n",
    "dataset_test = create_dataset_from_dict(test_dataset_dict, model)"
   ]
  },
  {
   "cell_type": "code",
   "execution_count": 4,
   "metadata": {},
   "outputs": [
    {
     "name": "stdout",
     "output_type": "stream",
     "text": [
      "Model architecture:\n",
      "lstm.weight_ih_l0              | Shape: torch.Size([256, 6]) | Parameters: 1536 | require_grad: True\n",
      "Mean Value: 0.0016319609712809324 | Grad: None\n",
      "--------------------------------------------------------------------------------\n",
      "lstm.weight_hh_l0              | Shape: torch.Size([256, 64]) | Parameters: 16384 | require_grad: True\n",
      "Mean Value: 0.00043674424523487687 | Grad: None\n",
      "--------------------------------------------------------------------------------\n",
      "lstm.bias_ih_l0                | Shape: torch.Size([256]) | Parameters: 256 | require_grad: True\n",
      "Mean Value: 0.00016901339404284954 | Grad: None\n",
      "--------------------------------------------------------------------------------\n",
      "lstm.bias_hh_l0                | Shape: torch.Size([256]) | Parameters: 256 | require_grad: True\n",
      "Mean Value: 0.006989049259573221 | Grad: None\n",
      "--------------------------------------------------------------------------------\n",
      "fc_layers.0.weight             | Shape: torch.Size([64]) | Parameters: 64 | require_grad: True\n",
      "Mean Value: 1.0 | Grad: None\n",
      "--------------------------------------------------------------------------------\n",
      "fc_layers.0.bias               | Shape: torch.Size([64]) | Parameters: 64 | require_grad: True\n",
      "Mean Value: 0.0 | Grad: None\n",
      "--------------------------------------------------------------------------------\n",
      "fc_layers.1.weight             | Shape: torch.Size([32, 64]) | Parameters: 2048 | require_grad: True\n",
      "Mean Value: 0.001666684402152896 | Grad: None\n",
      "--------------------------------------------------------------------------------\n",
      "fc_layers.1.bias               | Shape: torch.Size([32]) | Parameters: 32 | require_grad: True\n",
      "Mean Value: 0.0007349508814513683 | Grad: None\n",
      "--------------------------------------------------------------------------------\n",
      "fc_layers.4.weight             | Shape: torch.Size([1, 32]) | Parameters: 32 | require_grad: True\n",
      "Mean Value: 0.014923259615898132 | Grad: None\n",
      "--------------------------------------------------------------------------------\n",
      "fc_layers.4.bias               | Shape: torch.Size([1]) | Parameters: 1 | require_grad: True\n",
      "Mean Value: 0.12102163583040237 | Grad: None\n",
      "--------------------------------------------------------------------------------\n"
     ]
    }
   ],
   "source": [
    "from config import K, HIDDEN_DIM, LSTM_HIDDEN_DIM, DROPOUT_RATE, DEVICE\n",
    "from architecture import TwoLayerLSTM\n",
    "lstm = TwoLayerLSTM(k=K, hidden_dim=HIDDEN_DIM, lstm_hidden_dim=LSTM_HIDDEN_DIM, dropout_rate=DROPOUT_RATE).to(DEVICE)\n",
    "print(\"Model architecture:\")\n",
    "for name, param in lstm.named_parameters():\n",
    "    print(f\"{name:30s} | Shape: {param.data.shape} | Parameters: {param.numel()} | require_grad: {param.requires_grad}\")\n",
    "    print(f\"Mean Value: {param.data.mean()} | Grad: {param.grad}\")\n",
    "    print(\"-\" * 80)"
   ]
  },
  {
   "cell_type": "code",
   "execution_count": 5,
   "metadata": {},
   "outputs": [],
   "source": [
    "from data_loader import get_data_loaders\n",
    "# 创建 Subset 类\n",
    "from torch.utils.data import DataLoader\n",
    "from config import BATCH_SIZE\n",
    "# 假设 dataset_train, dataset_test 都是 optDataset 的实例\n",
    "loader_train = DataLoader(dataset_train, batch_size=BATCH_SIZE, shuffle=True, num_workers=0)\n",
    "loader_test  = DataLoader(dataset_test,  batch_size=BATCH_SIZE, shuffle=False, num_workers=0)\n",
    "\n",
    "loader_train, loader_test = get_data_loaders(dataset_train, dataset_test)"
   ]
  },
  {
   "cell_type": "code",
   "execution_count": 6,
   "metadata": {},
   "outputs": [
    {
     "name": "stdout",
     "output_type": "stream",
     "text": [
      "Num of cores: 1\n"
     ]
    },
    {
     "name": "stderr",
     "output_type": "stream",
     "text": [
      "/Users/tarothousand/Library/Python/3.11/lib/python/site-packages/torch/amp/grad_scaler.py:136: UserWarning: torch.cuda.amp.GradScaler is enabled, but CUDA is not available.  Disabling.\n",
      "  warnings.warn(\n"
     ]
    },
    {
     "name": "stdout",
     "output_type": "stream",
     "text": [
      "Initial regret: 54.6036%\n"
     ]
    },
    {
     "name": "stderr",
     "output_type": "stream",
     "text": [
      "Epoch 1/3: 100%|██████████| 13101/13101 [04:45<00:00, 45.82it/s, loss=0.0047, batch time=0.0184s]\n"
     ]
    },
    {
     "name": "stdout",
     "output_type": "stream",
     "text": [
      "Epoch 1: Loss=0.005099, Regret=56.8625%, Time=319.04s\n"
     ]
    },
    {
     "name": "stderr",
     "output_type": "stream",
     "text": [
      "Epoch 2/3: 100%|██████████| 13101/13101 [04:44<00:00, 45.99it/s, loss=0.0059, batch time=0.0184s]\n"
     ]
    },
    {
     "name": "stdout",
     "output_type": "stream",
     "text": [
      "Epoch 2: Loss=0.004478, Regret=57.6365%, Time=316.46s\n"
     ]
    },
    {
     "name": "stderr",
     "output_type": "stream",
     "text": [
      "Epoch 3/3: 100%|██████████| 13101/13101 [04:47<00:00, 45.56it/s, loss=0.0040, batch time=0.0183s]\n"
     ]
    },
    {
     "name": "stdout",
     "output_type": "stream",
     "text": [
      "Epoch 3: Loss=0.004387, Regret=57.5624%, Time=320.51s\n",
      "Total training time: 956.01s, Effective computation time: 735.45s\n",
      "模型参数已保存到 ./lstm/trial_13_assets.pt\n"
     ]
    }
   ],
   "source": [
    "from train import trainModel\n",
    "from config import NUM_EPOCHS, BATCH_SIZE, LR, LSTM_SAVE_DIR\n",
    "import os\n",
    "os.makedirs(LSTM_SAVE_DIR, exist_ok=True)   \n",
    "import pyepo\n",
    "import torch \n",
    "\n",
    "spop = pyepo.func.SPOPlus(model)\n",
    "loss_log, loss_log_regret = trainModel(\n",
    "    lstm, \n",
    "    loss_func=spop, \n",
    "    method_name=\"spo+\",\n",
    "    loader_train=loader_train,\n",
    "    loader_test=loader_test,\n",
    "    market_neutral_model=model,\n",
    "    num_epochs=NUM_EPOCHS,  # Increased for better convergence\n",
    "    lr=LR        # Adjusted learning rate\n",
    ")\n",
    "\n",
    "lstm_save_path = os.path.join(LSTM_SAVE_DIR, \"trial_13_assets.pt\")\n",
    "torch.save({\n",
    "    'model_state_dict': lstm.state_dict(),\n",
    "    'loss_log': loss_log,\n",
    "    'loss_log_regret': loss_log_regret\n",
    "}, lstm_save_path)\n",
    "\n",
    "print(f\"模型参数已保存到 {lstm_save_path}\")"
   ]
  },
  {
   "cell_type": "code",
   "execution_count": 7,
   "metadata": {},
   "outputs": [
    {
     "name": "stdout",
     "output_type": "stream",
     "text": [
      "\n",
      "Visualizing learning curves...\n"
     ]
    },
    {
     "data": {
      "image/png": "[encoded data removed]",
      "text/plain": [
       "<Figure size 1600x400 with 2 Axes>"
      ]
     },
     "metadata": {},
     "output_type": "display_data"
    }
   ],
   "source": [
    "#############################################################################\n",
    "# VISUALIZATION\n",
    "#############################################################################\n",
    "from matplotlib import pyplot as plt\n",
    "import numpy as np\n",
    "\n",
    "\n",
    "def visLearningCurve(loss_log, loss_log_regret):\n",
    "    \"\"\"Enhanced visualization with smoother curves and more information\"\"\"\n",
    "    # Create figure and subplots\n",
    "    fig, (ax1, ax2) = plt.subplots(1, 2, figsize=(16,4))\n",
    "    \n",
    "    # Plot training loss with smoothing for readability\n",
    "    n_points = len(loss_log)\n",
    "    \n",
    "    # Apply smoothing for large datasets\n",
    "    if n_points > 100:\n",
    "        window_size = max(10, n_points // 50)\n",
    "        smoothed_loss = np.convolve(loss_log, np.ones(window_size)/window_size, mode='valid')\n",
    "        x_axis = np.arange(len(smoothed_loss))\n",
    "        ax1.plot(x_axis, smoothed_loss, color=\"c\", lw=2, label=f\"Smoothed (window={window_size})\")\n",
    "        # Also plot the raw data with transparency\n",
    "        ax1.plot(loss_log, color=\"c\", lw=0.5, alpha=0.3, label=\"Raw\")\n",
    "        ax1.legend()\n",
    "    else:\n",
    "        # For smaller datasets, just plot the raw data\n",
    "        ax1.plot(loss_log, color=\"c\", lw=2)\n",
    "    \n",
    "    ax1.tick_params(axis=\"both\", which=\"major\", labelsize=12)\n",
    "    ax1.set_xlabel(\"Iterations\", fontsize=16)\n",
    "    ax1.set_ylabel(\"Loss\", fontsize=16)\n",
    "    ax1.set_title(\"Learning Curve on Training Set\", fontsize=16)\n",
    "    ax1.grid(True, linestyle='--', alpha=0.7)\n",
    "    \n",
    "    # Draw plot for regret on test set\n",
    "    epochs = np.arange(len(loss_log_regret))\n",
    "    ax2.plot(epochs, [r*100 for r in loss_log_regret], \n",
    "             color=\"royalblue\", marker='o', ls=\"-\", alpha=0.8, lw=2)\n",
    "    \n",
    "    ax2.tick_params(axis=\"both\", which=\"major\", labelsize=12)\n",
    "    ax2.set_ylim(0, max(50, max([r*100 for r in loss_log_regret])*1.1))  # Dynamic y-limit\n",
    "    ax2.set_xlabel(\"Epochs\", fontsize=16)\n",
    "    ax2.set_ylabel(\"Regret (%)\", fontsize=16)\n",
    "    ax2.set_title(\"Learning Curve on Test Set\", fontsize=16)\n",
    "    ax2.grid(True, linestyle='--', alpha=0.7)\n",
    "    \n",
    "    # Add values to points\n",
    "    for i, r in enumerate(loss_log_regret):\n",
    "        ax2.annotate(f\"{r*100:.2f}%\", \n",
    "                     (i, r*100),\n",
    "                     textcoords=\"offset points\", \n",
    "                     xytext=(0,10), \n",
    "                     ha='center')\n",
    "    \n",
    "    plt.tight_layout()\n",
    "    # plt.savefig('learning_curves.png', dpi=300, bbox_inches='tight')\n",
    "    # print(\"Saved learning curves to 'learning_curves.png'\")\n",
    "    plt.show()\n",
    "\n",
    "print(\"\\nVisualizing learning curves...\")\n",
    "visLearningCurve(loss_log, loss_log_regret)"
   ]
  },
  {
   "cell_type": "markdown",
   "metadata": {},
   "source": [
    "### 回测"
   ]
  },
  {
   "cell_type": "code",
   "execution_count": 8,
   "metadata": {},
   "outputs": [
    {
     "name": "stdout",
     "output_type": "stream",
     "text": [
      "Model architecture after training:\n",
      "lstm.weight_ih_l0              | Shape: torch.Size([256, 6]) | Parameters: 1536 | require_grad: True\n",
      "Mean Value: 0.08156098425388336 | Grad: None\n",
      "--------------------------------------------------------------------------------\n",
      "lstm.weight_hh_l0              | Shape: torch.Size([256, 64]) | Parameters: 16384 | require_grad: True\n",
      "Mean Value: 0.012302311137318611 | Grad: None\n",
      "--------------------------------------------------------------------------------\n",
      "lstm.bias_ih_l0                | Shape: torch.Size([256]) | Parameters: 256 | require_grad: True\n",
      "Mean Value: -0.16120581328868866 | Grad: None\n",
      "--------------------------------------------------------------------------------\n",
      "lstm.bias_hh_l0                | Shape: torch.Size([256]) | Parameters: 256 | require_grad: True\n",
      "Mean Value: -0.16908016800880432 | Grad: None\n",
      "--------------------------------------------------------------------------------\n",
      "fc_layers.0.weight             | Shape: torch.Size([64]) | Parameters: 64 | require_grad: True\n",
      "Mean Value: 0.5807597637176514 | Grad: None\n",
      "--------------------------------------------------------------------------------\n",
      "fc_layers.0.bias               | Shape: torch.Size([64]) | Parameters: 64 | require_grad: True\n",
      "Mean Value: -0.012287400662899017 | Grad: None\n",
      "--------------------------------------------------------------------------------\n",
      "fc_layers.1.weight             | Shape: torch.Size([32, 64]) | Parameters: 2048 | require_grad: True\n",
      "Mean Value: 0.003130370518192649 | Grad: None\n",
      "--------------------------------------------------------------------------------\n",
      "fc_layers.1.bias               | Shape: torch.Size([32]) | Parameters: 32 | require_grad: True\n",
      "Mean Value: -0.22038765251636505 | Grad: None\n",
      "--------------------------------------------------------------------------------\n",
      "fc_layers.4.weight             | Shape: torch.Size([1, 32]) | Parameters: 32 | require_grad: True\n",
      "Mean Value: -0.004109307657927275 | Grad: None\n",
      "--------------------------------------------------------------------------------\n",
      "fc_layers.4.bias               | Shape: torch.Size([1]) | Parameters: 1 | require_grad: True\n",
      "Mean Value: 29.48271942138672 | Grad: None\n",
      "--------------------------------------------------------------------------------\n"
     ]
    }
   ],
   "source": [
    "from train import trainModel\n",
    "from config import NUM_EPOCHS, BATCH_SIZE, LR, LSTM_SAVE_DIR\n",
    "import pyepo\n",
    "import torch \n",
    "import os\n",
    "\n",
    "lstm_save_path = os.path.join(LSTM_SAVE_DIR, \"trial_13_assets.pt\")\n",
    "lstm_eval = TwoLayerLSTM(k=K, hidden_dim=HIDDEN_DIM, lstm_hidden_dim=LSTM_HIDDEN_DIM, dropout_rate=DROPOUT_RATE).to(DEVICE)\n",
    "checkpoint = torch.load(lstm_save_path, map_location=DEVICE, weights_only=False)\n",
    "lstm_eval.load_state_dict(checkpoint['model_state_dict'])\n",
    "print(\"Model architecture after training:\")\n",
    "for name, param in lstm_eval.named_parameters():\n",
    "    print(f\"{name:30s} | Shape: {param.data.shape} | Parameters: {param.numel()} | require_grad: {param.requires_grad}\")\n",
    "    print(f\"Mean Value: {param.data.mean()} | Grad: {param.grad}\")\n",
    "    print(\"-\" * 80)"
   ]
  },
  {
   "cell_type": "code",
   "execution_count": 10,
   "metadata": {},
   "outputs": [
    {
     "name": "stdout",
     "output_type": "stream",
     "text": [
      "预测的收益率矩阵形状是: (26202, 13)\n"
     ]
    }
   ],
   "source": [
    "import numpy as np\n",
    "# set lstm to evaluation mode\n",
    "lstm_eval.eval()\n",
    "\n",
    "pred_returns = [] # predicted returns\n",
    "with torch.no_grad():\n",
    "    for x, _, _, _ in loader_test:\n",
    "        # 1. 预测 returns\n",
    "        x = x.to(DEVICE)                      # (batch_size, N, lookback, k)\n",
    "        pred_return = lstm_eval(x)                   # (batch_size, N)\n",
    "        pred_return = pred_return.cpu().numpy()             # 转成ndarray\n",
    "        pred_returns.append(pred_return)\n",
    "\n",
    "pred_returns = np.vstack(pred_returns) # (T, N)\n",
    "print(f\"预测的收益率矩阵形状是: {pred_returns.shape}\")"
   ]
  },
  {
   "cell_type": "code",
   "execution_count": 11,
   "metadata": {},
   "outputs": [
    {
     "name": "stdout",
     "output_type": "stream",
     "text": [
      "测试集feature的形状是: (26202, 13, 6)\n"
     ]
    }
   ],
   "source": [
    "feats_test = np.load(\"/Users/tarothousand/Desktop/EndToEnd/my-PyEPO/00_portfolio_real_data/test_data/features_crypto_data.npy\")\n",
    "print(f\"测试集feature的形状是: {feats_test.shape}\")"
   ]
  },
  {
   "cell_type": "code",
   "execution_count": 12,
   "metadata": {},
   "outputs": [
    {
     "name": "stdout",
     "output_type": "stream",
     "text": [
      "\n",
      " 共享内存子进程处理样本 0 到 499...\n",
      "Using device: mps\n",
      "Using Apple Silicon GPU via Metal Performance Shaders (MPS)\n",
      "Restricted license - for non-production use only - expires 2026-11-23\n",
      "\n",
      "Optimizing for optDataset...\n"
     ]
    },
    {
     "name": "stderr",
     "output_type": "stream",
     "text": [
      "100%|██████████| 500/500 [00:00<00:00, 3822.78it/s]\n"
     ]
    },
    {
     "name": "stdout",
     "output_type": "stream",
     "text": [
      "\n",
      " 共享内存子进程处理样本 500 到 999...\n",
      "Using device: mps\n",
      "Using Apple Silicon GPU via Metal Performance Shaders (MPS)\n",
      "Restricted license - for non-production use only - expires 2026-11-23\n",
      "\n",
      "Optimizing for optDataset...\n"
     ]
    },
    {
     "name": "stderr",
     "output_type": "stream",
     "text": [
      "100%|██████████| 500/500 [00:00<00:00, 3838.98it/s]\n"
     ]
    },
    {
     "name": "stdout",
     "output_type": "stream",
     "text": [
      "\n",
      " 共享内存子进程处理样本 1000 到 1499...\n",
      "Using device: mps\n",
      "Using Apple Silicon GPU via Metal Performance Shaders (MPS)\n",
      "Restricted license - for non-production use only - expires 2026-11-23\n",
      "\n",
      "Optimizing for optDataset...\n"
     ]
    },
    {
     "name": "stderr",
     "output_type": "stream",
     "text": [
      "100%|██████████| 500/500 [00:00<00:00, 3681.86it/s]\n"
     ]
    },
    {
     "name": "stdout",
     "output_type": "stream",
     "text": [
      "\n",
      " 共享内存子进程处理样本 1500 到 1999...\n",
      "Using device: mps\n",
      "Using Apple Silicon GPU via Metal Performance Shaders (MPS)\n",
      "Restricted license - for non-production use only - expires 2026-11-23\n",
      "\n",
      "Optimizing for optDataset...\n"
     ]
    },
    {
     "name": "stderr",
     "output_type": "stream",
     "text": [
      "100%|██████████| 500/500 [00:00<00:00, 3793.31it/s]\n"
     ]
    },
    {
     "name": "stdout",
     "output_type": "stream",
     "text": [
      "\n",
      " 共享内存子进程处理样本 2000 到 2499...\n",
      "Using device: mps\n",
      "Using Apple Silicon GPU via Metal Performance Shaders (MPS)\n",
      "Restricted license - for non-production use only - expires 2026-11-23\n",
      "\n",
      "Optimizing for optDataset...\n"
     ]
    },
    {
     "name": "stderr",
     "output_type": "stream",
     "text": [
      "100%|██████████| 500/500 [00:00<00:00, 3854.28it/s]\n"
     ]
    },
    {
     "name": "stdout",
     "output_type": "stream",
     "text": [
      "\n",
      " 共享内存子进程处理样本 2500 到 2999...\n",
      "Using device: mps\n",
      "Using Apple Silicon GPU via Metal Performance Shaders (MPS)\n",
      "Restricted license - for non-production use only - expires 2026-11-23\n",
      "\n",
      "Optimizing for optDataset...\n"
     ]
    },
    {
     "name": "stderr",
     "output_type": "stream",
     "text": [
      "100%|██████████| 500/500 [00:00<00:00, 3956.08it/s]\n"
     ]
    },
    {
     "name": "stdout",
     "output_type": "stream",
     "text": [
      "\n",
      " 共享内存子进程处理样本 3000 到 3499...\n",
      "Using device: mps\n",
      "Using Apple Silicon GPU via Metal Performance Shaders (MPS)\n",
      "Restricted license - for non-production use only - expires 2026-11-23\n",
      "\n",
      "Optimizing for optDataset...\n"
     ]
    },
    {
     "name": "stderr",
     "output_type": "stream",
     "text": [
      "100%|██████████| 500/500 [00:00<00:00, 3981.43it/s]\n"
     ]
    },
    {
     "name": "stdout",
     "output_type": "stream",
     "text": [
      "\n",
      " 共享内存子进程处理样本 3500 到 3999...\n",
      "Using device: mps\n",
      "Using Apple Silicon GPU via Metal Performance Shaders (MPS)\n",
      "Restricted license - for non-production use only - expires 2026-11-23\n",
      "\n",
      "Optimizing for optDataset...\n"
     ]
    },
    {
     "name": "stderr",
     "output_type": "stream",
     "text": [
      "100%|██████████| 500/500 [00:00<00:00, 3866.74it/s]\n"
     ]
    },
    {
     "name": "stdout",
     "output_type": "stream",
     "text": [
      "\n",
      " 共享内存子进程处理样本 4000 到 4499...\n",
      "Using device: mps\n",
      "Using Apple Silicon GPU via Metal Performance Shaders (MPS)\n",
      "Restricted license - for non-production use only - expires 2026-11-23\n",
      "\n",
      "Optimizing for optDataset...\n"
     ]
    },
    {
     "name": "stderr",
     "output_type": "stream",
     "text": [
      "100%|██████████| 500/500 [00:00<00:00, 3911.71it/s]\n"
     ]
    },
    {
     "name": "stdout",
     "output_type": "stream",
     "text": [
      "\n",
      " 共享内存子进程处理样本 4500 到 4999...\n",
      "Using device: mps\n",
      "Using Apple Silicon GPU via Metal Performance Shaders (MPS)\n",
      "Restricted license - for non-production use only - expires 2026-11-23\n",
      "\n",
      "Optimizing for optDataset...\n"
     ]
    },
    {
     "name": "stderr",
     "output_type": "stream",
     "text": [
      "100%|██████████| 500/500 [00:00<00:00, 3994.16it/s]\n"
     ]
    },
    {
     "name": "stdout",
     "output_type": "stream",
     "text": [
      "\n",
      " 共享内存子进程处理样本 5000 到 5499...\n",
      "Using device: mps\n",
      "Using Apple Silicon GPU via Metal Performance Shaders (MPS)\n",
      "Restricted license - for non-production use only - expires 2026-11-23\n",
      "\n",
      "Optimizing for optDataset...\n"
     ]
    },
    {
     "name": "stderr",
     "output_type": "stream",
     "text": [
      "100%|██████████| 500/500 [00:00<00:00, 3956.51it/s]\n"
     ]
    },
    {
     "name": "stdout",
     "output_type": "stream",
     "text": [
      "\n",
      " 共享内存子进程处理样本 5500 到 5999...\n",
      "Using device: mps\n",
      "Using Apple Silicon GPU via Metal Performance Shaders (MPS)\n",
      "Restricted license - for non-production use only - expires 2026-11-23\n",
      "\n",
      "Optimizing for optDataset...\n"
     ]
    },
    {
     "name": "stderr",
     "output_type": "stream",
     "text": [
      "100%|██████████| 500/500 [00:00<00:00, 3892.50it/s]\n"
     ]
    },
    {
     "name": "stdout",
     "output_type": "stream",
     "text": [
      "\n",
      " 共享内存子进程处理样本 6000 到 6499...\n",
      "Using device: mps\n",
      "Using Apple Silicon GPU via Metal Performance Shaders (MPS)\n",
      "Restricted license - for non-production use only - expires 2026-11-23\n",
      "\n",
      "Optimizing for optDataset...\n"
     ]
    },
    {
     "name": "stderr",
     "output_type": "stream",
     "text": [
      "100%|██████████| 500/500 [00:00<00:00, 3894.32it/s]\n"
     ]
    },
    {
     "name": "stdout",
     "output_type": "stream",
     "text": [
      "\n",
      " 共享内存子进程处理样本 6500 到 6999...\n",
      "Using device: mps\n",
      "Using Apple Silicon GPU via Metal Performance Shaders (MPS)\n",
      "Restricted license - for non-production use only - expires 2026-11-23\n",
      "\n",
      "Optimizing for optDataset...\n"
     ]
    },
    {
     "name": "stderr",
     "output_type": "stream",
     "text": [
      "100%|██████████| 500/500 [00:00<00:00, 3902.68it/s]\n"
     ]
    },
    {
     "name": "stdout",
     "output_type": "stream",
     "text": [
      "\n",
      " 共享内存子进程处理样本 7000 到 7499...\n",
      "Using device: mps\n",
      "Using Apple Silicon GPU via Metal Performance Shaders (MPS)\n",
      "Restricted license - for non-production use only - expires 2026-11-23\n",
      "\n",
      "Optimizing for optDataset...\n"
     ]
    },
    {
     "name": "stderr",
     "output_type": "stream",
     "text": [
      "100%|██████████| 500/500 [00:00<00:00, 3795.39it/s]\n"
     ]
    },
    {
     "name": "stdout",
     "output_type": "stream",
     "text": [
      "\n",
      " 共享内存子进程处理样本 7500 到 7999...\n",
      "Using device: mps\n",
      "Using Apple Silicon GPU via Metal Performance Shaders (MPS)\n",
      "Restricted license - for non-production use only - expires 2026-11-23\n",
      "\n",
      "Optimizing for optDataset...\n"
     ]
    },
    {
     "name": "stderr",
     "output_type": "stream",
     "text": [
      "100%|██████████| 500/500 [00:00<00:00, 3938.11it/s]\n"
     ]
    },
    {
     "name": "stdout",
     "output_type": "stream",
     "text": [
      "\n",
      " 共享内存子进程处理样本 8000 到 8499...\n",
      "Using device: mps\n",
      "Using Apple Silicon GPU via Metal Performance Shaders (MPS)\n",
      "Restricted license - for non-production use only - expires 2026-11-23\n",
      "\n",
      "Optimizing for optDataset...\n"
     ]
    },
    {
     "name": "stderr",
     "output_type": "stream",
     "text": [
      "100%|██████████| 500/500 [00:00<00:00, 3744.09it/s]\n"
     ]
    },
    {
     "name": "stdout",
     "output_type": "stream",
     "text": [
      "\n",
      " 共享内存子进程处理样本 8500 到 8999...\n",
      "Using device: mps\n",
      "Using Apple Silicon GPU via Metal Performance Shaders (MPS)\n",
      "Restricted license - for non-production use only - expires 2026-11-23\n",
      "\n",
      "Optimizing for optDataset...\n"
     ]
    },
    {
     "name": "stderr",
     "output_type": "stream",
     "text": [
      "100%|██████████| 500/500 [00:00<00:00, 3766.13it/s]\n"
     ]
    },
    {
     "name": "stdout",
     "output_type": "stream",
     "text": [
      "\n",
      " 共享内存子进程处理样本 9000 到 9499...\n",
      "Using device: mps\n",
      "Using Apple Silicon GPU via Metal Performance Shaders (MPS)\n",
      "Restricted license - for non-production use only - expires 2026-11-23\n",
      "\n",
      "Optimizing for optDataset...\n"
     ]
    },
    {
     "name": "stderr",
     "output_type": "stream",
     "text": [
      "100%|██████████| 500/500 [00:00<00:00, 3933.25it/s]\n"
     ]
    },
    {
     "name": "stdout",
     "output_type": "stream",
     "text": [
      "\n",
      " 共享内存子进程处理样本 9500 到 9999...\n",
      "Using device: mps\n",
      "Using Apple Silicon GPU via Metal Performance Shaders (MPS)\n",
      "Restricted license - for non-production use only - expires 2026-11-23\n",
      "\n",
      "Optimizing for optDataset...\n"
     ]
    },
    {
     "name": "stderr",
     "output_type": "stream",
     "text": [
      "100%|██████████| 500/500 [00:00<00:00, 3753.47it/s]\n"
     ]
    },
    {
     "name": "stdout",
     "output_type": "stream",
     "text": [
      "\n",
      " 共享内存子进程处理样本 10000 到 10499...\n",
      "Using device: mps\n",
      "Using Apple Silicon GPU via Metal Performance Shaders (MPS)\n",
      "Restricted license - for non-production use only - expires 2026-11-23\n",
      "\n",
      "Optimizing for optDataset...\n"
     ]
    },
    {
     "name": "stderr",
     "output_type": "stream",
     "text": [
      "100%|██████████| 500/500 [00:00<00:00, 3924.34it/s]\n"
     ]
    },
    {
     "name": "stdout",
     "output_type": "stream",
     "text": [
      "\n",
      " 共享内存子进程处理样本 10500 到 10999...\n",
      "Using device: mps\n",
      "Using Apple Silicon GPU via Metal Performance Shaders (MPS)\n",
      "Restricted license - for non-production use only - expires 2026-11-23\n",
      "\n",
      "Optimizing for optDataset...\n"
     ]
    },
    {
     "name": "stderr",
     "output_type": "stream",
     "text": [
      "100%|██████████| 500/500 [00:00<00:00, 3974.40it/s]\n"
     ]
    },
    {
     "name": "stdout",
     "output_type": "stream",
     "text": [
      "\n",
      " 共享内存子进程处理样本 11000 到 11499...\n",
      "Using device: mps\n",
      "Using Apple Silicon GPU via Metal Performance Shaders (MPS)\n",
      "Restricted license - for non-production use only - expires 2026-11-23\n",
      "\n",
      "Optimizing for optDataset...\n"
     ]
    },
    {
     "name": "stderr",
     "output_type": "stream",
     "text": [
      "100%|██████████| 500/500 [00:00<00:00, 3748.88it/s]\n"
     ]
    },
    {
     "name": "stdout",
     "output_type": "stream",
     "text": [
      "\n",
      " 共享内存子进程处理样本 11500 到 11999...\n",
      "Using device: mps\n",
      "Using Apple Silicon GPU via Metal Performance Shaders (MPS)\n",
      "Restricted license - for non-production use only - expires 2026-11-23\n",
      "\n",
      "Optimizing for optDataset...\n"
     ]
    },
    {
     "name": "stderr",
     "output_type": "stream",
     "text": [
      "100%|██████████| 500/500 [00:00<00:00, 3915.67it/s]\n"
     ]
    },
    {
     "name": "stdout",
     "output_type": "stream",
     "text": [
      "\n",
      " 共享内存子进程处理样本 12000 到 12499...\n",
      "Using device: mps\n",
      "Using Apple Silicon GPU via Metal Performance Shaders (MPS)\n",
      "Restricted license - for non-production use only - expires 2026-11-23\n",
      "\n",
      "Optimizing for optDataset...\n"
     ]
    },
    {
     "name": "stderr",
     "output_type": "stream",
     "text": [
      "100%|██████████| 500/500 [00:00<00:00, 3904.75it/s]\n"
     ]
    },
    {
     "name": "stdout",
     "output_type": "stream",
     "text": [
      "\n",
      " 共享内存子进程处理样本 12500 到 12999...\n",
      "Using device: mps\n",
      "Using Apple Silicon GPU via Metal Performance Shaders (MPS)\n",
      "Restricted license - for non-production use only - expires 2026-11-23\n",
      "\n",
      "Optimizing for optDataset...\n"
     ]
    },
    {
     "name": "stderr",
     "output_type": "stream",
     "text": [
      "100%|██████████| 500/500 [00:00<00:00, 3960.21it/s]\n"
     ]
    },
    {
     "name": "stdout",
     "output_type": "stream",
     "text": [
      "\n",
      " 共享内存子进程处理样本 13000 到 13499...\n",
      "Using device: mps\n",
      "Using Apple Silicon GPU via Metal Performance Shaders (MPS)\n",
      "Restricted license - for non-production use only - expires 2026-11-23\n",
      "\n",
      "Optimizing for optDataset...\n"
     ]
    },
    {
     "name": "stderr",
     "output_type": "stream",
     "text": [
      "100%|██████████| 500/500 [00:00<00:00, 3816.24it/s]\n"
     ]
    },
    {
     "name": "stdout",
     "output_type": "stream",
     "text": [
      "\n",
      " 共享内存子进程处理样本 13500 到 13999...\n",
      "Using device: mps\n",
      "Using Apple Silicon GPU via Metal Performance Shaders (MPS)\n",
      "Restricted license - for non-production use only - expires 2026-11-23\n",
      "\n",
      "Optimizing for optDataset...\n"
     ]
    },
    {
     "name": "stderr",
     "output_type": "stream",
     "text": [
      "100%|██████████| 500/500 [00:00<00:00, 3895.99it/s]\n"
     ]
    },
    {
     "name": "stdout",
     "output_type": "stream",
     "text": [
      "\n",
      " 共享内存子进程处理样本 14000 到 14499...\n",
      "Using device: mps\n",
      "Using Apple Silicon GPU via Metal Performance Shaders (MPS)\n",
      "Restricted license - for non-production use only - expires 2026-11-23\n",
      "\n",
      "Optimizing for optDataset...\n"
     ]
    },
    {
     "name": "stderr",
     "output_type": "stream",
     "text": [
      "100%|██████████| 500/500 [00:00<00:00, 3909.48it/s]\n"
     ]
    },
    {
     "name": "stdout",
     "output_type": "stream",
     "text": [
      "\n",
      " 共享内存子进程处理样本 14500 到 14999...\n",
      "Using device: mps\n",
      "Using Apple Silicon GPU via Metal Performance Shaders (MPS)\n",
      "Restricted license - for non-production use only - expires 2026-11-23\n",
      "\n",
      "Optimizing for optDataset...\n"
     ]
    },
    {
     "name": "stderr",
     "output_type": "stream",
     "text": [
      "100%|██████████| 500/500 [00:00<00:00, 3893.39it/s]\n"
     ]
    },
    {
     "name": "stdout",
     "output_type": "stream",
     "text": [
      "\n",
      " 共享内存子进程处理样本 15000 到 15499...\n",
      "Using device: mps\n",
      "Using Apple Silicon GPU via Metal Performance Shaders (MPS)\n",
      "Restricted license - for non-production use only - expires 2026-11-23\n",
      "\n",
      "Optimizing for optDataset...\n"
     ]
    },
    {
     "name": "stderr",
     "output_type": "stream",
     "text": [
      "100%|██████████| 500/500 [00:00<00:00, 3993.92it/s]\n"
     ]
    },
    {
     "name": "stdout",
     "output_type": "stream",
     "text": [
      "\n",
      " 共享内存子进程处理样本 15500 到 15999...\n",
      "Using device: mps\n",
      "Using Apple Silicon GPU via Metal Performance Shaders (MPS)\n",
      "Restricted license - for non-production use only - expires 2026-11-23\n",
      "\n",
      "Optimizing for optDataset...\n"
     ]
    },
    {
     "name": "stderr",
     "output_type": "stream",
     "text": [
      "100%|██████████| 500/500 [00:00<00:00, 3858.54it/s]\n"
     ]
    },
    {
     "name": "stdout",
     "output_type": "stream",
     "text": [
      "\n",
      " 共享内存子进程处理样本 16000 到 16499...\n",
      "Using device: mps\n",
      "Using Apple Silicon GPU via Metal Performance Shaders (MPS)\n",
      "Restricted license - for non-production use only - expires 2026-11-23\n",
      "\n",
      "Optimizing for optDataset...\n"
     ]
    },
    {
     "name": "stderr",
     "output_type": "stream",
     "text": [
      "100%|██████████| 500/500 [00:00<00:00, 3884.25it/s]\n"
     ]
    },
    {
     "name": "stdout",
     "output_type": "stream",
     "text": [
      "\n",
      " 共享内存子进程处理样本 16500 到 16999...\n",
      "Using device: mps\n",
      "Using Apple Silicon GPU via Metal Performance Shaders (MPS)\n",
      "Restricted license - for non-production use only - expires 2026-11-23\n",
      "\n",
      "Optimizing for optDataset...\n"
     ]
    },
    {
     "name": "stderr",
     "output_type": "stream",
     "text": [
      "100%|██████████| 500/500 [00:00<00:00, 3883.07it/s]\n"
     ]
    },
    {
     "name": "stdout",
     "output_type": "stream",
     "text": [
      "\n",
      " 共享内存子进程处理样本 17000 到 17499...\n",
      "Using device: mps\n",
      "Using Apple Silicon GPU via Metal Performance Shaders (MPS)\n",
      "Restricted license - for non-production use only - expires 2026-11-23\n",
      "\n",
      "Optimizing for optDataset...\n"
     ]
    },
    {
     "name": "stderr",
     "output_type": "stream",
     "text": [
      "100%|██████████| 500/500 [00:00<00:00, 3959.24it/s]\n"
     ]
    },
    {
     "name": "stdout",
     "output_type": "stream",
     "text": [
      "\n",
      " 共享内存子进程处理样本 17500 到 17999...\n",
      "Using device: mps\n",
      "Using Apple Silicon GPU via Metal Performance Shaders (MPS)\n",
      "Restricted license - for non-production use only - expires 2026-11-23\n",
      "\n",
      "Optimizing for optDataset...\n"
     ]
    },
    {
     "name": "stderr",
     "output_type": "stream",
     "text": [
      "100%|██████████| 500/500 [00:00<00:00, 3852.29it/s]\n"
     ]
    },
    {
     "name": "stdout",
     "output_type": "stream",
     "text": [
      "\n",
      " 共享内存子进程处理样本 18000 到 18499...\n",
      "Using device: mps\n",
      "Using Apple Silicon GPU via Metal Performance Shaders (MPS)\n",
      "Restricted license - for non-production use only - expires 2026-11-23\n",
      "\n",
      "Optimizing for optDataset...\n"
     ]
    },
    {
     "name": "stderr",
     "output_type": "stream",
     "text": [
      "100%|██████████| 500/500 [00:00<00:00, 3874.65it/s]\n"
     ]
    },
    {
     "name": "stdout",
     "output_type": "stream",
     "text": [
      "\n",
      " 共享内存子进程处理样本 18500 到 18999...\n",
      "Using device: mps\n",
      "Using Apple Silicon GPU via Metal Performance Shaders (MPS)\n",
      "Restricted license - for non-production use only - expires 2026-11-23\n",
      "\n",
      "Optimizing for optDataset...\n"
     ]
    },
    {
     "name": "stderr",
     "output_type": "stream",
     "text": [
      "100%|██████████| 500/500 [00:00<00:00, 3712.14it/s]\n"
     ]
    },
    {
     "name": "stdout",
     "output_type": "stream",
     "text": [
      "\n",
      " 共享内存子进程处理样本 19000 到 19499...\n",
      "Using device: mps\n",
      "Using Apple Silicon GPU via Metal Performance Shaders (MPS)\n",
      "Restricted license - for non-production use only - expires 2026-11-23\n",
      "\n",
      "Optimizing for optDataset...\n"
     ]
    },
    {
     "name": "stderr",
     "output_type": "stream",
     "text": [
      "100%|██████████| 500/500 [00:00<00:00, 3688.73it/s]\n"
     ]
    },
    {
     "name": "stdout",
     "output_type": "stream",
     "text": [
      "\n",
      " 共享内存子进程处理样本 19500 到 19999...\n",
      "Using device: mps\n",
      "Using Apple Silicon GPU via Metal Performance Shaders (MPS)\n",
      "Restricted license - for non-production use only - expires 2026-11-23\n",
      "\n",
      "Optimizing for optDataset...\n"
     ]
    },
    {
     "name": "stderr",
     "output_type": "stream",
     "text": [
      "100%|██████████| 500/500 [00:00<00:00, 3041.97it/s]\n"
     ]
    },
    {
     "name": "stdout",
     "output_type": "stream",
     "text": [
      "\n",
      " 共享内存子进程处理样本 20000 到 20499...\n",
      "Using device: mps\n",
      "Using Apple Silicon GPU via Metal Performance Shaders (MPS)\n",
      "Restricted license - for non-production use only - expires 2026-11-23\n",
      "\n",
      "Optimizing for optDataset...\n"
     ]
    },
    {
     "name": "stderr",
     "output_type": "stream",
     "text": [
      "100%|██████████| 500/500 [00:00<00:00, 3763.19it/s]\n"
     ]
    },
    {
     "name": "stdout",
     "output_type": "stream",
     "text": [
      "\n",
      " 共享内存子进程处理样本 20500 到 20999...\n",
      "Using device: mps\n",
      "Using Apple Silicon GPU via Metal Performance Shaders (MPS)\n",
      "Restricted license - for non-production use only - expires 2026-11-23\n",
      "\n",
      "Optimizing for optDataset...\n"
     ]
    },
    {
     "name": "stderr",
     "output_type": "stream",
     "text": [
      "100%|██████████| 500/500 [00:00<00:00, 3883.95it/s]\n"
     ]
    },
    {
     "name": "stdout",
     "output_type": "stream",
     "text": [
      "\n",
      " 共享内存子进程处理样本 21000 到 21499...\n",
      "Using device: mps\n",
      "Using Apple Silicon GPU via Metal Performance Shaders (MPS)\n",
      "Restricted license - for non-production use only - expires 2026-11-23\n",
      "\n",
      "Optimizing for optDataset...\n"
     ]
    },
    {
     "name": "stderr",
     "output_type": "stream",
     "text": [
      "100%|██████████| 500/500 [00:00<00:00, 3870.54it/s]\n"
     ]
    },
    {
     "name": "stdout",
     "output_type": "stream",
     "text": [
      "\n",
      " 共享内存子进程处理样本 21500 到 21999...\n",
      "Using device: mps\n",
      "Using Apple Silicon GPU via Metal Performance Shaders (MPS)\n",
      "Restricted license - for non-production use only - expires 2026-11-23\n",
      "\n",
      "Optimizing for optDataset...\n"
     ]
    },
    {
     "name": "stderr",
     "output_type": "stream",
     "text": [
      "100%|██████████| 500/500 [00:00<00:00, 3999.72it/s]\n"
     ]
    },
    {
     "name": "stdout",
     "output_type": "stream",
     "text": [
      "\n",
      " 共享内存子进程处理样本 22000 到 22499...\n",
      "Using device: mps\n",
      "Using Apple Silicon GPU via Metal Performance Shaders (MPS)\n",
      "Restricted license - for non-production use only - expires 2026-11-23\n",
      "\n",
      "Optimizing for optDataset...\n"
     ]
    },
    {
     "name": "stderr",
     "output_type": "stream",
     "text": [
      "100%|██████████| 500/500 [00:00<00:00, 3915.45it/s]\n"
     ]
    },
    {
     "name": "stdout",
     "output_type": "stream",
     "text": [
      "\n",
      " 共享内存子进程处理样本 22500 到 22999...\n",
      "Using device: mps\n",
      "Using Apple Silicon GPU via Metal Performance Shaders (MPS)\n",
      "Restricted license - for non-production use only - expires 2026-11-23\n",
      "\n",
      "Optimizing for optDataset...\n"
     ]
    },
    {
     "name": "stderr",
     "output_type": "stream",
     "text": [
      "100%|██████████| 500/500 [00:00<00:00, 3890.29it/s]\n"
     ]
    },
    {
     "name": "stdout",
     "output_type": "stream",
     "text": [
      "\n",
      " 共享内存子进程处理样本 23000 到 23499...\n",
      "Using device: mps\n",
      "Using Apple Silicon GPU via Metal Performance Shaders (MPS)\n",
      "Restricted license - for non-production use only - expires 2026-11-23\n",
      "\n",
      "Optimizing for optDataset...\n"
     ]
    },
    {
     "name": "stderr",
     "output_type": "stream",
     "text": [
      "100%|██████████| 500/500 [00:00<00:00, 3925.24it/s]\n"
     ]
    },
    {
     "name": "stdout",
     "output_type": "stream",
     "text": [
      "\n",
      " 共享内存子进程处理样本 23500 到 23999...\n",
      "Using device: mps\n",
      "Using Apple Silicon GPU via Metal Performance Shaders (MPS)\n",
      "Restricted license - for non-production use only - expires 2026-11-23\n",
      "\n",
      "Optimizing for optDataset...\n"
     ]
    },
    {
     "name": "stderr",
     "output_type": "stream",
     "text": [
      "100%|██████████| 500/500 [00:00<00:00, 3904.85it/s]\n"
     ]
    },
    {
     "name": "stdout",
     "output_type": "stream",
     "text": [
      "\n",
      " 共享内存子进程处理样本 24000 到 24499...\n",
      "Using device: mps\n",
      "Using Apple Silicon GPU via Metal Performance Shaders (MPS)\n",
      "Restricted license - for non-production use only - expires 2026-11-23\n",
      "\n",
      "Optimizing for optDataset...\n"
     ]
    },
    {
     "name": "stderr",
     "output_type": "stream",
     "text": [
      "100%|██████████| 500/500 [00:00<00:00, 3936.48it/s]\n"
     ]
    },
    {
     "name": "stdout",
     "output_type": "stream",
     "text": [
      "\n",
      " 共享内存子进程处理样本 24500 到 24999...\n",
      "Using device: mps\n",
      "Using Apple Silicon GPU via Metal Performance Shaders (MPS)\n",
      "Restricted license - for non-production use only - expires 2026-11-23\n",
      "\n",
      "Optimizing for optDataset...\n"
     ]
    },
    {
     "name": "stderr",
     "output_type": "stream",
     "text": [
      "100%|██████████| 500/500 [00:00<00:00, 3879.13it/s]\n"
     ]
    },
    {
     "name": "stdout",
     "output_type": "stream",
     "text": [
      "\n",
      " 共享内存子进程处理样本 25000 到 25499...\n",
      "Using device: mps\n",
      "Using Apple Silicon GPU via Metal Performance Shaders (MPS)\n",
      "Restricted license - for non-production use only - expires 2026-11-23\n",
      "\n",
      "Optimizing for optDataset...\n"
     ]
    },
    {
     "name": "stderr",
     "output_type": "stream",
     "text": [
      "100%|██████████| 500/500 [00:00<00:00, 4006.57it/s]\n"
     ]
    },
    {
     "name": "stdout",
     "output_type": "stream",
     "text": [
      "\n",
      " 共享内存子进程处理样本 25500 到 25999...\n",
      "Using device: mps\n",
      "Using Apple Silicon GPU via Metal Performance Shaders (MPS)\n",
      "Restricted license - for non-production use only - expires 2026-11-23\n",
      "\n",
      "Optimizing for optDataset...\n"
     ]
    },
    {
     "name": "stderr",
     "output_type": "stream",
     "text": [
      "100%|██████████| 500/500 [00:00<00:00, 3940.50it/s]\n"
     ]
    },
    {
     "name": "stdout",
     "output_type": "stream",
     "text": [
      "\n",
      " 共享内存子进程处理样本 26000 到 26201...\n",
      "Using device: mps\n",
      "Using Apple Silicon GPU via Metal Performance Shaders (MPS)\n",
      "Restricted license - for non-production use only - expires 2026-11-23\n",
      "\n",
      "Optimizing for optDataset...\n"
     ]
    },
    {
     "name": "stderr",
     "output_type": "stream",
     "text": [
      "100%|██████████| 202/202 [00:00<00:00, 3964.07it/s]\n"
     ]
    },
    {
     "name": "stdout",
     "output_type": "stream",
     "text": [
      "\n",
      " 合并所有批次...\n"
     ]
    }
   ],
   "source": [
    "### 优化器\n",
    "from config import PRECOMPUTE_BATCH_SIZE, LOOKBACK, PADDING_METHOD\n",
    "from batch_runner import process_and_combine_shared\n",
    "dataset_dict_test = process_and_combine_shared(feats_test, pred_returns, batch_size=PRECOMPUTE_BATCH_SIZE, **params)"
   ]
  },
  {
   "cell_type": "code",
   "execution_count": 13,
   "metadata": {},
   "outputs": [
    {
     "name": "stdout",
     "output_type": "stream",
     "text": [
      "测试集仓位的形状是: (26202, 13)\n"
     ]
    }
   ],
   "source": [
    "# 测试集仓位\n",
    "positions = dataset_dict_test[\"sols\"]\n",
    "print(f\"测试集仓位的形状是: {positions.shape}\")"
   ]
  },
  {
   "cell_type": "code",
   "execution_count": 14,
   "metadata": {},
   "outputs": [
    {
     "name": "stdout",
     "output_type": "stream",
     "text": [
      "pnl series的长度是: 26202\n"
     ]
    }
   ],
   "source": [
    "pnl_series = []\n",
    "for i in range(len(positions)):\n",
    "    pnl = np.nansum(positions[i] * dataset_dict[\"costs\"][i])\n",
    "    pnl_series.append(pnl)\n",
    "print(f\"pnl series的长度是: {len(pnl_series)}\")"
   ]
  },
  {
   "cell_type": "markdown",
   "metadata": {},
   "source": [
    "### Visualize Cumulative Pnl"
   ]
  },
  {
   "cell_type": "code",
   "execution_count": 15,
   "metadata": {},
   "outputs": [
    {
     "data": {
      "image/png": "[encoded data removed]",
      "text/plain": [
       "<Figure size 1000x600 with 1 Axes>"
      ]
     },
     "metadata": {},
     "output_type": "display_data"
    }
   ],
   "source": [
    "import matplotlib.pyplot as plt\n",
    "import pandas as pd\n",
    "\n",
    "def plot_cum_pnl_series(pnl_series, title='Cumulative PnL', figsize=(10, 6)):\n",
    "    \"\"\"\n",
    "    绘制累计 PnL 曲线。\n",
    "\n",
    "    参数\n",
    "    -----\n",
    "    pnl_series : pandas.Series\n",
    "        每期的 PnL 序列，索引为日期或时间点。\n",
    "    title : str, optional\n",
    "        图表标题，默认 'Cumulative PnL'。\n",
    "    figsize : tuple, optional\n",
    "        图表大小，默认为 (10, 6)。\n",
    "    \"\"\"\n",
    "    # 计算累计 PnL\n",
    "    cum_pnl = pd.Series(pnl_series).cumsum()\n",
    "\n",
    "    # 绘图\n",
    "    plt.figure(figsize=figsize)\n",
    "    plt.plot(np.arange(len(cum_pnl)), cum_pnl.values, linewidth=2)\n",
    "    plt.title(title)\n",
    "    plt.xlabel('Date')\n",
    "    plt.ylabel('Cumulative PnL')\n",
    "    plt.grid(True)\n",
    "    plt.tight_layout()\n",
    "    plt.show()\n",
    "\n",
    "plot_cum_pnl_series(pnl_series)\n"
   ]
  }
 ],
 "metadata": {
  "kernelspec": {
   "display_name": "Python 3",
   "language": "python",
   "name": "python3"
  },
  "language_info": {
   "codemirror_mode": {
    "name": "ipython",
    "version": 3
   },
   "file_extension": ".py",
   "mimetype": "text/x-python",
   "name": "python",
   "nbconvert_exporter": "python",
   "pygments_lexer": "ipython3",
   "version": "3.11.4"
  }
 },
 "nbformat": 4,
 "nbformat_minor": 2
}
